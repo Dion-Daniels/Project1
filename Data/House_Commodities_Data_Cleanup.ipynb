{
 "cells": [
  {
   "cell_type": "markdown",
   "metadata": {},
   "source": [
    "### Note\n",
    "* Instructions have been included for each segment. You do not have to follow them exactly, but they are included to help you think through the steps."
   ]
  },
  {
   "cell_type": "code",
   "execution_count": 15,
   "metadata": {},
   "outputs": [],
   "source": [
    "# Dependencies and Setup\n",
    "import pandas as pd\n",
    "from datetime import datetime \n",
    "\n",
    "# Read Ironore_price_market_index_test.csv File and store into Pandas data frame\n",
    "commodity_to_load = \"Resources/Ironore_price_market_index_test.csv\"\n",
    "purchase_data = pd.read_csv(commodity_to_load)\n",
    "#purchase_data"
   ]
  },
  {
   "cell_type": "code",
   "execution_count": 2,
   "metadata": {},
   "outputs": [],
   "source": [
    "#remove empty columns, fix naming error and bring Date in line with other dataframes\n",
    "clean_data = purchase_data[['Date','Iron Price','Silver Price','Gold Price',' Copper Price','S&P GSCI Price']]\n",
    "clean_data = clean_data.rename(columns={' Copper Price': 'Copper Price'})\n",
    "clean_data['Date'] = clean_data['Date'].str[2:]\n",
    "#clean_data\n",
    "\n",
    "#save data to Commodities_clean.csv\n",
    "clean_data.to_csv('Outputs/Commodities_clean.csv')"
   ]
  },
  {
   "cell_type": "code",
   "execution_count": 16,
   "metadata": {},
   "outputs": [],
   "source": [
    "#https://www.kaggle.com/docs/api\n",
    "#https://stackoverflow.com/questions/64393520/r-not-working-as-lineterminator-within-python-csv-writer\n",
    "# Read all_perth_310121.csv File and store into Pandas data frame\n",
    "perth_to_load = \"Resources/all_perth_310121.csv\"\n",
    "\n",
    "perth_data = pd.read_csv(perth_to_load)\n"
   ]
  },
  {
   "cell_type": "code",
   "execution_count": 17,
   "metadata": {},
   "outputs": [],
   "source": [
    "#fix up Date_sold format errors and bring in line with other datasets\n",
    "perth_data[\"DATE_SOLD\"] = perth_data[\"DATE_SOLD\"].str.replace('\\r','')\n",
    "perth_data[\"DATE_SOLD\"] = perth_data[\"DATE_SOLD\"].str.replace('-','/')\n",
    "#perth_data"
   ]
  },
  {
   "cell_type": "code",
   "execution_count": 5,
   "metadata": {},
   "outputs": [],
   "source": [
    "#Limit dataframe to variables of interest\n",
    "clean_perth = perth_data[['SUBURB',\n",
    "                          'PRICE',\n",
    "                          'BEDROOMS',\n",
    "                          'BATHROOMS',\n",
    "                          'GARAGE',\n",
    "                          'LAND_AREA',\n",
    "                          'FLOOR_AREA',\n",
    "                          'DATE_SOLD',\n",
    "                          'POSTCODE',\n",
    "                          'LATITUDE',\n",
    "                          'LONGITUDE']]\n",
    "clean_perth = clean_perth.rename(columns={'DATE_SOLD': 'Date'})\n",
    "#Add unique ID and add City for later merging with Sydney data\n",
    "clean_perth.insert(0, 'ID', range(1, 1 + len(clean_perth)))\n",
    "clean_perth['CITY'] = \"Perth\"\n",
    "#clean_perth"
   ]
  },
  {
   "cell_type": "code",
   "execution_count": 6,
   "metadata": {},
   "outputs": [],
   "source": [
    "#merge Perth data with Commodities data \n",
    "Perth_commodities_df = pd.merge(clean_data, clean_perth, on=\"Date\",how=\"inner\")\n",
    "#Perth_commodities_df"
   ]
  },
  {
   "cell_type": "code",
   "execution_count": 7,
   "metadata": {},
   "outputs": [],
   "source": [
    "#save data to perth_clean.csv\n",
    "Perth_commodities_df.to_csv('Outputs/perth_clean.csv')"
   ]
  },
  {
   "cell_type": "code",
   "execution_count": 8,
   "metadata": {},
   "outputs": [],
   "source": [
    "# Read SydneyHousePrices.csv File and store into Pandas data frame\n",
    "Sydney_to_load = \"SydneyHousePrices.csv\"\n",
    "Sydney_data = pd.read_csv(Sydney_to_load)"
   ]
  },
  {
   "cell_type": "code",
   "execution_count": 9,
   "metadata": {},
   "outputs": [],
   "source": [
    "#Add City indicator for when merged with Perth data\n",
    "Sydney_data[\"CITY\"] = \"Sydney\"\n",
    "#sanity check to see earliest date\n",
    "#Sydney_data.sort_values(by=['Date'])\n"
   ]
  },
  {
   "cell_type": "code",
   "execution_count": 10,
   "metadata": {},
   "outputs": [],
   "source": [
    "#Change the Date from string to datetime then convert to desired format \n",
    "Sydney_data['Date'] = pd.to_datetime(Sydney_data['Date'], errors='coerce')\n",
    "Sydney_data['Date'] = Sydney_data[\"Date\"].dt.strftime(\"%m/20%y\")\n",
    "#Sydney_data"
   ]
  },
  {
   "cell_type": "code",
   "execution_count": 11,
   "metadata": {},
   "outputs": [],
   "source": [
    "#Rename columns matching Perth data to combine later\n",
    "clean_Sydney = Sydney_data.rename(columns={'Id':'ID',\n",
    "                          'suburb':'SUBURB',\n",
    "                          'sellPrice':'PRICE',\n",
    "                          'bed':'BEDROOMS',\n",
    "                          'bath':'BATHROOMS',\n",
    "                          'car':'GARAGE',\n",
    "                          'postalCode':'POSTCODE'})\n",
    "#clean_Sydney"
   ]
  },
  {
   "cell_type": "code",
   "execution_count": 12,
   "metadata": {},
   "outputs": [],
   "source": [
    "#merge commodity prices with Sydney data\n",
    "sydney_commodities_df = pd.merge(clean_data, clean_Sydney, on=\"Date\",how=\"inner\")\n",
    "#sydney_commodities_df\n",
    "#save data to sydney_clean.csv\n",
    "sydney_commodities_df.to_csv('Outputs/sydney_clean.csv')"
   ]
  },
  {
   "cell_type": "code",
   "execution_count": 13,
   "metadata": {},
   "outputs": [],
   "source": [
    "#combine Perth and Sydney data into one DataFrame\n",
    "complete_city_df = pd.concat([clean_Sydney, clean_perth], ignore_index=True)\n",
    "#limit variables to match eachother\n",
    "complete_city_df = complete_city_df[[\n",
    "                          'SUBURB',\n",
    "                          'PRICE',\n",
    "                          'BEDROOMS',\n",
    "                          'BATHROOMS',\n",
    "                          'GARAGE',\n",
    "                          'Date',\n",
    "                          'POSTCODE',\n",
    "                           'CITY']]\n",
    "\n",
    "#merge commodity prices with city data and add unique ID for each sale\n",
    "complete_df = pd.merge(clean_data, complete_city_df, on=\"Date\",how=\"inner\")\n",
    "complete_df.insert(0, 'ID', range(1, 1 + len(complete_df)))\n",
    "#complete_df"
   ]
  },
  {
   "cell_type": "code",
   "execution_count": 14,
   "metadata": {},
   "outputs": [],
   "source": [
    "#save data to complete_house_commodities.csv\n",
    "complete_df.to_csv('Outputs/complete_house_commodities.csv')"
   ]
  },
  {
   "cell_type": "code",
   "execution_count": null,
   "metadata": {},
   "outputs": [],
   "source": []
  }
 ],
 "metadata": {
  "anaconda-cloud": {},
  "kernel_info": {
   "name": "python3"
  },
  "kernelspec": {
   "display_name": "Python 3 (ipykernel)",
   "language": "python",
   "name": "python3"
  },
  "language_info": {
   "codemirror_mode": {
    "name": "ipython",
    "version": 3
   },
   "file_extension": ".py",
   "mimetype": "text/x-python",
   "name": "python",
   "nbconvert_exporter": "python",
   "pygments_lexer": "ipython3",
   "version": "3.9.7"
  },
  "latex_envs": {
   "LaTeX_envs_menu_present": true,
   "autoclose": false,
   "autocomplete": true,
   "bibliofile": "biblio.bib",
   "cite_by": "apalike",
   "current_citInitial": 1,
   "eqLabelWithNumbers": true,
   "eqNumInitial": 1,
   "hotkeys": {
    "equation": "Ctrl-E",
    "itemize": "Ctrl-I"
   },
   "labels_anchors": false,
   "latex_user_defs": false,
   "report_style_numbering": false,
   "user_envs_cfg": false
  },
  "nteract": {
   "version": "0.2.0"
  }
 },
 "nbformat": 4,
 "nbformat_minor": 4
}
