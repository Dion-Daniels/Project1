{
 "cells": [
  {
   "cell_type": "markdown",
   "metadata": {},
   "source": [
    "### Note\n",
    "* Instructions have been included for each segment. You do not have to follow them exactly, but they are included to help you think through the steps."
   ]
  },
  {
   "cell_type": "code",
<<<<<<< HEAD
   "execution_count": 1,
=======
   "execution_count": 43,
>>>>>>> main
   "metadata": {},
   "outputs": [],
   "source": [
    "# Dependencies and Setup\n",
    "import pandas as pd\n",
    "from datetime import datetime \n",
    "import matplotlib.pyplot as plt\n",
    "import scipy.stats as st\n",
    "import numpy as np\n",
    "# Read Ironore_price_market_index_test.csv File and store into Pandas data frame\n",
    "commodity_to_load = \"Resources/Ironore_price_market_index_test.csv\"\n",
    "purchase_data = pd.read_csv(commodity_to_load)\n",
    "#purchase_data"
   ]
  },
  {
   "cell_type": "code",
<<<<<<< HEAD
   "execution_count": 2,
=======
   "execution_count": 44,
>>>>>>> main
   "metadata": {},
   "outputs": [],
   "source": [
    "#remove empty columns, fix naming error and bring Date in line with other dataframes\n",
    "clean_data = purchase_data[['Date','Iron Price','Silver Price','Gold Price',' Copper Price','S&P GSCI Price']]\n",
    "clean_data = clean_data.rename(columns={' Copper Price': 'Copper_Price',\n",
    "                                       'Iron Price':'Iron_Price',\n",
    "                                        'Silver Price':'Silver_Price',\n",
    "                                        'Gold Price':'Gold_Price',\n",
    "                                       'S&P GSCI Price':'S&P_GSCI_Price'})\n",
    "\n",
    "clean_data['Date'] = clean_data['Date'].str[2:]\n",
<<<<<<< HEAD
    "clean_data['Date'] = pd.to_datetime(clean_data['Date']).dt.to_period('Q')\n",
=======
    "clean_data['Date'] = pd.to_datetime(clean_data['Date']).dt.to_period('M')\n",
>>>>>>> main
    "clean_data\n",
    "\n",
    "#save data to Commodities_clean.csv\n",
    "clean_data.to_csv('Outputs/Commodities_clean.csv')"
   ]
  },
  {
   "cell_type": "code",
<<<<<<< HEAD
   "execution_count": 3,
   "metadata": {},
   "outputs": [],
   "source": [
    "iron_data = clean_data[['Date','Iron_Price']]\n",
    "iron_data.to_csv('Outputs/iron_data.csv')"
=======
   "execution_count": 45,
   "metadata": {},
   "outputs": [],
   "source": [
    "iron_data = clean_data[['Date','Iron_Price']]\n"
>>>>>>> main
   ]
  },
  {
   "cell_type": "code",
<<<<<<< HEAD
   "execution_count": 4,
=======
   "execution_count": 46,
>>>>>>> main
   "metadata": {},
   "outputs": [],
   "source": [
    "#https://www.kaggle.com/docs/api\n",
    "#https://stackoverflow.com/questions/64393520/r-not-working-as-lineterminator-within-python-csv-writer\n",
    "# Read all_perth_310121.csv File and store into Pandas data frame\n",
    "perth_to_load = \"Resources/all_perth_310121.csv\"\n",
    "\n",
    "perth_data = pd.read_csv(perth_to_load)\n"
   ]
  },
  {
   "cell_type": "code",
<<<<<<< HEAD
   "execution_count": 5,
=======
   "execution_count": 47,
>>>>>>> main
   "metadata": {},
   "outputs": [
    {
     "data": {
      "text/html": [
       "<div>\n",
       "<style scoped>\n",
       "    .dataframe tbody tr th:only-of-type {\n",
       "        vertical-align: middle;\n",
       "    }\n",
       "\n",
       "    .dataframe tbody tr th {\n",
       "        vertical-align: top;\n",
       "    }\n",
       "\n",
       "    .dataframe thead th {\n",
       "        text-align: right;\n",
       "    }\n",
       "</style>\n",
       "<table border=\"1\" class=\"dataframe\">\n",
       "  <thead>\n",
       "    <tr style=\"text-align: right;\">\n",
       "      <th></th>\n",
       "      <th>ADDRESS</th>\n",
       "      <th>SUBURB</th>\n",
       "      <th>PRICE</th>\n",
       "      <th>BEDROOMS</th>\n",
       "      <th>BATHROOMS</th>\n",
       "      <th>GARAGE</th>\n",
       "      <th>LAND_AREA</th>\n",
       "      <th>FLOOR_AREA</th>\n",
       "      <th>BUILD_YEAR</th>\n",
       "      <th>CBD_DIST</th>\n",
       "      <th>NEAREST_STN</th>\n",
       "      <th>NEAREST_STN_DIST</th>\n",
       "      <th>DATE_SOLD</th>\n",
       "      <th>POSTCODE</th>\n",
       "      <th>LATITUDE</th>\n",
       "      <th>LONGITUDE</th>\n",
       "      <th>NEAREST_SCH</th>\n",
       "      <th>NEAREST_SCH_DIST</th>\n",
       "      <th>NEAREST_SCH_RANK</th>\n",
       "    </tr>\n",
       "  </thead>\n",
       "  <tbody>\n",
       "    <tr>\n",
       "      <th>0</th>\n",
       "      <td>1 Acorn Place</td>\n",
       "      <td>South Lake</td>\n",
       "      <td>565000</td>\n",
       "      <td>4</td>\n",
       "      <td>2</td>\n",
       "      <td>2.0</td>\n",
       "      <td>600</td>\n",
       "      <td>160</td>\n",
       "      <td>2003.0</td>\n",
       "      <td>18300</td>\n",
       "      <td>Cockburn Central Station</td>\n",
       "      <td>1800</td>\n",
<<<<<<< HEAD
       "      <td>2018Q3</td>\n",
=======
       "      <td>2018-09</td>\n",
>>>>>>> main
       "      <td>6164</td>\n",
       "      <td>-32.115900</td>\n",
       "      <td>115.842450</td>\n",
       "      <td>LAKELAND SENIOR HIGH SCHOOL</td>\n",
       "      <td>0.828339</td>\n",
       "      <td>NaN</td>\n",
       "    </tr>\n",
       "    <tr>\n",
       "      <th>1</th>\n",
       "      <td>1 Addis Way</td>\n",
       "      <td>Wandi</td>\n",
       "      <td>365000</td>\n",
       "      <td>3</td>\n",
       "      <td>2</td>\n",
       "      <td>2.0</td>\n",
       "      <td>351</td>\n",
       "      <td>139</td>\n",
       "      <td>2013.0</td>\n",
       "      <td>26900</td>\n",
       "      <td>Kwinana Station</td>\n",
       "      <td>4900</td>\n",
<<<<<<< HEAD
       "      <td>2019Q1</td>\n",
=======
       "      <td>2019-02</td>\n",
>>>>>>> main
       "      <td>6167</td>\n",
       "      <td>-32.193470</td>\n",
       "      <td>115.859554</td>\n",
       "      <td>ATWELL COLLEGE</td>\n",
       "      <td>5.524324</td>\n",
       "      <td>129.0</td>\n",
       "    </tr>\n",
       "    <tr>\n",
       "      <th>2</th>\n",
       "      <td>1 Ainsley Court</td>\n",
       "      <td>Camillo</td>\n",
       "      <td>287000</td>\n",
       "      <td>3</td>\n",
       "      <td>1</td>\n",
       "      <td>1.0</td>\n",
       "      <td>719</td>\n",
       "      <td>86</td>\n",
       "      <td>1979.0</td>\n",
       "      <td>22600</td>\n",
       "      <td>Challis Station</td>\n",
       "      <td>1900</td>\n",
<<<<<<< HEAD
       "      <td>2015Q2</td>\n",
=======
       "      <td>2015-06</td>\n",
>>>>>>> main
       "      <td>6111</td>\n",
       "      <td>-32.120578</td>\n",
       "      <td>115.993579</td>\n",
       "      <td>KELMSCOTT SENIOR HIGH SCHOOL</td>\n",
       "      <td>1.649178</td>\n",
       "      <td>113.0</td>\n",
       "    </tr>\n",
       "    <tr>\n",
       "      <th>3</th>\n",
       "      <td>1 Albert Street</td>\n",
       "      <td>Bellevue</td>\n",
       "      <td>255000</td>\n",
       "      <td>2</td>\n",
       "      <td>1</td>\n",
       "      <td>2.0</td>\n",
       "      <td>651</td>\n",
       "      <td>59</td>\n",
       "      <td>1953.0</td>\n",
       "      <td>17900</td>\n",
       "      <td>Midland Station</td>\n",
       "      <td>3600</td>\n",
<<<<<<< HEAD
       "      <td>2018Q3</td>\n",
=======
       "      <td>2018-07</td>\n",
>>>>>>> main
       "      <td>6056</td>\n",
       "      <td>-31.900547</td>\n",
       "      <td>116.038009</td>\n",
       "      <td>SWAN VIEW SENIOR HIGH SCHOOL</td>\n",
       "      <td>1.571401</td>\n",
       "      <td>NaN</td>\n",
       "    </tr>\n",
       "    <tr>\n",
       "      <th>4</th>\n",
       "      <td>1 Aman Place</td>\n",
       "      <td>Lockridge</td>\n",
       "      <td>325000</td>\n",
       "      <td>4</td>\n",
       "      <td>1</td>\n",
       "      <td>2.0</td>\n",
       "      <td>466</td>\n",
       "      <td>131</td>\n",
       "      <td>1998.0</td>\n",
       "      <td>11200</td>\n",
       "      <td>Bassendean Station</td>\n",
       "      <td>2000</td>\n",
<<<<<<< HEAD
       "      <td>2016Q4</td>\n",
=======
       "      <td>2016-11</td>\n",
>>>>>>> main
       "      <td>6054</td>\n",
       "      <td>-31.885790</td>\n",
       "      <td>115.947780</td>\n",
       "      <td>KIARA COLLEGE</td>\n",
       "      <td>1.514922</td>\n",
       "      <td>NaN</td>\n",
       "    </tr>\n",
       "    <tr>\n",
       "      <th>...</th>\n",
       "      <td>...</td>\n",
       "      <td>...</td>\n",
       "      <td>...</td>\n",
       "      <td>...</td>\n",
       "      <td>...</td>\n",
       "      <td>...</td>\n",
       "      <td>...</td>\n",
       "      <td>...</td>\n",
       "      <td>...</td>\n",
       "      <td>...</td>\n",
       "      <td>...</td>\n",
       "      <td>...</td>\n",
       "      <td>...</td>\n",
       "      <td>...</td>\n",
       "      <td>...</td>\n",
       "      <td>...</td>\n",
       "      <td>...</td>\n",
       "      <td>...</td>\n",
       "      <td>...</td>\n",
       "    </tr>\n",
       "    <tr>\n",
       "      <th>33651</th>\n",
       "      <td>9C Gold Street</td>\n",
       "      <td>South Fremantle</td>\n",
       "      <td>1040000</td>\n",
       "      <td>4</td>\n",
       "      <td>3</td>\n",
       "      <td>2.0</td>\n",
       "      <td>292</td>\n",
       "      <td>245</td>\n",
       "      <td>2013.0</td>\n",
       "      <td>16100</td>\n",
       "      <td>Fremantle Station</td>\n",
       "      <td>1500</td>\n",
<<<<<<< HEAD
       "      <td>2016Q1</td>\n",
=======
       "      <td>2016-03</td>\n",
>>>>>>> main
       "      <td>6162</td>\n",
       "      <td>-32.064580</td>\n",
       "      <td>115.751820</td>\n",
       "      <td>CHRISTIAN BROTHERS' COLLEGE</td>\n",
       "      <td>1.430350</td>\n",
       "      <td>49.0</td>\n",
       "    </tr>\n",
       "    <tr>\n",
       "      <th>33652</th>\n",
       "      <td>9C Pycombe Way</td>\n",
       "      <td>Westminster</td>\n",
       "      <td>410000</td>\n",
       "      <td>3</td>\n",
       "      <td>2</td>\n",
       "      <td>2.0</td>\n",
       "      <td>228</td>\n",
       "      <td>114</td>\n",
       "      <td>NaN</td>\n",
       "      <td>9600</td>\n",
       "      <td>Stirling Station</td>\n",
       "      <td>4600</td>\n",
<<<<<<< HEAD
       "      <td>2017Q1</td>\n",
=======
       "      <td>2017-02</td>\n",
>>>>>>> main
       "      <td>6061</td>\n",
       "      <td>-31.867055</td>\n",
       "      <td>115.841403</td>\n",
       "      <td>JOHN SEPTIMUS ROE ANGLICAN COMMUNITY SCHOOL</td>\n",
       "      <td>1.679644</td>\n",
       "      <td>35.0</td>\n",
       "    </tr>\n",
       "    <tr>\n",
       "      <th>33653</th>\n",
       "      <td>9D Pycombe Way</td>\n",
       "      <td>Westminster</td>\n",
       "      <td>427000</td>\n",
       "      <td>3</td>\n",
       "      <td>2</td>\n",
       "      <td>2.0</td>\n",
       "      <td>261</td>\n",
       "      <td>112</td>\n",
       "      <td>NaN</td>\n",
       "      <td>9600</td>\n",
       "      <td>Stirling Station</td>\n",
       "      <td>4600</td>\n",
<<<<<<< HEAD
       "      <td>2017Q1</td>\n",
=======
       "      <td>2017-02</td>\n",
>>>>>>> main
       "      <td>6061</td>\n",
       "      <td>-31.866890</td>\n",
       "      <td>115.841418</td>\n",
       "      <td>JOHN SEPTIMUS ROE ANGLICAN COMMUNITY SCHOOL</td>\n",
       "      <td>1.669159</td>\n",
       "      <td>35.0</td>\n",
       "    </tr>\n",
       "    <tr>\n",
       "      <th>33654</th>\n",
       "      <td>9D Shalford Way</td>\n",
       "      <td>Girrawheen</td>\n",
       "      <td>295000</td>\n",
       "      <td>3</td>\n",
       "      <td>1</td>\n",
       "      <td>2.0</td>\n",
       "      <td>457</td>\n",
       "      <td>85</td>\n",
       "      <td>1974.0</td>\n",
       "      <td>12600</td>\n",
       "      <td>Warwick Station</td>\n",
       "      <td>4400</td>\n",
<<<<<<< HEAD
       "      <td>2016Q4</td>\n",
=======
       "      <td>2016-10</td>\n",
>>>>>>> main
       "      <td>6064</td>\n",
       "      <td>-31.839680</td>\n",
       "      <td>115.842410</td>\n",
       "      <td>GIRRAWHEEN SENIOR HIGH SCHOOL</td>\n",
       "      <td>0.358494</td>\n",
       "      <td>NaN</td>\n",
       "    </tr>\n",
       "    <tr>\n",
       "      <th>33655</th>\n",
       "      <td>9E Margaret Street</td>\n",
       "      <td>Midland</td>\n",
       "      <td>295000</td>\n",
       "      <td>3</td>\n",
       "      <td>1</td>\n",
       "      <td>2.0</td>\n",
       "      <td>296</td>\n",
       "      <td>95</td>\n",
       "      <td>NaN</td>\n",
       "      <td>16700</td>\n",
       "      <td>Midland Station</td>\n",
       "      <td>1700</td>\n",
<<<<<<< HEAD
       "      <td>2016Q2</td>\n",
=======
       "      <td>2016-05</td>\n",
>>>>>>> main
       "      <td>6056</td>\n",
       "      <td>-31.882163</td>\n",
       "      <td>116.014755</td>\n",
       "      <td>LA SALLE COLLEGE</td>\n",
       "      <td>1.055564</td>\n",
       "      <td>53.0</td>\n",
       "    </tr>\n",
       "  </tbody>\n",
       "</table>\n",
       "<p>33656 rows × 19 columns</p>\n",
       "</div>"
      ],
      "text/plain": [
       "                  ADDRESS           SUBURB    PRICE  BEDROOMS  BATHROOMS  \\\n",
       "0           1 Acorn Place       South Lake   565000         4          2   \n",
       "1             1 Addis Way            Wandi   365000         3          2   \n",
       "2         1 Ainsley Court          Camillo   287000         3          1   \n",
       "3         1 Albert Street         Bellevue   255000         2          1   \n",
       "4            1 Aman Place        Lockridge   325000         4          1   \n",
       "...                   ...              ...      ...       ...        ...   \n",
       "33651      9C Gold Street  South Fremantle  1040000         4          3   \n",
       "33652      9C Pycombe Way      Westminster   410000         3          2   \n",
       "33653      9D Pycombe Way      Westminster   427000         3          2   \n",
       "33654     9D Shalford Way       Girrawheen   295000         3          1   \n",
       "33655  9E Margaret Street          Midland   295000         3          1   \n",
       "\n",
       "       GARAGE  LAND_AREA  FLOOR_AREA  BUILD_YEAR  CBD_DIST  \\\n",
       "0         2.0        600         160      2003.0     18300   \n",
       "1         2.0        351         139      2013.0     26900   \n",
       "2         1.0        719          86      1979.0     22600   \n",
       "3         2.0        651          59      1953.0     17900   \n",
       "4         2.0        466         131      1998.0     11200   \n",
       "...       ...        ...         ...         ...       ...   \n",
       "33651     2.0        292         245      2013.0     16100   \n",
       "33652     2.0        228         114         NaN      9600   \n",
       "33653     2.0        261         112         NaN      9600   \n",
       "33654     2.0        457          85      1974.0     12600   \n",
       "33655     2.0        296          95         NaN     16700   \n",
       "\n",
       "                    NEAREST_STN  NEAREST_STN_DIST DATE_SOLD  POSTCODE  \\\n",
<<<<<<< HEAD
       "0      Cockburn Central Station              1800    2018Q3      6164   \n",
       "1               Kwinana Station              4900    2019Q1      6167   \n",
       "2               Challis Station              1900    2015Q2      6111   \n",
       "3               Midland Station              3600    2018Q3      6056   \n",
       "4            Bassendean Station              2000    2016Q4      6054   \n",
       "...                         ...               ...       ...       ...   \n",
       "33651         Fremantle Station              1500    2016Q1      6162   \n",
       "33652          Stirling Station              4600    2017Q1      6061   \n",
       "33653          Stirling Station              4600    2017Q1      6061   \n",
       "33654           Warwick Station              4400    2016Q4      6064   \n",
       "33655           Midland Station              1700    2016Q2      6056   \n",
=======
       "0      Cockburn Central Station              1800   2018-09      6164   \n",
       "1               Kwinana Station              4900   2019-02      6167   \n",
       "2               Challis Station              1900   2015-06      6111   \n",
       "3               Midland Station              3600   2018-07      6056   \n",
       "4            Bassendean Station              2000   2016-11      6054   \n",
       "...                         ...               ...       ...       ...   \n",
       "33651         Fremantle Station              1500   2016-03      6162   \n",
       "33652          Stirling Station              4600   2017-02      6061   \n",
       "33653          Stirling Station              4600   2017-02      6061   \n",
       "33654           Warwick Station              4400   2016-10      6064   \n",
       "33655           Midland Station              1700   2016-05      6056   \n",
>>>>>>> main
       "\n",
       "        LATITUDE   LONGITUDE                                  NEAREST_SCH  \\\n",
       "0     -32.115900  115.842450                  LAKELAND SENIOR HIGH SCHOOL   \n",
       "1     -32.193470  115.859554                               ATWELL COLLEGE   \n",
       "2     -32.120578  115.993579                 KELMSCOTT SENIOR HIGH SCHOOL   \n",
       "3     -31.900547  116.038009                 SWAN VIEW SENIOR HIGH SCHOOL   \n",
       "4     -31.885790  115.947780                                KIARA COLLEGE   \n",
       "...          ...         ...                                          ...   \n",
       "33651 -32.064580  115.751820                  CHRISTIAN BROTHERS' COLLEGE   \n",
       "33652 -31.867055  115.841403  JOHN SEPTIMUS ROE ANGLICAN COMMUNITY SCHOOL   \n",
       "33653 -31.866890  115.841418  JOHN SEPTIMUS ROE ANGLICAN COMMUNITY SCHOOL   \n",
       "33654 -31.839680  115.842410                GIRRAWHEEN SENIOR HIGH SCHOOL   \n",
       "33655 -31.882163  116.014755                             LA SALLE COLLEGE   \n",
       "\n",
       "       NEAREST_SCH_DIST  NEAREST_SCH_RANK  \n",
       "0              0.828339               NaN  \n",
       "1              5.524324             129.0  \n",
       "2              1.649178             113.0  \n",
       "3              1.571401               NaN  \n",
       "4              1.514922               NaN  \n",
       "...                 ...               ...  \n",
       "33651          1.430350              49.0  \n",
       "33652          1.679644              35.0  \n",
       "33653          1.669159              35.0  \n",
       "33654          0.358494               NaN  \n",
       "33655          1.055564              53.0  \n",
       "\n",
       "[33656 rows x 19 columns]"
      ]
     },
<<<<<<< HEAD
     "execution_count": 5,
=======
     "execution_count": 47,
>>>>>>> main
     "metadata": {},
     "output_type": "execute_result"
    }
   ],
   "source": [
    "#fix up Date_sold format errors and bring in line with other datasets\n",
    "perth_data[\"DATE_SOLD\"] = perth_data[\"DATE_SOLD\"].str.replace('\\r','')\n",
<<<<<<< HEAD
    "perth_data[\"DATE_SOLD\"] = pd.to_datetime(perth_data[\"DATE_SOLD\"]).dt.to_period('Q')\n",
=======
    "perth_data[\"DATE_SOLD\"] = pd.to_datetime(perth_data[\"DATE_SOLD\"]).dt.to_period('M')\n",
>>>>>>> main
    "perth_data"
   ]
  },
  {
   "cell_type": "code",
<<<<<<< HEAD
   "execution_count": 6,
=======
   "execution_count": 48,
>>>>>>> main
   "metadata": {},
   "outputs": [],
   "source": [
    "#Limit dataframe to variables of interest\n",
    "clean_perth = perth_data[['SUBURB',\n",
    "                          'PRICE',\n",
    "                          'BEDROOMS',\n",
    "                          'BATHROOMS',\n",
    "                          'DATE_SOLD',\n",
    "                          'POSTCODE']]\n",
    "clean_perth = clean_perth.rename(columns={'DATE_SOLD': 'Date'})\n",
    "#Add unique ID and add City for later merging with Sydney data\n",
    "clean_perth.insert(0, 'ID', range(1, 1 + len(clean_perth)))\n",
    "clean_perth['CITY'] = \"Perth\"\n",
    "#clean_perth"
   ]
  },
  {
   "cell_type": "code",
<<<<<<< HEAD
   "execution_count": 7,
=======
   "execution_count": 49,
>>>>>>> main
   "metadata": {},
   "outputs": [],
   "source": [
    "#merge Perth data with Commodities data \n",
    "Perth_commodities_df = pd.merge(clean_data, clean_perth, on=\"Date\",how=\"inner\")\n",
    "#Perth_commodities_df"
   ]
  },
  {
   "cell_type": "code",
<<<<<<< HEAD
   "execution_count": 8,
=======
   "execution_count": 50,
>>>>>>> main
   "metadata": {},
   "outputs": [],
   "source": [
    "#save data to perth_clean.csv\n",
    "Perth_commodities_df.to_csv('Outputs/perth_housing.csv')"
   ]
  },
  {
   "cell_type": "code",
<<<<<<< HEAD
   "execution_count": 9,
=======
   "execution_count": 51,
>>>>>>> main
   "metadata": {},
   "outputs": [],
   "source": [
    "#Create Perth data frame with Iron ore prices\n",
    "perth_iron_df = pd.merge(iron_data, clean_perth, on=\"Date\",how=\"inner\")\n",
    "perth_iron_df.to_csv('Outputs/perth_iron_housing.csv')\n"
   ]
  },
  {
   "cell_type": "code",
<<<<<<< HEAD
   "execution_count": 10,
=======
   "execution_count": 52,
>>>>>>> main
   "metadata": {},
   "outputs": [],
   "source": [
    "# Read SydneyHousePrices.csv File and store into Pandas data frame\n",
    "Sydney_to_load = \"Resources/SydneyHousePrices.csv\"\n",
    "Sydney_data = pd.read_csv(Sydney_to_load)"
   ]
  },
  {
   "cell_type": "code",
<<<<<<< HEAD
   "execution_count": 11,
=======
   "execution_count": 53,
>>>>>>> main
   "metadata": {},
   "outputs": [
    {
     "data": {
      "text/html": [
       "<div>\n",
       "<style scoped>\n",
       "    .dataframe tbody tr th:only-of-type {\n",
       "        vertical-align: middle;\n",
       "    }\n",
       "\n",
       "    .dataframe tbody tr th {\n",
       "        vertical-align: top;\n",
       "    }\n",
       "\n",
       "    .dataframe thead th {\n",
       "        text-align: right;\n",
       "    }\n",
       "</style>\n",
       "<table border=\"1\" class=\"dataframe\">\n",
       "  <thead>\n",
       "    <tr style=\"text-align: right;\">\n",
       "      <th></th>\n",
       "      <th>Date</th>\n",
       "      <th>Id</th>\n",
       "      <th>suburb</th>\n",
       "      <th>postalCode</th>\n",
       "      <th>sellPrice</th>\n",
       "      <th>bed</th>\n",
       "      <th>bath</th>\n",
       "      <th>car</th>\n",
       "      <th>propType</th>\n",
       "      <th>CITY</th>\n",
       "    </tr>\n",
       "  </thead>\n",
       "  <tbody>\n",
       "    <tr>\n",
       "      <th>92372</th>\n",
       "      <td>2000-12-01</td>\n",
       "      <td>92373</td>\n",
       "      <td>Bondi Beach</td>\n",
       "      <td>2026</td>\n",
       "      <td>3565000</td>\n",
       "      <td>10.0</td>\n",
       "      <td>5</td>\n",
       "      <td>3.0</td>\n",
       "      <td>house</td>\n",
       "      <td>Sydney</td>\n",
       "    </tr>\n",
       "    <tr>\n",
       "      <th>147100</th>\n",
       "      <td>2001-02-02</td>\n",
       "      <td>147101</td>\n",
       "      <td>Padstow</td>\n",
       "      <td>2211</td>\n",
       "      <td>960000</td>\n",
       "      <td>4.0</td>\n",
       "      <td>2</td>\n",
       "      <td>2.0</td>\n",
       "      <td>house</td>\n",
       "      <td>Sydney</td>\n",
       "    </tr>\n",
       "    <tr>\n",
       "      <th>20553</th>\n",
       "      <td>2001-03-13</td>\n",
       "      <td>20554</td>\n",
       "      <td>Allambie Heights</td>\n",
       "      <td>2100</td>\n",
       "      <td>896000</td>\n",
       "      <td>4.0</td>\n",
       "      <td>2</td>\n",
       "      <td>2.0</td>\n",
       "      <td>house</td>\n",
       "      <td>Sydney</td>\n",
       "    </tr>\n",
       "    <tr>\n",
       "      <th>75402</th>\n",
       "      <td>2001-04-06</td>\n",
       "      <td>75403</td>\n",
       "      <td>Cammeray</td>\n",
       "      <td>2062</td>\n",
       "      <td>463000</td>\n",
       "      <td>2.0</td>\n",
       "      <td>1</td>\n",
       "      <td>2.0</td>\n",
       "      <td>townhouse</td>\n",
       "      <td>Sydney</td>\n",
       "    </tr>\n",
       "    <tr>\n",
       "      <th>32743</th>\n",
       "      <td>2001-09-20</td>\n",
       "      <td>32744</td>\n",
       "      <td>Cremorne</td>\n",
       "      <td>2090</td>\n",
       "      <td>372000</td>\n",
       "      <td>2.0</td>\n",
       "      <td>1</td>\n",
       "      <td>1.0</td>\n",
       "      <td>house</td>\n",
       "      <td>Sydney</td>\n",
       "    </tr>\n",
       "    <tr>\n",
       "      <th>...</th>\n",
       "      <td>...</td>\n",
       "      <td>...</td>\n",
       "      <td>...</td>\n",
       "      <td>...</td>\n",
       "      <td>...</td>\n",
       "      <td>...</td>\n",
       "      <td>...</td>\n",
       "      <td>...</td>\n",
       "      <td>...</td>\n",
       "      <td>...</td>\n",
       "    </tr>\n",
       "    <tr>\n",
       "      <th>39731</th>\n",
       "      <td>2019-07-06</td>\n",
       "      <td>39732</td>\n",
       "      <td>Collaroy Plateau</td>\n",
       "      <td>2097</td>\n",
       "      <td>5350000</td>\n",
       "      <td>5.0</td>\n",
       "      <td>5</td>\n",
       "      <td>5.0</td>\n",
       "      <td>house</td>\n",
       "      <td>Sydney</td>\n",
       "    </tr>\n",
       "    <tr>\n",
       "      <th>165955</th>\n",
       "      <td>2019-07-06</td>\n",
       "      <td>165956</td>\n",
       "      <td>Annandale</td>\n",
       "      <td>2038</td>\n",
       "      <td>1955000</td>\n",
       "      <td>3.0</td>\n",
       "      <td>2</td>\n",
       "      <td>NaN</td>\n",
       "      <td>house</td>\n",
       "      <td>Sydney</td>\n",
       "    </tr>\n",
       "    <tr>\n",
       "      <th>149351</th>\n",
       "      <td>2019-07-06</td>\n",
       "      <td>149352</td>\n",
       "      <td>South Penrith</td>\n",
       "      <td>2750</td>\n",
       "      <td>555000</td>\n",
       "      <td>3.0</td>\n",
       "      <td>1</td>\n",
       "      <td>NaN</td>\n",
       "      <td>house</td>\n",
       "      <td>Sydney</td>\n",
       "    </tr>\n",
       "    <tr>\n",
       "      <th>67691</th>\n",
       "      <td>2019-07-06</td>\n",
       "      <td>67692</td>\n",
       "      <td>West Pennant Hills</td>\n",
       "      <td>2125</td>\n",
       "      <td>1682000</td>\n",
       "      <td>4.0</td>\n",
       "      <td>3</td>\n",
       "      <td>3.0</td>\n",
       "      <td>house</td>\n",
       "      <td>Sydney</td>\n",
       "    </tr>\n",
       "    <tr>\n",
       "      <th>177664</th>\n",
       "      <td>2019-07-06</td>\n",
       "      <td>177665</td>\n",
       "      <td>Milperra</td>\n",
       "      <td>2214</td>\n",
       "      <td>865000</td>\n",
       "      <td>5.0</td>\n",
       "      <td>3</td>\n",
       "      <td>1.0</td>\n",
       "      <td>house</td>\n",
       "      <td>Sydney</td>\n",
       "    </tr>\n",
       "  </tbody>\n",
       "</table>\n",
       "<p>199504 rows × 10 columns</p>\n",
       "</div>"
      ],
      "text/plain": [
       "              Date      Id              suburb  postalCode  sellPrice   bed  \\\n",
       "92372   2000-12-01   92373         Bondi Beach        2026    3565000  10.0   \n",
       "147100  2001-02-02  147101             Padstow        2211     960000   4.0   \n",
       "20553   2001-03-13   20554    Allambie Heights        2100     896000   4.0   \n",
       "75402   2001-04-06   75403            Cammeray        2062     463000   2.0   \n",
       "32743   2001-09-20   32744            Cremorne        2090     372000   2.0   \n",
       "...            ...     ...                 ...         ...        ...   ...   \n",
       "39731   2019-07-06   39732    Collaroy Plateau        2097    5350000   5.0   \n",
       "165955  2019-07-06  165956           Annandale        2038    1955000   3.0   \n",
       "149351  2019-07-06  149352       South Penrith        2750     555000   3.0   \n",
       "67691   2019-07-06   67692  West Pennant Hills        2125    1682000   4.0   \n",
       "177664  2019-07-06  177665            Milperra        2214     865000   5.0   \n",
       "\n",
       "        bath  car   propType    CITY  \n",
       "92372      5  3.0      house  Sydney  \n",
       "147100     2  2.0      house  Sydney  \n",
       "20553      2  2.0      house  Sydney  \n",
       "75402      1  2.0  townhouse  Sydney  \n",
       "32743      1  1.0      house  Sydney  \n",
       "...      ...  ...        ...     ...  \n",
       "39731      5  5.0      house  Sydney  \n",
       "165955     2  NaN      house  Sydney  \n",
       "149351     1  NaN      house  Sydney  \n",
       "67691      3  3.0      house  Sydney  \n",
       "177664     3  1.0      house  Sydney  \n",
       "\n",
       "[199504 rows x 10 columns]"
      ]
     },
<<<<<<< HEAD
     "execution_count": 11,
=======
     "execution_count": 53,
>>>>>>> main
     "metadata": {},
     "output_type": "execute_result"
    }
   ],
   "source": [
    "#Add City indicator for when merged with Perth data\n",
    "Sydney_data[\"CITY\"] = \"Sydney\"\n",
    "#sanity check to see earliest date\n",
    "Sydney_data.sort_values(by=['Date'])\n"
   ]
  },
  {
   "cell_type": "code",
<<<<<<< HEAD
   "execution_count": 12,
=======
   "execution_count": 54,
>>>>>>> main
   "metadata": {},
   "outputs": [
    {
     "data": {
      "text/html": [
       "<div>\n",
       "<style scoped>\n",
       "    .dataframe tbody tr th:only-of-type {\n",
       "        vertical-align: middle;\n",
       "    }\n",
       "\n",
       "    .dataframe tbody tr th {\n",
       "        vertical-align: top;\n",
       "    }\n",
       "\n",
       "    .dataframe thead th {\n",
       "        text-align: right;\n",
       "    }\n",
       "</style>\n",
       "<table border=\"1\" class=\"dataframe\">\n",
       "  <thead>\n",
       "    <tr style=\"text-align: right;\">\n",
       "      <th></th>\n",
       "      <th>Date</th>\n",
       "      <th>Id</th>\n",
       "      <th>suburb</th>\n",
       "      <th>postalCode</th>\n",
       "      <th>sellPrice</th>\n",
       "      <th>bed</th>\n",
       "      <th>bath</th>\n",
       "      <th>car</th>\n",
       "      <th>propType</th>\n",
       "      <th>CITY</th>\n",
       "    </tr>\n",
       "  </thead>\n",
       "  <tbody>\n",
       "    <tr>\n",
       "      <th>0</th>\n",
<<<<<<< HEAD
       "      <td>2019Q2</td>\n",
=======
       "      <td>2019-06</td>\n",
>>>>>>> main
       "      <td>1</td>\n",
       "      <td>Avalon Beach</td>\n",
       "      <td>2107</td>\n",
       "      <td>1210000</td>\n",
       "      <td>4.0</td>\n",
       "      <td>2</td>\n",
       "      <td>2.0</td>\n",
       "      <td>house</td>\n",
       "      <td>Sydney</td>\n",
       "    </tr>\n",
       "    <tr>\n",
       "      <th>1</th>\n",
<<<<<<< HEAD
       "      <td>2019Q2</td>\n",
=======
       "      <td>2019-06</td>\n",
>>>>>>> main
       "      <td>2</td>\n",
       "      <td>Avalon Beach</td>\n",
       "      <td>2107</td>\n",
       "      <td>2250000</td>\n",
       "      <td>4.0</td>\n",
       "      <td>3</td>\n",
       "      <td>4.0</td>\n",
       "      <td>house</td>\n",
       "      <td>Sydney</td>\n",
       "    </tr>\n",
       "    <tr>\n",
       "      <th>2</th>\n",
<<<<<<< HEAD
       "      <td>2019Q2</td>\n",
=======
       "      <td>2019-06</td>\n",
>>>>>>> main
       "      <td>3</td>\n",
       "      <td>Whale Beach</td>\n",
       "      <td>2107</td>\n",
       "      <td>2920000</td>\n",
       "      <td>3.0</td>\n",
       "      <td>3</td>\n",
       "      <td>2.0</td>\n",
       "      <td>house</td>\n",
       "      <td>Sydney</td>\n",
       "    </tr>\n",
       "    <tr>\n",
       "      <th>3</th>\n",
<<<<<<< HEAD
       "      <td>2019Q2</td>\n",
=======
       "      <td>2019-05</td>\n",
>>>>>>> main
       "      <td>4</td>\n",
       "      <td>Avalon Beach</td>\n",
       "      <td>2107</td>\n",
       "      <td>1530000</td>\n",
       "      <td>3.0</td>\n",
       "      <td>1</td>\n",
       "      <td>2.0</td>\n",
       "      <td>house</td>\n",
       "      <td>Sydney</td>\n",
       "    </tr>\n",
       "    <tr>\n",
       "      <th>4</th>\n",
<<<<<<< HEAD
       "      <td>2019Q2</td>\n",
=======
       "      <td>2019-05</td>\n",
>>>>>>> main
       "      <td>5</td>\n",
       "      <td>Whale Beach</td>\n",
       "      <td>2107</td>\n",
       "      <td>8000000</td>\n",
       "      <td>5.0</td>\n",
       "      <td>4</td>\n",
       "      <td>4.0</td>\n",
       "      <td>house</td>\n",
       "      <td>Sydney</td>\n",
       "    </tr>\n",
       "    <tr>\n",
       "      <th>...</th>\n",
       "      <td>...</td>\n",
       "      <td>...</td>\n",
       "      <td>...</td>\n",
       "      <td>...</td>\n",
       "      <td>...</td>\n",
       "      <td>...</td>\n",
       "      <td>...</td>\n",
       "      <td>...</td>\n",
       "      <td>...</td>\n",
       "      <td>...</td>\n",
       "    </tr>\n",
       "    <tr>\n",
       "      <th>199499</th>\n",
<<<<<<< HEAD
       "      <td>2014Q2</td>\n",
=======
       "      <td>2014-06</td>\n",
>>>>>>> main
       "      <td>199500</td>\n",
       "      <td>Illawong</td>\n",
       "      <td>2234</td>\n",
       "      <td>1900000</td>\n",
       "      <td>5.0</td>\n",
       "      <td>3</td>\n",
       "      <td>7.0</td>\n",
       "      <td>house</td>\n",
       "      <td>Sydney</td>\n",
       "    </tr>\n",
       "    <tr>\n",
       "      <th>199500</th>\n",
<<<<<<< HEAD
       "      <td>2014Q2</td>\n",
=======
       "      <td>2014-05</td>\n",
>>>>>>> main
       "      <td>199501</td>\n",
       "      <td>Illawong</td>\n",
       "      <td>2234</td>\n",
       "      <td>980000</td>\n",
       "      <td>4.0</td>\n",
       "      <td>3</td>\n",
       "      <td>2.0</td>\n",
       "      <td>house</td>\n",
       "      <td>Sydney</td>\n",
       "    </tr>\n",
       "    <tr>\n",
       "      <th>199501</th>\n",
<<<<<<< HEAD
       "      <td>2014Q2</td>\n",
=======
       "      <td>2014-04</td>\n",
>>>>>>> main
       "      <td>199502</td>\n",
       "      <td>Alfords Point</td>\n",
       "      <td>2234</td>\n",
       "      <td>850000</td>\n",
       "      <td>4.0</td>\n",
       "      <td>2</td>\n",
       "      <td>2.0</td>\n",
       "      <td>house</td>\n",
       "      <td>Sydney</td>\n",
       "    </tr>\n",
       "    <tr>\n",
       "      <th>199502</th>\n",
<<<<<<< HEAD
       "      <td>2013Q3</td>\n",
=======
       "      <td>2013-09</td>\n",
>>>>>>> main
       "      <td>199503</td>\n",
       "      <td>Illawong</td>\n",
       "      <td>2234</td>\n",
       "      <td>640000</td>\n",
       "      <td>3.0</td>\n",
       "      <td>2</td>\n",
       "      <td>2.0</td>\n",
       "      <td>townhouse</td>\n",
       "      <td>Sydney</td>\n",
       "    </tr>\n",
       "    <tr>\n",
       "      <th>199503</th>\n",
<<<<<<< HEAD
       "      <td>2011Q2</td>\n",
=======
       "      <td>2011-04</td>\n",
>>>>>>> main
       "      <td>199504</td>\n",
       "      <td>Alfords Point</td>\n",
       "      <td>2234</td>\n",
       "      <td>1611000</td>\n",
       "      <td>5.0</td>\n",
       "      <td>4</td>\n",
       "      <td>3.0</td>\n",
       "      <td>house</td>\n",
       "      <td>Sydney</td>\n",
       "    </tr>\n",
       "  </tbody>\n",
       "</table>\n",
       "<p>199504 rows × 10 columns</p>\n",
       "</div>"
      ],
      "text/plain": [
<<<<<<< HEAD
       "          Date      Id         suburb  postalCode  sellPrice  bed  bath  car  \\\n",
       "0       2019Q2       1   Avalon Beach        2107    1210000  4.0     2  2.0   \n",
       "1       2019Q2       2   Avalon Beach        2107    2250000  4.0     3  4.0   \n",
       "2       2019Q2       3    Whale Beach        2107    2920000  3.0     3  2.0   \n",
       "3       2019Q2       4   Avalon Beach        2107    1530000  3.0     1  2.0   \n",
       "4       2019Q2       5    Whale Beach        2107    8000000  5.0     4  4.0   \n",
       "...        ...     ...            ...         ...        ...  ...   ...  ...   \n",
       "199499  2014Q2  199500       Illawong        2234    1900000  5.0     3  7.0   \n",
       "199500  2014Q2  199501       Illawong        2234     980000  4.0     3  2.0   \n",
       "199501  2014Q2  199502  Alfords Point        2234     850000  4.0     2  2.0   \n",
       "199502  2013Q3  199503       Illawong        2234     640000  3.0     2  2.0   \n",
       "199503  2011Q2  199504  Alfords Point        2234    1611000  5.0     4  3.0   \n",
=======
       "           Date      Id         suburb  postalCode  sellPrice  bed  bath  car  \\\n",
       "0       2019-06       1   Avalon Beach        2107    1210000  4.0     2  2.0   \n",
       "1       2019-06       2   Avalon Beach        2107    2250000  4.0     3  4.0   \n",
       "2       2019-06       3    Whale Beach        2107    2920000  3.0     3  2.0   \n",
       "3       2019-05       4   Avalon Beach        2107    1530000  3.0     1  2.0   \n",
       "4       2019-05       5    Whale Beach        2107    8000000  5.0     4  4.0   \n",
       "...         ...     ...            ...         ...        ...  ...   ...  ...   \n",
       "199499  2014-06  199500       Illawong        2234    1900000  5.0     3  7.0   \n",
       "199500  2014-05  199501       Illawong        2234     980000  4.0     3  2.0   \n",
       "199501  2014-04  199502  Alfords Point        2234     850000  4.0     2  2.0   \n",
       "199502  2013-09  199503       Illawong        2234     640000  3.0     2  2.0   \n",
       "199503  2011-04  199504  Alfords Point        2234    1611000  5.0     4  3.0   \n",
>>>>>>> main
       "\n",
       "         propType    CITY  \n",
       "0           house  Sydney  \n",
       "1           house  Sydney  \n",
       "2           house  Sydney  \n",
       "3           house  Sydney  \n",
       "4           house  Sydney  \n",
       "...           ...     ...  \n",
       "199499      house  Sydney  \n",
       "199500      house  Sydney  \n",
       "199501      house  Sydney  \n",
       "199502  townhouse  Sydney  \n",
       "199503      house  Sydney  \n",
       "\n",
       "[199504 rows x 10 columns]"
      ]
     },
<<<<<<< HEAD
     "execution_count": 12,
=======
     "execution_count": 54,
>>>>>>> main
     "metadata": {},
     "output_type": "execute_result"
    }
   ],
   "source": [
    "#Change the Date from string to datetime then convert to desired format \n",
<<<<<<< HEAD
    "Sydney_data['Date'] = pd.to_datetime(Sydney_data['Date'], errors='coerce').dt.to_period('Q')\n",
=======
    "Sydney_data['Date'] = pd.to_datetime(Sydney_data['Date'], errors='coerce').dt.to_period('M')\n",
>>>>>>> main
    "\n",
    "Sydney_data"
   ]
  },
  {
   "cell_type": "code",
<<<<<<< HEAD
   "execution_count": 13,
=======
   "execution_count": 55,
>>>>>>> main
   "metadata": {},
   "outputs": [
    {
     "data": {
      "text/html": [
       "<div>\n",
       "<style scoped>\n",
       "    .dataframe tbody tr th:only-of-type {\n",
       "        vertical-align: middle;\n",
       "    }\n",
       "\n",
       "    .dataframe tbody tr th {\n",
       "        vertical-align: top;\n",
       "    }\n",
       "\n",
       "    .dataframe thead th {\n",
       "        text-align: right;\n",
       "    }\n",
       "</style>\n",
       "<table border=\"1\" class=\"dataframe\">\n",
       "  <thead>\n",
       "    <tr style=\"text-align: right;\">\n",
       "      <th></th>\n",
       "      <th>Date</th>\n",
       "      <th>ID</th>\n",
       "      <th>SUBURB</th>\n",
       "      <th>POSTCODE</th>\n",
       "      <th>PRICE</th>\n",
       "      <th>BEDROOMS</th>\n",
       "      <th>BATHROOMS</th>\n",
       "      <th>car</th>\n",
       "      <th>propType</th>\n",
       "      <th>CITY</th>\n",
       "    </tr>\n",
       "  </thead>\n",
       "  <tbody>\n",
       "    <tr>\n",
       "      <th>0</th>\n",
<<<<<<< HEAD
       "      <td>2019Q2</td>\n",
=======
       "      <td>2019-06</td>\n",
>>>>>>> main
       "      <td>1</td>\n",
       "      <td>Avalon Beach</td>\n",
       "      <td>2107</td>\n",
       "      <td>1210000</td>\n",
       "      <td>4.0</td>\n",
       "      <td>2</td>\n",
       "      <td>2.0</td>\n",
       "      <td>house</td>\n",
       "      <td>Sydney</td>\n",
       "    </tr>\n",
       "    <tr>\n",
       "      <th>1</th>\n",
<<<<<<< HEAD
       "      <td>2019Q2</td>\n",
=======
       "      <td>2019-06</td>\n",
>>>>>>> main
       "      <td>2</td>\n",
       "      <td>Avalon Beach</td>\n",
       "      <td>2107</td>\n",
       "      <td>2250000</td>\n",
       "      <td>4.0</td>\n",
       "      <td>3</td>\n",
       "      <td>4.0</td>\n",
       "      <td>house</td>\n",
       "      <td>Sydney</td>\n",
       "    </tr>\n",
       "    <tr>\n",
       "      <th>2</th>\n",
<<<<<<< HEAD
       "      <td>2019Q2</td>\n",
=======
       "      <td>2019-06</td>\n",
>>>>>>> main
       "      <td>3</td>\n",
       "      <td>Whale Beach</td>\n",
       "      <td>2107</td>\n",
       "      <td>2920000</td>\n",
       "      <td>3.0</td>\n",
       "      <td>3</td>\n",
       "      <td>2.0</td>\n",
       "      <td>house</td>\n",
       "      <td>Sydney</td>\n",
       "    </tr>\n",
       "    <tr>\n",
       "      <th>3</th>\n",
<<<<<<< HEAD
       "      <td>2019Q2</td>\n",
=======
       "      <td>2019-05</td>\n",
>>>>>>> main
       "      <td>4</td>\n",
       "      <td>Avalon Beach</td>\n",
       "      <td>2107</td>\n",
       "      <td>1530000</td>\n",
       "      <td>3.0</td>\n",
       "      <td>1</td>\n",
       "      <td>2.0</td>\n",
       "      <td>house</td>\n",
       "      <td>Sydney</td>\n",
       "    </tr>\n",
       "    <tr>\n",
       "      <th>4</th>\n",
<<<<<<< HEAD
       "      <td>2019Q2</td>\n",
=======
       "      <td>2019-05</td>\n",
>>>>>>> main
       "      <td>5</td>\n",
       "      <td>Whale Beach</td>\n",
       "      <td>2107</td>\n",
       "      <td>8000000</td>\n",
       "      <td>5.0</td>\n",
       "      <td>4</td>\n",
       "      <td>4.0</td>\n",
       "      <td>house</td>\n",
       "      <td>Sydney</td>\n",
       "    </tr>\n",
       "    <tr>\n",
       "      <th>...</th>\n",
       "      <td>...</td>\n",
       "      <td>...</td>\n",
       "      <td>...</td>\n",
       "      <td>...</td>\n",
       "      <td>...</td>\n",
       "      <td>...</td>\n",
       "      <td>...</td>\n",
       "      <td>...</td>\n",
       "      <td>...</td>\n",
       "      <td>...</td>\n",
       "    </tr>\n",
       "    <tr>\n",
       "      <th>199499</th>\n",
<<<<<<< HEAD
       "      <td>2014Q2</td>\n",
=======
       "      <td>2014-06</td>\n",
>>>>>>> main
       "      <td>199500</td>\n",
       "      <td>Illawong</td>\n",
       "      <td>2234</td>\n",
       "      <td>1900000</td>\n",
       "      <td>5.0</td>\n",
       "      <td>3</td>\n",
       "      <td>7.0</td>\n",
       "      <td>house</td>\n",
       "      <td>Sydney</td>\n",
       "    </tr>\n",
       "    <tr>\n",
       "      <th>199500</th>\n",
<<<<<<< HEAD
       "      <td>2014Q2</td>\n",
=======
       "      <td>2014-05</td>\n",
>>>>>>> main
       "      <td>199501</td>\n",
       "      <td>Illawong</td>\n",
       "      <td>2234</td>\n",
       "      <td>980000</td>\n",
       "      <td>4.0</td>\n",
       "      <td>3</td>\n",
       "      <td>2.0</td>\n",
       "      <td>house</td>\n",
       "      <td>Sydney</td>\n",
       "    </tr>\n",
       "    <tr>\n",
       "      <th>199501</th>\n",
<<<<<<< HEAD
       "      <td>2014Q2</td>\n",
=======
       "      <td>2014-04</td>\n",
>>>>>>> main
       "      <td>199502</td>\n",
       "      <td>Alfords Point</td>\n",
       "      <td>2234</td>\n",
       "      <td>850000</td>\n",
       "      <td>4.0</td>\n",
       "      <td>2</td>\n",
       "      <td>2.0</td>\n",
       "      <td>house</td>\n",
       "      <td>Sydney</td>\n",
       "    </tr>\n",
       "    <tr>\n",
       "      <th>199502</th>\n",
<<<<<<< HEAD
       "      <td>2013Q3</td>\n",
=======
       "      <td>2013-09</td>\n",
>>>>>>> main
       "      <td>199503</td>\n",
       "      <td>Illawong</td>\n",
       "      <td>2234</td>\n",
       "      <td>640000</td>\n",
       "      <td>3.0</td>\n",
       "      <td>2</td>\n",
       "      <td>2.0</td>\n",
       "      <td>townhouse</td>\n",
       "      <td>Sydney</td>\n",
       "    </tr>\n",
       "    <tr>\n",
       "      <th>199503</th>\n",
<<<<<<< HEAD
       "      <td>2011Q2</td>\n",
=======
       "      <td>2011-04</td>\n",
>>>>>>> main
       "      <td>199504</td>\n",
       "      <td>Alfords Point</td>\n",
       "      <td>2234</td>\n",
       "      <td>1611000</td>\n",
       "      <td>5.0</td>\n",
       "      <td>4</td>\n",
       "      <td>3.0</td>\n",
       "      <td>house</td>\n",
       "      <td>Sydney</td>\n",
       "    </tr>\n",
       "  </tbody>\n",
       "</table>\n",
       "<p>199504 rows × 10 columns</p>\n",
       "</div>"
      ],
      "text/plain": [
<<<<<<< HEAD
       "          Date      ID         SUBURB  POSTCODE    PRICE  BEDROOMS  BATHROOMS  \\\n",
       "0       2019Q2       1   Avalon Beach      2107  1210000       4.0          2   \n",
       "1       2019Q2       2   Avalon Beach      2107  2250000       4.0          3   \n",
       "2       2019Q2       3    Whale Beach      2107  2920000       3.0          3   \n",
       "3       2019Q2       4   Avalon Beach      2107  1530000       3.0          1   \n",
       "4       2019Q2       5    Whale Beach      2107  8000000       5.0          4   \n",
       "...        ...     ...            ...       ...      ...       ...        ...   \n",
       "199499  2014Q2  199500       Illawong      2234  1900000       5.0          3   \n",
       "199500  2014Q2  199501       Illawong      2234   980000       4.0          3   \n",
       "199501  2014Q2  199502  Alfords Point      2234   850000       4.0          2   \n",
       "199502  2013Q3  199503       Illawong      2234   640000       3.0          2   \n",
       "199503  2011Q2  199504  Alfords Point      2234  1611000       5.0          4   \n",
       "\n",
       "        car   propType    CITY  \n",
       "0       2.0      house  Sydney  \n",
       "1       4.0      house  Sydney  \n",
       "2       2.0      house  Sydney  \n",
       "3       2.0      house  Sydney  \n",
       "4       4.0      house  Sydney  \n",
       "...     ...        ...     ...  \n",
       "199499  7.0      house  Sydney  \n",
       "199500  2.0      house  Sydney  \n",
       "199501  2.0      house  Sydney  \n",
       "199502  2.0  townhouse  Sydney  \n",
       "199503  3.0      house  Sydney  \n",
=======
       "           Date      ID         SUBURB  POSTCODE    PRICE  BEDROOMS  \\\n",
       "0       2019-06       1   Avalon Beach      2107  1210000       4.0   \n",
       "1       2019-06       2   Avalon Beach      2107  2250000       4.0   \n",
       "2       2019-06       3    Whale Beach      2107  2920000       3.0   \n",
       "3       2019-05       4   Avalon Beach      2107  1530000       3.0   \n",
       "4       2019-05       5    Whale Beach      2107  8000000       5.0   \n",
       "...         ...     ...            ...       ...      ...       ...   \n",
       "199499  2014-06  199500       Illawong      2234  1900000       5.0   \n",
       "199500  2014-05  199501       Illawong      2234   980000       4.0   \n",
       "199501  2014-04  199502  Alfords Point      2234   850000       4.0   \n",
       "199502  2013-09  199503       Illawong      2234   640000       3.0   \n",
       "199503  2011-04  199504  Alfords Point      2234  1611000       5.0   \n",
       "\n",
       "        BATHROOMS  car   propType    CITY  \n",
       "0               2  2.0      house  Sydney  \n",
       "1               3  4.0      house  Sydney  \n",
       "2               3  2.0      house  Sydney  \n",
       "3               1  2.0      house  Sydney  \n",
       "4               4  4.0      house  Sydney  \n",
       "...           ...  ...        ...     ...  \n",
       "199499          3  7.0      house  Sydney  \n",
       "199500          3  2.0      house  Sydney  \n",
       "199501          2  2.0      house  Sydney  \n",
       "199502          2  2.0  townhouse  Sydney  \n",
       "199503          4  3.0      house  Sydney  \n",
>>>>>>> main
       "\n",
       "[199504 rows x 10 columns]"
      ]
     },
<<<<<<< HEAD
     "execution_count": 13,
=======
     "execution_count": 55,
>>>>>>> main
     "metadata": {},
     "output_type": "execute_result"
    }
   ],
   "source": [
    "#Rename columns matching Perth data to combine later\n",
    "clean_Sydney = Sydney_data.rename(columns={'Id':'ID',\n",
    "                          'suburb':'SUBURB',\n",
    "                          'sellPrice':'PRICE',\n",
    "                          'bed':'BEDROOMS',\n",
    "                          'bath':'BATHROOMS',\n",
    "                          'postalCode':'POSTCODE'})\n",
    "clean_Sydney"
   ]
  },
  {
   "cell_type": "code",
<<<<<<< HEAD
   "execution_count": 14,
=======
   "execution_count": 56,
>>>>>>> main
   "metadata": {},
   "outputs": [],
   "source": [
    "#merge commodity prices with Sydney data\n",
    "sydney_commodities_df = pd.merge(clean_data, clean_Sydney, on=\"Date\",how=\"inner\")\n",
    "#sydney_commodities_df\n",
    "#save data to sydney_clean.csv\n",
    "sydney_commodities_df.to_csv('Outputs/sydney_housing.csv')"
   ]
  },
  {
   "cell_type": "code",
<<<<<<< HEAD
   "execution_count": 15,
=======
   "execution_count": null,
   "metadata": {},
   "outputs": [],
   "source": []
  },
  {
   "cell_type": "code",
   "execution_count": 57,
>>>>>>> main
   "metadata": {},
   "outputs": [
    {
     "data": {
      "text/html": [
       "<div>\n",
       "<style scoped>\n",
       "    .dataframe tbody tr th:only-of-type {\n",
       "        vertical-align: middle;\n",
       "    }\n",
       "\n",
       "    .dataframe tbody tr th {\n",
       "        vertical-align: top;\n",
       "    }\n",
       "\n",
       "    .dataframe thead th {\n",
       "        text-align: right;\n",
       "    }\n",
       "</style>\n",
       "<table border=\"1\" class=\"dataframe\">\n",
       "  <thead>\n",
       "    <tr style=\"text-align: right;\">\n",
       "      <th></th>\n",
       "      <th>Date</th>\n",
       "      <th>Iron_Price</th>\n",
       "      <th>ID</th>\n",
       "      <th>SUBURB</th>\n",
       "      <th>POSTCODE</th>\n",
       "      <th>PRICE</th>\n",
       "      <th>BEDROOMS</th>\n",
       "      <th>BATHROOMS</th>\n",
       "      <th>car</th>\n",
       "      <th>propType</th>\n",
       "      <th>CITY</th>\n",
       "    </tr>\n",
       "  </thead>\n",
       "  <tbody>\n",
       "    <tr>\n",
       "      <th>0</th>\n",
<<<<<<< HEAD
       "      <td>2000Q4</td>\n",
=======
       "      <td>2000-12</td>\n",
>>>>>>> main
       "      <td>12.45</td>\n",
       "      <td>92373</td>\n",
       "      <td>Bondi Beach</td>\n",
       "      <td>2026</td>\n",
       "      <td>3565000</td>\n",
       "      <td>10.0</td>\n",
       "      <td>5</td>\n",
       "      <td>3.0</td>\n",
       "      <td>house</td>\n",
       "      <td>Sydney</td>\n",
       "    </tr>\n",
       "    <tr>\n",
       "      <th>1</th>\n",
<<<<<<< HEAD
       "      <td>2000Q4</td>\n",
       "      <td>12.45</td>\n",
       "      <td>92373</td>\n",
       "      <td>Bondi Beach</td>\n",
       "      <td>2026</td>\n",
       "      <td>3565000</td>\n",
       "      <td>10.0</td>\n",
       "      <td>5</td>\n",
       "      <td>3.0</td>\n",
=======
       "      <td>2001-02</td>\n",
       "      <td>12.99</td>\n",
       "      <td>147101</td>\n",
       "      <td>Padstow</td>\n",
       "      <td>2211</td>\n",
       "      <td>960000</td>\n",
       "      <td>4.0</td>\n",
       "      <td>2</td>\n",
       "      <td>2.0</td>\n",
>>>>>>> main
       "      <td>house</td>\n",
       "      <td>Sydney</td>\n",
       "    </tr>\n",
       "    <tr>\n",
       "      <th>2</th>\n",
<<<<<<< HEAD
       "      <td>2000Q4</td>\n",
       "      <td>12.45</td>\n",
       "      <td>92373</td>\n",
       "      <td>Bondi Beach</td>\n",
       "      <td>2026</td>\n",
       "      <td>3565000</td>\n",
       "      <td>10.0</td>\n",
       "      <td>5</td>\n",
       "      <td>3.0</td>\n",
       "      <td>house</td>\n",
       "      <td>Sydney</td>\n",
       "    </tr>\n",
       "    <tr>\n",
       "      <th>3</th>\n",
       "      <td>2001Q1</td>\n",
=======
       "      <td>2001-03</td>\n",
>>>>>>> main
       "      <td>12.99</td>\n",
       "      <td>20554</td>\n",
       "      <td>Allambie Heights</td>\n",
       "      <td>2100</td>\n",
       "      <td>896000</td>\n",
       "      <td>4.0</td>\n",
       "      <td>2</td>\n",
       "      <td>2.0</td>\n",
       "      <td>house</td>\n",
       "      <td>Sydney</td>\n",
       "    </tr>\n",
       "    <tr>\n",
<<<<<<< HEAD
       "      <th>4</th>\n",
       "      <td>2001Q1</td>\n",
       "      <td>12.99</td>\n",
       "      <td>147101</td>\n",
       "      <td>Padstow</td>\n",
       "      <td>2211</td>\n",
       "      <td>960000</td>\n",
       "      <td>4.0</td>\n",
       "      <td>2</td>\n",
       "      <td>2.0</td>\n",
=======
       "      <th>3</th>\n",
       "      <td>2001-04</td>\n",
       "      <td>12.99</td>\n",
       "      <td>75403</td>\n",
       "      <td>Cammeray</td>\n",
       "      <td>2062</td>\n",
       "      <td>463000</td>\n",
       "      <td>2.0</td>\n",
       "      <td>1</td>\n",
       "      <td>2.0</td>\n",
       "      <td>townhouse</td>\n",
       "      <td>Sydney</td>\n",
       "    </tr>\n",
       "    <tr>\n",
       "      <th>4</th>\n",
       "      <td>2001-09</td>\n",
       "      <td>12.99</td>\n",
       "      <td>32744</td>\n",
       "      <td>Cremorne</td>\n",
       "      <td>2090</td>\n",
       "      <td>372000</td>\n",
       "      <td>2.0</td>\n",
       "      <td>1</td>\n",
       "      <td>1.0</td>\n",
>>>>>>> main
       "      <td>house</td>\n",
       "      <td>Sydney</td>\n",
       "    </tr>\n",
       "    <tr>\n",
       "      <th>...</th>\n",
       "      <td>...</td>\n",
       "      <td>...</td>\n",
       "      <td>...</td>\n",
       "      <td>...</td>\n",
       "      <td>...</td>\n",
       "      <td>...</td>\n",
       "      <td>...</td>\n",
       "      <td>...</td>\n",
       "      <td>...</td>\n",
       "      <td>...</td>\n",
       "      <td>...</td>\n",
       "    </tr>\n",
       "    <tr>\n",
<<<<<<< HEAD
       "      <th>598507</th>\n",
       "      <td>2019Q3</td>\n",
       "      <td>92.24</td>\n",
=======
       "      <th>199499</th>\n",
       "      <td>2019-07</td>\n",
       "      <td>115.55</td>\n",
>>>>>>> main
       "      <td>197646</td>\n",
       "      <td>Ruse</td>\n",
       "      <td>2560</td>\n",
       "      <td>692000</td>\n",
       "      <td>6.0</td>\n",
       "      <td>2</td>\n",
       "      <td>2.0</td>\n",
       "      <td>house</td>\n",
       "      <td>Sydney</td>\n",
       "    </tr>\n",
       "    <tr>\n",
<<<<<<< HEAD
       "      <th>598508</th>\n",
       "      <td>2019Q3</td>\n",
       "      <td>92.24</td>\n",
=======
       "      <th>199500</th>\n",
       "      <td>2019-07</td>\n",
       "      <td>115.55</td>\n",
>>>>>>> main
       "      <td>197647</td>\n",
       "      <td>Ambarvale</td>\n",
       "      <td>2560</td>\n",
       "      <td>549950</td>\n",
       "      <td>3.0</td>\n",
       "      <td>1</td>\n",
       "      <td>2.0</td>\n",
       "      <td>house</td>\n",
       "      <td>Sydney</td>\n",
       "    </tr>\n",
       "    <tr>\n",
<<<<<<< HEAD
       "      <th>598509</th>\n",
       "      <td>2019Q3</td>\n",
       "      <td>92.24</td>\n",
=======
       "      <th>199501</th>\n",
       "      <td>2019-07</td>\n",
       "      <td>115.55</td>\n",
>>>>>>> main
       "      <td>197648</td>\n",
       "      <td>St Helens Park</td>\n",
       "      <td>2560</td>\n",
       "      <td>539000</td>\n",
       "      <td>3.0</td>\n",
       "      <td>1</td>\n",
       "      <td>1.0</td>\n",
       "      <td>house</td>\n",
       "      <td>Sydney</td>\n",
       "    </tr>\n",
       "    <tr>\n",
<<<<<<< HEAD
       "      <th>598510</th>\n",
       "      <td>2019Q3</td>\n",
       "      <td>92.24</td>\n",
=======
       "      <th>199502</th>\n",
       "      <td>2019-07</td>\n",
       "      <td>115.55</td>\n",
>>>>>>> main
       "      <td>198931</td>\n",
       "      <td>Illawong</td>\n",
       "      <td>2234</td>\n",
       "      <td>1770000</td>\n",
       "      <td>4.0</td>\n",
       "      <td>2</td>\n",
       "      <td>6.0</td>\n",
       "      <td>house</td>\n",
       "      <td>Sydney</td>\n",
       "    </tr>\n",
       "    <tr>\n",
<<<<<<< HEAD
       "      <th>598511</th>\n",
       "      <td>2019Q3</td>\n",
       "      <td>92.24</td>\n",
=======
       "      <th>199503</th>\n",
       "      <td>2019-07</td>\n",
       "      <td>115.55</td>\n",
>>>>>>> main
       "      <td>198932</td>\n",
       "      <td>Illawong</td>\n",
       "      <td>2234</td>\n",
       "      <td>1180000</td>\n",
       "      <td>4.0</td>\n",
       "      <td>3</td>\n",
       "      <td>2.0</td>\n",
       "      <td>house</td>\n",
       "      <td>Sydney</td>\n",
       "    </tr>\n",
       "  </tbody>\n",
       "</table>\n",
<<<<<<< HEAD
       "<p>598512 rows × 11 columns</p>\n",
       "</div>"
      ],
      "text/plain": [
       "          Date  Iron_Price      ID            SUBURB  POSTCODE    PRICE  \\\n",
       "0       2000Q4       12.45   92373       Bondi Beach      2026  3565000   \n",
       "1       2000Q4       12.45   92373       Bondi Beach      2026  3565000   \n",
       "2       2000Q4       12.45   92373       Bondi Beach      2026  3565000   \n",
       "3       2001Q1       12.99   20554  Allambie Heights      2100   896000   \n",
       "4       2001Q1       12.99  147101           Padstow      2211   960000   \n",
       "...        ...         ...     ...               ...       ...      ...   \n",
       "598507  2019Q3       92.24  197646              Ruse      2560   692000   \n",
       "598508  2019Q3       92.24  197647         Ambarvale      2560   549950   \n",
       "598509  2019Q3       92.24  197648    St Helens Park      2560   539000   \n",
       "598510  2019Q3       92.24  198931          Illawong      2234  1770000   \n",
       "598511  2019Q3       92.24  198932          Illawong      2234  1180000   \n",
       "\n",
       "        BEDROOMS  BATHROOMS  car propType    CITY  \n",
       "0           10.0          5  3.0    house  Sydney  \n",
       "1           10.0          5  3.0    house  Sydney  \n",
       "2           10.0          5  3.0    house  Sydney  \n",
       "3            4.0          2  2.0    house  Sydney  \n",
       "4            4.0          2  2.0    house  Sydney  \n",
       "...          ...        ...  ...      ...     ...  \n",
       "598507       6.0          2  2.0    house  Sydney  \n",
       "598508       3.0          1  2.0    house  Sydney  \n",
       "598509       3.0          1  1.0    house  Sydney  \n",
       "598510       4.0          2  6.0    house  Sydney  \n",
       "598511       4.0          3  2.0    house  Sydney  \n",
       "\n",
       "[598512 rows x 11 columns]"
      ]
     },
     "execution_count": 15,
=======
       "<p>199504 rows × 11 columns</p>\n",
       "</div>"
      ],
      "text/plain": [
       "           Date  Iron_Price      ID            SUBURB  POSTCODE    PRICE  \\\n",
       "0       2000-12       12.45   92373       Bondi Beach      2026  3565000   \n",
       "1       2001-02       12.99  147101           Padstow      2211   960000   \n",
       "2       2001-03       12.99   20554  Allambie Heights      2100   896000   \n",
       "3       2001-04       12.99   75403          Cammeray      2062   463000   \n",
       "4       2001-09       12.99   32744          Cremorne      2090   372000   \n",
       "...         ...         ...     ...               ...       ...      ...   \n",
       "199499  2019-07      115.55  197646              Ruse      2560   692000   \n",
       "199500  2019-07      115.55  197647         Ambarvale      2560   549950   \n",
       "199501  2019-07      115.55  197648    St Helens Park      2560   539000   \n",
       "199502  2019-07      115.55  198931          Illawong      2234  1770000   \n",
       "199503  2019-07      115.55  198932          Illawong      2234  1180000   \n",
       "\n",
       "        BEDROOMS  BATHROOMS  car   propType    CITY  \n",
       "0           10.0          5  3.0      house  Sydney  \n",
       "1            4.0          2  2.0      house  Sydney  \n",
       "2            4.0          2  2.0      house  Sydney  \n",
       "3            2.0          1  2.0  townhouse  Sydney  \n",
       "4            2.0          1  1.0      house  Sydney  \n",
       "...          ...        ...  ...        ...     ...  \n",
       "199499       6.0          2  2.0      house  Sydney  \n",
       "199500       3.0          1  2.0      house  Sydney  \n",
       "199501       3.0          1  1.0      house  Sydney  \n",
       "199502       4.0          2  6.0      house  Sydney  \n",
       "199503       4.0          3  2.0      house  Sydney  \n",
       "\n",
       "[199504 rows x 11 columns]"
      ]
     },
     "execution_count": 57,
>>>>>>> main
     "metadata": {},
     "output_type": "execute_result"
    }
   ],
   "source": [
    "#Create Sydney data frame with Iron ore prices\n",
    "sydney_iron_df = pd.merge(iron_data, clean_Sydney, on=\"Date\",how=\"inner\")\n",
    "sydney_iron_df.to_csv('Outputs/sydney_iron_housing.csv')\n",
    "sydney_iron_df"
   ]
  },
  {
   "cell_type": "code",
<<<<<<< HEAD
   "execution_count": 16,
=======
   "execution_count": 58,
>>>>>>> main
   "metadata": {},
   "outputs": [
    {
     "data": {
      "text/html": [
       "<div>\n",
       "<style scoped>\n",
       "    .dataframe tbody tr th:only-of-type {\n",
       "        vertical-align: middle;\n",
       "    }\n",
       "\n",
       "    .dataframe tbody tr th {\n",
       "        vertical-align: top;\n",
       "    }\n",
       "\n",
       "    .dataframe thead th {\n",
       "        text-align: right;\n",
       "    }\n",
       "</style>\n",
       "<table border=\"1\" class=\"dataframe\">\n",
       "  <thead>\n",
       "    <tr style=\"text-align: right;\">\n",
       "      <th></th>\n",
       "      <th>ID</th>\n",
       "      <th>Date</th>\n",
       "      <th>Iron_Price</th>\n",
       "      <th>Silver_Price</th>\n",
       "      <th>Gold_Price</th>\n",
       "      <th>Copper_Price</th>\n",
       "      <th>S&amp;P_GSCI_Price</th>\n",
       "      <th>SUBURB</th>\n",
       "      <th>PRICE</th>\n",
       "      <th>BEDROOMS</th>\n",
       "      <th>BATHROOMS</th>\n",
       "      <th>POSTCODE</th>\n",
       "      <th>CITY</th>\n",
       "    </tr>\n",
       "  </thead>\n",
       "  <tbody>\n",
       "    <tr>\n",
       "      <th>0</th>\n",
       "      <td>1</td>\n",
<<<<<<< HEAD
       "      <td>2000Q1</td>\n",
       "      <td>12.45</td>\n",
       "      <td>5.26</td>\n",
       "      <td>283.30</td>\n",
       "      <td>5.26</td>\n",
       "      <td>2,970.29</td>\n",
       "      <td>Bickley</td>\n",
       "      <td>165000</td>\n",
       "      <td>3.0</td>\n",
       "      <td>1</td>\n",
       "      <td>6076</td>\n",
       "      <td>Perth</td>\n",
       "    </tr>\n",
       "    <tr>\n",
       "      <th>1</th>\n",
       "      <td>2</td>\n",
       "      <td>2000Q1</td>\n",
       "      <td>12.45</td>\n",
       "      <td>5.26</td>\n",
       "      <td>283.30</td>\n",
       "      <td>5.26</td>\n",
       "      <td>2,970.29</td>\n",
       "      <td>Mariginiup</td>\n",
       "      <td>196000</td>\n",
       "      <td>4.0</td>\n",
       "      <td>2</td>\n",
       "      <td>6078</td>\n",
       "      <td>Perth</td>\n",
       "    </tr>\n",
       "    <tr>\n",
       "      <th>2</th>\n",
       "      <td>3</td>\n",
       "      <td>2000Q1</td>\n",
       "      <td>12.45</td>\n",
       "      <td>5.26</td>\n",
       "      <td>283.30</td>\n",
       "      <td>5.26</td>\n",
       "      <td>2,970.29</td>\n",
       "      <td>Mariginiup</td>\n",
       "      <td>190000</td>\n",
       "      <td>5.0</td>\n",
       "      <td>2</td>\n",
       "      <td>6078</td>\n",
       "      <td>Perth</td>\n",
       "    </tr>\n",
       "    <tr>\n",
       "      <th>3</th>\n",
       "      <td>4</td>\n",
       "      <td>2000Q1</td>\n",
=======
       "      <td>2000-01</td>\n",
>>>>>>> main
       "      <td>12.45</td>\n",
       "      <td>5.26</td>\n",
       "      <td>283.30</td>\n",
       "      <td>5.26</td>\n",
       "      <td>2,970.29</td>\n",
       "      <td>Mahogany Creek</td>\n",
       "      <td>98000</td>\n",
       "      <td>2.0</td>\n",
       "      <td>1</td>\n",
       "      <td>6072</td>\n",
       "      <td>Perth</td>\n",
       "    </tr>\n",
       "    <tr>\n",
<<<<<<< HEAD
       "      <th>4</th>\n",
       "      <td>5</td>\n",
       "      <td>2000Q1</td>\n",
=======
       "      <th>1</th>\n",
       "      <td>2</td>\n",
       "      <td>2000-01</td>\n",
>>>>>>> main
       "      <td>12.45</td>\n",
       "      <td>5.26</td>\n",
       "      <td>283.30</td>\n",
       "      <td>5.26</td>\n",
       "      <td>2,970.29</td>\n",
       "      <td>Mardella</td>\n",
       "      <td>235000</td>\n",
       "      <td>4.0</td>\n",
       "      <td>1</td>\n",
       "      <td>6125</td>\n",
       "      <td>Perth</td>\n",
       "    </tr>\n",
       "    <tr>\n",
<<<<<<< HEAD
=======
       "      <th>2</th>\n",
       "      <td>3</td>\n",
       "      <td>2000-02</td>\n",
       "      <td>12.45</td>\n",
       "      <td>5.10</td>\n",
       "      <td>293.65</td>\n",
       "      <td>5.10</td>\n",
       "      <td>3,155.86</td>\n",
       "      <td>Upper Swan</td>\n",
       "      <td>706000</td>\n",
       "      <td>3.0</td>\n",
       "      <td>2</td>\n",
       "      <td>6069</td>\n",
       "      <td>Perth</td>\n",
       "    </tr>\n",
       "    <tr>\n",
       "      <th>3</th>\n",
       "      <td>4</td>\n",
       "      <td>2000-03</td>\n",
       "      <td>12.45</td>\n",
       "      <td>4.94</td>\n",
       "      <td>276.75</td>\n",
       "      <td>4.94</td>\n",
       "      <td>3,119.23</td>\n",
       "      <td>Bickley</td>\n",
       "      <td>165000</td>\n",
       "      <td>3.0</td>\n",
       "      <td>1</td>\n",
       "      <td>6076</td>\n",
       "      <td>Perth</td>\n",
       "    </tr>\n",
       "    <tr>\n",
       "      <th>4</th>\n",
       "      <td>5</td>\n",
       "      <td>2000-03</td>\n",
       "      <td>12.45</td>\n",
       "      <td>4.94</td>\n",
       "      <td>276.75</td>\n",
       "      <td>4.94</td>\n",
       "      <td>3,119.23</td>\n",
       "      <td>Mariginiup</td>\n",
       "      <td>196000</td>\n",
       "      <td>4.0</td>\n",
       "      <td>2</td>\n",
       "      <td>6078</td>\n",
       "      <td>Perth</td>\n",
       "    </tr>\n",
       "    <tr>\n",
>>>>>>> main
       "      <th>...</th>\n",
       "      <td>...</td>\n",
       "      <td>...</td>\n",
       "      <td>...</td>\n",
       "      <td>...</td>\n",
       "      <td>...</td>\n",
       "      <td>...</td>\n",
       "      <td>...</td>\n",
       "      <td>...</td>\n",
       "      <td>...</td>\n",
       "      <td>...</td>\n",
       "      <td>...</td>\n",
       "      <td>...</td>\n",
       "      <td>...</td>\n",
       "    </tr>\n",
       "    <tr>\n",
<<<<<<< HEAD
       "      <th>698833</th>\n",
       "      <td>698834</td>\n",
       "      <td>2020Q4</td>\n",
=======
       "      <th>232941</th>\n",
       "      <td>232942</td>\n",
       "      <td>2020-12</td>\n",
>>>>>>> main
       "      <td>158.15</td>\n",
       "      <td>26.49</td>\n",
       "      <td>1,891.10</td>\n",
       "      <td>26.49</td>\n",
       "      <td>1,976.96</td>\n",
<<<<<<< HEAD
       "      <td>Ardross</td>\n",
       "      <td>995000</td>\n",
       "      <td>4.0</td>\n",
       "      <td>2</td>\n",
       "      <td>6153</td>\n",
       "      <td>Perth</td>\n",
       "    </tr>\n",
       "    <tr>\n",
       "      <th>698834</th>\n",
       "      <td>698835</td>\n",
       "      <td>2020Q4</td>\n",
       "      <td>158.15</td>\n",
       "      <td>26.49</td>\n",
       "      <td>1,891.10</td>\n",
       "      <td>26.49</td>\n",
       "      <td>1,976.96</td>\n",
       "      <td>Heathridge</td>\n",
       "      <td>412000</td>\n",
       "      <td>4.0</td>\n",
       "      <td>1</td>\n",
       "      <td>6027</td>\n",
       "      <td>Perth</td>\n",
       "    </tr>\n",
       "    <tr>\n",
       "      <th>698835</th>\n",
       "      <td>698836</td>\n",
       "      <td>2020Q4</td>\n",
=======
       "      <td>Bassendean</td>\n",
       "      <td>550000</td>\n",
       "      <td>3.0</td>\n",
       "      <td>1</td>\n",
       "      <td>6054</td>\n",
       "      <td>Perth</td>\n",
       "    </tr>\n",
       "    <tr>\n",
       "      <th>232942</th>\n",
       "      <td>232943</td>\n",
       "      <td>2020-12</td>\n",
>>>>>>> main
       "      <td>158.15</td>\n",
       "      <td>26.49</td>\n",
       "      <td>1,891.10</td>\n",
       "      <td>26.49</td>\n",
       "      <td>1,976.96</td>\n",
<<<<<<< HEAD
       "      <td>Joondalup</td>\n",
       "      <td>300000</td>\n",
       "      <td>2.0</td>\n",
       "      <td>2</td>\n",
       "      <td>6027</td>\n",
       "      <td>Perth</td>\n",
       "    </tr>\n",
       "    <tr>\n",
       "      <th>698836</th>\n",
       "      <td>698837</td>\n",
       "      <td>2020Q4</td>\n",
=======
       "      <td>Palmyra</td>\n",
       "      <td>629000</td>\n",
       "      <td>3.0</td>\n",
       "      <td>1</td>\n",
       "      <td>6157</td>\n",
       "      <td>Perth</td>\n",
       "    </tr>\n",
       "    <tr>\n",
       "      <th>232943</th>\n",
       "      <td>232944</td>\n",
       "      <td>2020-12</td>\n",
       "      <td>158.15</td>\n",
       "      <td>26.49</td>\n",
       "      <td>1,891.10</td>\n",
       "      <td>26.49</td>\n",
       "      <td>1,976.96</td>\n",
       "      <td>High Wycombe</td>\n",
       "      <td>480000</td>\n",
       "      <td>4.0</td>\n",
       "      <td>2</td>\n",
       "      <td>6057</td>\n",
       "      <td>Perth</td>\n",
       "    </tr>\n",
       "    <tr>\n",
       "      <th>232944</th>\n",
       "      <td>232945</td>\n",
       "      <td>2020-12</td>\n",
       "      <td>158.15</td>\n",
       "      <td>26.49</td>\n",
       "      <td>1,891.10</td>\n",
       "      <td>26.49</td>\n",
       "      <td>1,976.96</td>\n",
       "      <td>Secret Harbour</td>\n",
       "      <td>754000</td>\n",
       "      <td>4.0</td>\n",
       "      <td>3</td>\n",
       "      <td>6173</td>\n",
       "      <td>Perth</td>\n",
       "    </tr>\n",
       "    <tr>\n",
       "      <th>232945</th>\n",
       "      <td>232946</td>\n",
       "      <td>2020-12</td>\n",
>>>>>>> main
       "      <td>158.15</td>\n",
       "      <td>26.49</td>\n",
       "      <td>1,891.10</td>\n",
       "      <td>26.49</td>\n",
       "      <td>1,976.96</td>\n",
       "      <td>Pearsall</td>\n",
       "      <td>422500</td>\n",
       "      <td>4.0</td>\n",
       "      <td>2</td>\n",
       "      <td>6065</td>\n",
       "      <td>Perth</td>\n",
       "    </tr>\n",
<<<<<<< HEAD
       "    <tr>\n",
       "      <th>698837</th>\n",
       "      <td>698838</td>\n",
       "      <td>2020Q4</td>\n",
       "      <td>158.15</td>\n",
       "      <td>26.49</td>\n",
       "      <td>1,891.10</td>\n",
       "      <td>26.49</td>\n",
       "      <td>1,976.96</td>\n",
       "      <td>Cooloongup</td>\n",
       "      <td>285000</td>\n",
       "      <td>3.0</td>\n",
       "      <td>1</td>\n",
       "      <td>6168</td>\n",
       "      <td>Perth</td>\n",
       "    </tr>\n",
       "  </tbody>\n",
       "</table>\n",
       "<p>698838 rows × 13 columns</p>\n",
       "</div>"
      ],
      "text/plain": [
       "            ID    Date  Iron_Price  Silver_Price Gold_Price  Copper_Price  \\\n",
       "0            1  2000Q1       12.45          5.26     283.30          5.26   \n",
       "1            2  2000Q1       12.45          5.26     283.30          5.26   \n",
       "2            3  2000Q1       12.45          5.26     283.30          5.26   \n",
       "3            4  2000Q1       12.45          5.26     283.30          5.26   \n",
       "4            5  2000Q1       12.45          5.26     283.30          5.26   \n",
       "...        ...     ...         ...           ...        ...           ...   \n",
       "698833  698834  2020Q4      158.15         26.49   1,891.10         26.49   \n",
       "698834  698835  2020Q4      158.15         26.49   1,891.10         26.49   \n",
       "698835  698836  2020Q4      158.15         26.49   1,891.10         26.49   \n",
       "698836  698837  2020Q4      158.15         26.49   1,891.10         26.49   \n",
       "698837  698838  2020Q4      158.15         26.49   1,891.10         26.49   \n",
       "\n",
       "       S&P_GSCI_Price          SUBURB   PRICE  BEDROOMS  BATHROOMS  POSTCODE  \\\n",
       "0            2,970.29         Bickley  165000       3.0          1      6076   \n",
       "1            2,970.29      Mariginiup  196000       4.0          2      6078   \n",
       "2            2,970.29      Mariginiup  190000       5.0          2      6078   \n",
       "3            2,970.29  Mahogany Creek   98000       2.0          1      6072   \n",
       "4            2,970.29        Mardella  235000       4.0          1      6125   \n",
       "...               ...             ...     ...       ...        ...       ...   \n",
       "698833       1,976.96         Ardross  995000       4.0          2      6153   \n",
       "698834       1,976.96      Heathridge  412000       4.0          1      6027   \n",
       "698835       1,976.96       Joondalup  300000       2.0          2      6027   \n",
       "698836       1,976.96        Pearsall  422500       4.0          2      6065   \n",
       "698837       1,976.96      Cooloongup  285000       3.0          1      6168   \n",
=======
       "  </tbody>\n",
       "</table>\n",
       "<p>232946 rows × 13 columns</p>\n",
       "</div>"
      ],
      "text/plain": [
       "            ID     Date  Iron_Price  Silver_Price Gold_Price  Copper_Price  \\\n",
       "0            1  2000-01       12.45          5.26     283.30          5.26   \n",
       "1            2  2000-01       12.45          5.26     283.30          5.26   \n",
       "2            3  2000-02       12.45          5.10     293.65          5.10   \n",
       "3            4  2000-03       12.45          4.94     276.75          4.94   \n",
       "4            5  2000-03       12.45          4.94     276.75          4.94   \n",
       "...        ...      ...         ...           ...        ...           ...   \n",
       "232941  232942  2020-12      158.15         26.49   1,891.10         26.49   \n",
       "232942  232943  2020-12      158.15         26.49   1,891.10         26.49   \n",
       "232943  232944  2020-12      158.15         26.49   1,891.10         26.49   \n",
       "232944  232945  2020-12      158.15         26.49   1,891.10         26.49   \n",
       "232945  232946  2020-12      158.15         26.49   1,891.10         26.49   \n",
       "\n",
       "       S&P_GSCI_Price          SUBURB   PRICE  BEDROOMS  BATHROOMS  POSTCODE  \\\n",
       "0            2,970.29  Mahogany Creek   98000       2.0          1      6072   \n",
       "1            2,970.29        Mardella  235000       4.0          1      6125   \n",
       "2            3,155.86      Upper Swan  706000       3.0          2      6069   \n",
       "3            3,119.23         Bickley  165000       3.0          1      6076   \n",
       "4            3,119.23      Mariginiup  196000       4.0          2      6078   \n",
       "...               ...             ...     ...       ...        ...       ...   \n",
       "232941       1,976.96      Bassendean  550000       3.0          1      6054   \n",
       "232942       1,976.96         Palmyra  629000       3.0          1      6157   \n",
       "232943       1,976.96    High Wycombe  480000       4.0          2      6057   \n",
       "232944       1,976.96  Secret Harbour  754000       4.0          3      6173   \n",
       "232945       1,976.96        Pearsall  422500       4.0          2      6065   \n",
>>>>>>> main
       "\n",
       "         CITY  \n",
       "0       Perth  \n",
       "1       Perth  \n",
       "2       Perth  \n",
       "3       Perth  \n",
       "4       Perth  \n",
       "...       ...  \n",
<<<<<<< HEAD
       "698833  Perth  \n",
       "698834  Perth  \n",
       "698835  Perth  \n",
       "698836  Perth  \n",
       "698837  Perth  \n",
       "\n",
       "[698838 rows x 13 columns]"
      ]
     },
     "execution_count": 16,
=======
       "232941  Perth  \n",
       "232942  Perth  \n",
       "232943  Perth  \n",
       "232944  Perth  \n",
       "232945  Perth  \n",
       "\n",
       "[232946 rows x 13 columns]"
      ]
     },
     "execution_count": 58,
>>>>>>> main
     "metadata": {},
     "output_type": "execute_result"
    }
   ],
   "source": [
    "#combine Perth and Sydney data into one DataFrame\n",
    "complete_city_df = pd.concat([clean_Sydney, clean_perth], ignore_index=True)\n",
    "#limit variables to match eachother\n",
    "complete_city_df = complete_city_df[[\n",
    "                          'SUBURB',\n",
    "                          'PRICE',\n",
    "                          'BEDROOMS',\n",
    "                          'BATHROOMS',\n",
    "                          'Date',\n",
    "                          'POSTCODE',\n",
    "                           'CITY']]\n",
    "\n",
    "#merge commodity prices with city data and add unique ID for each sale\n",
    "complete_df = pd.merge(clean_data, complete_city_df, on=\"Date\",how=\"inner\")\n",
    "complete_df.insert(0, 'ID', range(1, 1 + len(complete_df)))\n",
    "complete_df"
   ]
  },
  {
   "cell_type": "code",
<<<<<<< HEAD
   "execution_count": 17,
=======
   "execution_count": 59,
>>>>>>> main
   "metadata": {},
   "outputs": [],
   "source": [
    "#save data to complete_house_commodities.csv\n",
    "complete_df.to_csv('Outputs/complete_house_commodities.csv')"
   ]
  },
  {
   "cell_type": "code",
<<<<<<< HEAD
   "execution_count": 18,
=======
   "execution_count": 60,
>>>>>>> main
   "metadata": {},
   "outputs": [],
   "source": [
    "iron_city_df = pd.concat([perth_iron_df, sydney_iron_df], ignore_index=True)\n",
    "#limit variables to match eachother\n",
    "iron_city_df = iron_city_df[['Date',\n",
    "                             'Iron_Price',\n",
    "                             'SUBURB',\n",
    "                             'PRICE',\n",
    "                             'BEDROOMS',\n",
    "                             'BATHROOMS',\n",
    "                             'POSTCODE',\n",
    "                             'CITY']]\n",
    "iron_city_df = iron_city_df[iron_city_df['Date'] >= '2007-01']\n",
    "iron_city_df\n",
    "iron_city_df.to_csv('Outputs/complete_house_iron.csv')\n"
   ]
  },
  {
   "cell_type": "code",
<<<<<<< HEAD
   "execution_count": 19,
=======
   "execution_count": 61,
>>>>>>> main
   "metadata": {},
   "outputs": [],
   "source": [
    "iron_city_df['BEDROOMS'].value_counts()\n",
    "options = [2.0,3.0,4.0,5.0]"
   ]
  },
  {
   "cell_type": "code",
<<<<<<< HEAD
   "execution_count": 20,
=======
   "execution_count": 62,
>>>>>>> main
   "metadata": {},
   "outputs": [
    {
     "name": "stdout",
     "output_type": "stream",
     "text": [
      "potential outliers:\n"
     ]
    }
   ],
   "source": [
    "blank_df= pd.DataFrame(columns=['Date',\n",
    "                             'Iron_Price',\n",
    "                             'SUBURB',\n",
    "                             'PRICE',\n",
    "                             'BEDROOMS',\n",
    "                             'BATHROOMS',\n",
    "                             'POSTCODE',\n",
    "                             'CITY'])\n",
    "outlier_df = blank_df\n",
    "# Create empty list to fill with tumor vol data (for plotting)\n",
    "\n",
    "# Calculate the IQR and quantitatively determine if there are any potential outliers. \n",
    "for x in options:\n",
    "    \n",
    "    \n",
    "    # Locate the rows which contain mice on each drug and get the tumor volumes\n",
    "    quartiles = iron_city_df['BEDROOMS'][iron_city_df['BEDROOMS']== x].quantile([0.25,0.5,0.75])\n",
    "    \n",
    "    lowq  = quartiles[0.25]\n",
    "    highq = quartiles[0.75]\n",
    "    in_quart_r = highq - lowq\n",
    "    lower_b = (lowq - (1.5*in_quart_r))\n",
    "    upper_b = (highq + (1.5*in_quart_r))\n",
    "    \n",
    "    single_drug_df = iron_city_df[iron_city_df['BEDROOMS'] == x].reset_index(drop=True)\n",
    "\n",
    "    \n",
    "    \n",
    "    \n",
    "print(\"potential outliers:\")\n",
    "\n"
   ]
  },
  {
   "cell_type": "code",
   "execution_count": null,
   "metadata": {},
   "outputs": [],
   "source": []
  },
  {
   "cell_type": "code",
<<<<<<< HEAD
   "execution_count": 21,
=======
   "execution_count": 63,
>>>>>>> main
   "metadata": {},
   "outputs": [
    {
     "data": {
<<<<<<< HEAD
      "image/png": "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\n",
=======
      "image/png": "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\n",
>>>>>>> main
      "text/plain": [
       "<Figure size 432x288 with 1 Axes>"
      ]
     },
     "metadata": {
      "needs_background": "light"
     },
     "output_type": "display_data"
    }
   ],
   "source": [
    "data = {}\n",
    "\n",
    "for x in options:\n",
    "    data[x] = iron_city_df[iron_city_df['BEDROOMS'] == x].reset_index(drop=True)\n",
    "\n",
    "fig1, ax1 = plt.subplots()\n",
    "ax1.set_title('house sale price across bedroom types')\n",
    "dt = [data[2.0]['PRICE'],\n",
    "      data[3.0]['PRICE'],\n",
    "      data[4.0]['PRICE'],\n",
    "      data[5.0]['PRICE']]\n",
    "ax1.boxplot(dt)\n",
    "\n",
    "plt.xlabel('Bedrooms')\n",
    "plt.ylabel('Price')\n",
    "plt.xticks([1,2,3,4],options)\n",
    "\n",
    "plt.show()"
   ]
  },
  {
   "cell_type": "code",
<<<<<<< HEAD
   "execution_count": 22,
=======
   "execution_count": 64,
>>>>>>> main
   "metadata": {},
   "outputs": [
    {
     "data": {
      "text/plain": [
       "Text(0.5, 1.0, 'house sale price across bedroom types')"
      ]
     },
<<<<<<< HEAD
     "execution_count": 22,
=======
     "execution_count": 64,
>>>>>>> main
     "metadata": {},
     "output_type": "execute_result"
    },
    {
     "data": {
      "image/png": "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\n",
      "text/plain": [
       "<Figure size 432x288 with 1 Axes>"
      ]
     },
     "metadata": {
      "needs_background": "light"
     },
     "output_type": "display_data"
    }
   ],
   "source": [
    "fig1, ax1 = plt.subplots()\n",
    "ax1.set_title('house sale price across bedroom types')"
   ]
  },
  {
   "cell_type": "code",
<<<<<<< HEAD
   "execution_count": 23,
=======
   "execution_count": 65,
>>>>>>> main
   "metadata": {},
   "outputs": [],
   "source": [
    "#create data drame of 3 bedroom houses\n",
    "three_bed_df = iron_city_df[iron_city_df['BEDROOMS']==3]\n",
    "three_bed_df.to_csv('Outputs/three_bed_housing.csv')"
   ]
  },
  {
   "cell_type": "code",
<<<<<<< HEAD
   "execution_count": 24,
=======
   "execution_count": 66,
>>>>>>> main
   "metadata": {},
   "outputs": [
    {
     "data": {
      "text/plain": [
       "Text(0, 0.5, 'Price')"
      ]
     },
<<<<<<< HEAD
     "execution_count": 24,
=======
     "execution_count": 66,
>>>>>>> main
     "metadata": {},
     "output_type": "execute_result"
    },
    {
     "data": {
<<<<<<< HEAD
      "image/png": "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\n",
=======
      "image/png": "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\n",
>>>>>>> main
      "text/plain": [
       "<Figure size 432x288 with 1 Axes>"
      ]
     },
     "metadata": {
      "needs_background": "light"
     },
     "output_type": "display_data"
    }
   ],
   "source": [
    "fig1, ax1 = plt.subplots()\n",
    "ax1.set_title('house sale price across bedroom types')\n",
    "ax1.boxplot(three_bed_df[\"PRICE\"])\n",
    "\n",
    "plt.xlabel('Bedrooms')\n",
    "plt.ylabel('Price')\n",
    "\n"
   ]
  },
  {
   "cell_type": "code",
<<<<<<< HEAD
   "execution_count": 25,
=======
   "execution_count": 67,
>>>>>>> main
   "metadata": {},
   "outputs": [],
   "source": [
    "#create data drame of 4 bedroom houses\n",
    "four_bed_df = iron_city_df[iron_city_df['BEDROOMS']==4]"
   ]
  },
  {
   "cell_type": "code",
<<<<<<< HEAD
   "execution_count": 26,
=======
   "execution_count": 68,
>>>>>>> main
   "metadata": {},
   "outputs": [
    {
     "data": {
      "text/plain": [
       "Text(0, 0.5, 'Price')"
      ]
     },
<<<<<<< HEAD
     "execution_count": 26,
=======
     "execution_count": 68,
>>>>>>> main
     "metadata": {},
     "output_type": "execute_result"
    },
    {
     "data": {
<<<<<<< HEAD
      "image/png": "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\n",
=======
      "image/png": "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\n",
>>>>>>> main
      "text/plain": [
       "<Figure size 432x288 with 1 Axes>"
      ]
     },
     "metadata": {
      "needs_background": "light"
     },
     "output_type": "display_data"
    }
   ],
   "source": [
    "#create data drame of 4 bedroom 2 bathroom houses\n",
    "four_bed_2bath_df = four_bed_df[four_bed_df['BATHROOMS']==2]\n",
    "four_bed_2bath_df.to_csv('Outputs/four_bed_two_bath_housing.csv')\n",
    "\n",
    "fig1, ax1 = plt.subplots()\n",
    "ax1.set_title('house sale price across bedroom types')\n",
    "ax1.boxplot(four_bed_2bath_df[\"PRICE\"])\n",
    "\n",
    "plt.xlabel('Bedrooms')\n",
    "plt.ylabel('Price')\n"
   ]
  },
  {
   "cell_type": "code",
<<<<<<< HEAD
   "execution_count": 27,
=======
   "execution_count": 69,
>>>>>>> main
   "metadata": {},
   "outputs": [],
   "source": [
    "quartiles = four_bed_2bath_df['PRICE'].quantile([0.25,0.5,0.75])\n",
    "    \n",
    "lowq  = quartiles[0.25]\n",
    "highq = quartiles[0.75]\n",
    "in_quart_r = highq - lowq\n",
    "lower_b = (lowq - (1.5*in_quart_r))\n",
    "upper_b = (highq + (1.5*in_quart_r))\n",
    "\n",
    "trim_4b_2bath_df = four_bed_2bath_df[four_bed_2bath_df[\"PRICE\"] <= upper_b]\n"
   ]
  },
  {
   "cell_type": "code",
<<<<<<< HEAD
   "execution_count": 28,
=======
   "execution_count": 70,
>>>>>>> main
   "metadata": {},
   "outputs": [],
   "source": [
    "trim_4b_2bath_df.to_csv('Outputs/four_bed_two_bath_housing.csv')"
   ]
  },
  {
   "cell_type": "code",
<<<<<<< HEAD
   "execution_count": 29,
=======
   "execution_count": 71,
>>>>>>> main
   "metadata": {},
   "outputs": [
    {
     "name": "stdout",
     "output_type": "stream",
     "text": [
      "650000.0 1320000.0 670000.0 -355000.0 2325000.0\n"
     ]
    }
   ],
   "source": [
    "print(lowq,highq,in_quart_r,lower_b,upper_b)"
   ]
  },
  {
   "cell_type": "code",
<<<<<<< HEAD
   "execution_count": 30,
=======
   "execution_count": 72,
>>>>>>> main
   "metadata": {},
   "outputs": [
    {
     "data": {
      "text/plain": [
       "2325000.0"
      ]
     },
<<<<<<< HEAD
     "execution_count": 30,
=======
     "execution_count": 72,
>>>>>>> main
     "metadata": {},
     "output_type": "execute_result"
    }
   ],
   "source": [
    "upper_b"
   ]
  },
  {
   "cell_type": "code",
<<<<<<< HEAD
   "execution_count": 31,
=======
   "execution_count": 73,
>>>>>>> main
   "metadata": {},
   "outputs": [
    {
     "data": {
      "text/plain": [
       "Text(0, 0.5, 'Price')"
      ]
     },
<<<<<<< HEAD
     "execution_count": 31,
=======
     "execution_count": 73,
>>>>>>> main
     "metadata": {},
     "output_type": "execute_result"
    },
    {
     "data": {
      "image/png": "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\n",
      "text/plain": [
       "<Figure size 432x288 with 1 Axes>"
      ]
     },
     "metadata": {
      "needs_background": "light"
     },
     "output_type": "display_data"
    }
   ],
   "source": [
    "fig1, ax1 = plt.subplots()\n",
    "ax1.set_title('Four Bedroom Two bathroom house price')\n",
    "ax1.boxplot(trim_4b_2bath_df[\"PRICE\"])\n",
    "\n",
    "plt.xlabel('4 bedroom')\n",
    "plt.ylabel('Price')"
   ]
  },
  {
   "cell_type": "code",
<<<<<<< HEAD
   "execution_count": 32,
=======
   "execution_count": 74,
>>>>>>> main
   "metadata": {},
   "outputs": [],
   "source": [
    "y2007 = trim_4b_2bath_df[(trim_4b_2bath_df[\"Date\"]>= '2007-01') & (trim_4b_2bath_df[\"Date\"] <= '2007-12')]['PRICE']\n",
    "y2008 = trim_4b_2bath_df[(trim_4b_2bath_df[\"Date\"]>= '2008-01') & (trim_4b_2bath_df[\"Date\"] <= '2008-12')]['PRICE']\n",
    "y2009 = trim_4b_2bath_df[(trim_4b_2bath_df[\"Date\"]>= '2009-01') & (trim_4b_2bath_df[\"Date\"] <= '2009-12')]['PRICE']\n",
    "y2010 = trim_4b_2bath_df[(trim_4b_2bath_df[\"Date\"]>= '2010-01') & (trim_4b_2bath_df[\"Date\"] <= '2010-12')]['PRICE']\n",
    "y2011 = trim_4b_2bath_df[(trim_4b_2bath_df[\"Date\"]>= '2011-01') & (trim_4b_2bath_df[\"Date\"] <= '2011-12')]['PRICE']\n",
    "y2012 = trim_4b_2bath_df[(trim_4b_2bath_df[\"Date\"]>= '2012-01') & (trim_4b_2bath_df[\"Date\"] <= '2012-12')]['PRICE']\n",
    "y2013 = trim_4b_2bath_df[(trim_4b_2bath_df[\"Date\"]>= '2013-01') & (trim_4b_2bath_df[\"Date\"] <= '2013-12')]['PRICE']\n",
    "y2014 = trim_4b_2bath_df[(trim_4b_2bath_df[\"Date\"]>= '2014-01') & (trim_4b_2bath_df[\"Date\"] <= '2014-12')]['PRICE']\n",
    "y2015 = trim_4b_2bath_df[(trim_4b_2bath_df[\"Date\"]>= '2015-01') & (trim_4b_2bath_df[\"Date\"] <= '2015-12')]['PRICE']\n",
    "y2016 = trim_4b_2bath_df[(trim_4b_2bath_df[\"Date\"]>= '2016-01') & (trim_4b_2bath_df[\"Date\"] <= '2016-12')]['PRICE']\n",
    "y2017 = trim_4b_2bath_df[(trim_4b_2bath_df[\"Date\"]>= '2017-01') & (trim_4b_2bath_df[\"Date\"] <= '2017-12')]['PRICE']\n",
    "y2018 = trim_4b_2bath_df[(trim_4b_2bath_df[\"Date\"]>= '2018-01') & (trim_4b_2bath_df[\"Date\"] <= '2018-12')]['PRICE']\n",
    "y2019 = trim_4b_2bath_df[(trim_4b_2bath_df[\"Date\"]>= '2019-01') & (trim_4b_2bath_df[\"Date\"] <= '2019-12')]['PRICE']"
   ]
  },
  {
   "cell_type": "code",
<<<<<<< HEAD
   "execution_count": 33,
=======
   "execution_count": 75,
>>>>>>> main
   "metadata": {},
   "outputs": [],
   "source": [
    "data = [y2007,\n",
    "        y2008,\n",
    "        y2009,\n",
    "        y2010,\n",
    "        y2011,\n",
    "        y2012,\n",
    "        y2013,\n",
    "        y2014,\n",
    "        y2015,\n",
    "        y2016,\n",
    "        y2017,\n",
    "        y2018,\n",
    "        y2019] "
   ]
  },
  {
   "cell_type": "code",
<<<<<<< HEAD
   "execution_count": 34,
=======
   "execution_count": 94,
>>>>>>> main
   "metadata": {},
   "outputs": [
    {
     "data": {
<<<<<<< HEAD
      "image/png": "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\n",
=======
      "image/png": "iVBORw0KGgoAAAANSUhEUgAAAYIAAAEWCAYAAABrDZDcAAAAOXRFWHRTb2Z0d2FyZQBNYXRwbG90bGliIHZlcnNpb24zLjQuMywgaHR0cHM6Ly9tYXRwbG90bGliLm9yZy/MnkTPAAAACXBIWXMAAAsTAAALEwEAmpwYAAApMUlEQVR4nO3de5wddX3/8dd7L9lALiQhgUASWBTUZK1aSQEBKxcNhoLQVikgoAahoQa1P4o/bCyiNmgtaa3xElHyQ9QEL1WgLWmkXIWKQBCQENCoAUK4BVhygWRz+fz+mDnx7ObsLTtzds+Z9/PxOI89c9nv5ztzZuYz1+8oIjAzs+JqGOwKmJnZ4HIiMDMrOCcCM7OCcyIwMys4JwIzs4JzIjAzKzgnAuszSaslvXOw6zFYJB0jaU2G5X1Q0p1ZlZenevvtJR0gaaOkxsGuy1DgRFAF6Ur0arrglT77VyHubZI2p/FelnSHpD/KO241SVpaNk+3Suoo61442PUrkdQqKSQ1DXZdDCLiiYgYGRHbB7suQ4ETQfWcnC54pc/aLAvvYc9mTkSMBPYGbgO+k2XcsviDsoGLiJmleQp8D/hi2TyePRh1yoMSXl8z4GS8Ky9Yg0hSi6QvSVqbfr4kqSUdtstpg3SP8uD0+9WSvi7pRkmbgGN7ihUR24BrgWll5TVIukTSbyW9IOkHksaVDT9b0uPpsLld6nKZpB9J+q6k9cAHJe0v6QZJL0paJem8Pk7rMZLWSPqEpOckPS3pVEknSvp1Wt7f93Pe3i7pL9PvR6fz7sS0+52SHiibB59Kp/M5SddI2quXsv9e0rr0SO/9Zf3/TNIvJa2X9KSky8r+7Y70b3t6tPK2sv+7QtJLkn4vaWZZ/9skzZN0F/AK8BpJR0q6Nz3Cu1fSkWXj9zT/L5P0w/T32iDpV5JeJ+mT6XQ/KWlGL7P1LZIeSmN/X9LwsvLPS2O+mNZh/7T/LkdC6XR9OP1+cPpbvZzO0++XjfcGSTelZT4m6bQefpPbJH1e0j1pWdeXluWyOpwr6Qnglq71kjRO0v9Ll82XJF1XVvZJkh6Q1C7pfyW9qZf5VHOcCAbXXOAI4C3Am4HDgE/14//PBOYBo4AezzVLGga8H7i7rPdHgVOBdwD7Ay8BX03HnwZ8HTg7HbY3MLlLsacAPwLGkOyNLwHWpOO/F7hc0vF9nNaJwHBgEnAp8E3gLOBQ4O3ApZJe09M0dnE7cEz6/U+B36XTWeq+Pf3+wfRzLPAaYCTwlR7KnQiMT+v5AeBKSa9Ph20CziGZH38GXCDp1LKYAGPSo5Wfp92HA4+lZX4RuEqSyuKdDZxP8htvAP4L+DLJ7/EvwH9J2jsdt6f5D3AyyRHhWOCXwDKSbcAk4LPAN3qYboDTgHcDBwFvIplvSDoO+Hw6fD/gcZKdjr74HPDTtE6TgQVpmSOAm4DFwD7AGcDXJLX1UNY5wCyS6d9GMp/KvQOYCpxQ4X+/A+wJtKXx/jWtx1uBRcBfk8zzbwA3KN2JqRsRUXMfkh/mOeDhPo5/GvAIsAJYPAj1XQ1sBNrTz3Vp/98CJ5aNdwKwOv3+QeDOLuUEcHD6/Wrgml7i3kayJ9kOdAAvA8eXDV/ZpXs/YCvQRLIxvrZs2Ii0jHem3ZcBd5QNnwJsB0aV9fs8cHUfpvUY4FWgMe0elU7r4WXjLwdO7WV6rwb+Mf1+PPBQ+v2/gQ8Dd6fdtwN/kX6/GfibsjJeX5oHFco/hmQDM6Ks3w+Af+imPl8C/jX93ppOU1PZ8A8Cq8q690zHmVj2+322bPjZwD1dYvw8Lae3+X8ZcFPZsJNJlsmu83xMD8vwWWXdXwQWpt+vIjklVxo2Mp2Hrd1M923Ah9Pv1wBXApO7xPsr4Gdd+n0D+HQPy/oXyrqnkSyvjWV1eE3Z8J31IlnudwBjK5T7deBzXfo9BrxjoNuFofSp1SOCq0n2THol6RDgk8BREdEGfDy/avXo1IgYk35OTfvtT7L3VPJ42q+vnuzDOB+NiDEke9snAT8qO7Q9EPhJesjbTpIYtgP7pvXYWX5EbAJe6CH+/sCLEbGhrN/jJHubpeE9TesL8YcLd6+mf58tG/4qyQamr34OvE7SviRHIdcAUySNJzkaKZ2qqVSvJpJ5UMlL6bzYZTokHS7pVknPS3oZmE2yp9+TZ0pfIuKV9Gv5dHadx+V1LcWfRO/zH3adn+sqzPOe5vEzZd9fKRu3U70iYiPJslIeuzufAATcI2mFpFlp/wOBw0vLZrp8vp/kiKw75fPqcaCZzvO/u/VlCsm8e6nCsAOBi7rUYwr9W0+HvJpMBBFxB/BieT9Jr5X035KWS/qZpDekg84Dvlr6kSPiuSpXtydrSRa0kgPSfpCcZtizNEBSpRWgz03HRsSOiPgZsAoonQt+EphZlqDGRMTwiHgKeJpkgS/F35Pk0Li7+GuBcZJGdZmep8qGdzetmUs3qsuBj5EcOXYA/wv8H+C3EbGuh3pto/NGs9zY9LRF+fil6VgM3ABMiYi9gIUkGznox2/VdVLKvnetayn+U/Q+//PUqV7p/Nk7jV1KmnuWjb9zWY6IZyLivIjYn+T0y9eUXAd7Eri9y7I5MiIu6KEeU8q+H0ByVLKurF93v8GTJPNuTDfD5nWpx54RsaSHetScmkwE3bgSuDAiDgX+Dvha2v91JHuGd0m6W1KfjiSqZAnwKUkT0j3VS4HvpsMeBNokvSW9KHfZQIMpuUA5jeQUGSQbqnmSDkyHT5B0SjrsR8BJSi60DiM5h9zt8hIRT5JsaD8vaXh61HEuybWD3qY1L7cDc/jD9YDbunSX6vW3kg6SNBK4HPh+JBfXu/MZScMkvZ3kKOuHaf9RJHuWmyUdRnINp+R5ktMP/bnO0dWNJMvymZKaJP0Vye/5n32Y/3laDHwoXVZbSObhLyJidUQ8T5IQzpLUmO7xv7b0j5LeJ6l07eklko31duA/02k9W1Jz+vkTSVN7qMdZkqalOy2fBX4Ufbg9NCKeBpaSJKGxaazSNZ1vArPToz1JGqHkpoBR3ZdYe+oiEaQr8JHAD5XcDfINkvN+kBzmH0JyfvcM4FvdZP7B8I/AfcBDwK+A+9N+RMSvSRbm/wF+Qy8Xg3vwFaX31ZNcEPtURCxNh/0byR7sTyVtILmQfHgafwXwEZKV/GmSlbS3h6nOIDn3uhb4Ccn53Jt6m9Yc3U6ycb6jm25Irjd9J+33e2AzcGEPZT5DMi/WkmxkZ0fEo+mwvwE+m87LS0muHwA7j1DmAXelpxiO6O/ERMQLJInnIpJTL58ATio7uulp/ucmIm4G/gH4d5Jl5bXA6WWjnAdcnNa5jSRhlfwJ8It0+bwB+FhE/D49xTUjLWctyXz/J6Cni7TfITlt/AzJqdCP9mMyziY5gniU5Prjx9Npuy+t/1dIfvdVpBfJ64nSix81R1IryZ7QGyWNBh6LiP0qjLeQ5CLh1Wn3zcAlEXFvNetrZvmRdBvw3Yj41mDXpRbVxRFBRKwHfi/pfbDz4Zs3p4OvI73HPj0l8TqSWwnNzIwaTQSSlpDcFfJ6JQ8inUtyR8G5kh4kOQdeOte9DHhB0iPArcDF6SG2mZlRw6eGzMwsGzV5RGBmZtmpucaXxo8fH62trYNdDTOzmrJ8+fJ1ETGh0rCaSwStra3cd999g10NM7OaIqnrU+k7+dSQmVnBORGYmRWcE4GZWcE5EZiZFZwTgZlZwTkR2JC0ZMkS3vjGN9LY2Mgb3/hGlizJvtXfasSohhNOOIGGhgYk0dDQwAknVHoB19BWjWnYe++9kbTzs/feXVtVH7hqTEcuy+1gvxmnv59DDz00rL4tXrw4JkyYEK2trSEpWltbY8KECbF48eJcYjQ0NOQSoxSnra0tGhoaoq2tLfPyZ8yYEUCMHTu2098ZM2ZkGidPpWno+slyGsaNG1cxxrhx4zKLUZqOhoaGTn+znI6BLLfAfdHNdnXQN+z9/dR6IpgzZ060tLQEEC0tLTFnzpyajJGnyZMnR3Nzc6cVtrm5OSZPnpxpjGHDhnWKMWzYsExjLF68uOLGJ8tkUKn80qdWlOorqdPfLKehGvOpGjEmT55csfy+LLdOBEPEnDlzoqmpKebPnx+bNm2K+fPnR1NTU6Yb6jlz5kRDQ0NMnDix099aSgalhfuCCy6I9vb2uOCCC3JbaasRY/jw4XH33XfH8OHDa27j01P5WccoXy/ynE9XXHFFzSaCUnmtra2xatWqaG1t7XMMJ4IhoqWlJebPn9+p3/z586OlpSWzGE1NTdHS0rJzj7q5uTlaWlqiqakpsxh5A2L8+PGd9hDHjx+f+QpVjRj1sBdaHisPQHRdrw899NCam0/VijF69OhOpxtHjx494ETgi8VVtGXLFmbPnt2p3+zZs9myZUtmMbZt28aWLVvYunUrAFu3bmXLli1s29bTmxf7rvxiW6VPVtatW8fJJ5/M888/z8knn8y6det6/6fdiDFy5EgaGhoYOXJkLjEAhg8f3ulvHvbdd19WrlzJvvvum1uMPC1fvrzTcrR8+fLBrtKQtX79etatW8eOHTtYt24d69evH3CZTgRV1NLSwsKFCzv1W7hwIS0tPb19b/eMGjWKhoYGRo3K9tWq5XsRXbtL/bIgiaVLlzJhwgSWLl2aaZIpt+eee7Jjxw723HPP3kfeTXvttVenv3l49tlnmTp1Ks8++2xuMWzoKP3OWf3eTgRVdN5553HxxRczceJEGhoamDhxIhdffDHnnXde5rE2bNjAjh072LBhQ+ZlV0NEdDqqyTLJlOvo6EASHR0duZQP2a+09WbOnDn96m/ZcyKooiOPPJIRI0bw4osvEhG8+OKLjBgxgiOPPHKwq1ZIkyZNor29nYigvb2dSZMmDXaVCmnBggXMmTNn55FxS0sLc+bMYcGCBYNcs+JwIqiiefPmcf3119PR0UFE0NHRwfXXX8+8efMyj1V+1FGrxo4d2+lvlkaMGMFTTz3F7NmzaW9vZ/bs2Tz11FOMGDEi81jWuwULFrB582YANm/e7CTQi4aGhk5/B6rmXlU5ffr0qNX3ETQ2NrJ582aam5t39tu6dSvDhw9n+/btmcTo6Vx61r+1pFxO2UiisbGx0zwpdWcVb8mSJXzgAx/YefoJoLm5mW9/+9ucccYZmcSoxm9RD793NWLUy29RitHQ0MCOHTt2/u1LDEnLI2J6pWE+IqiiqVOncuedd3bqd+eddzJ16tRBqtHQ1TUxZpUoy3W9kyqrO6sGQ2trK6tWrcJv7yuG0sa/9HegnAiqaO7cuZx77rnceuutbN26lVtvvZVzzz2XuXPnDnbVCuecc84hInbuYZX2RM8555xBrtnuWb16NQcffDCrV68e7KpYDaq5V1XWstIphwsvvJCVK1cydepU5s2bl9mpiHrT3NzM1q1bd/7NUmnvv6Ghge3bt+/8W8tHBWa7y0cEVXbGGWfw8MMPs337dh5++OFcksCwYcNobW1FEq2trQwbNizzGHkbPXo0y5Yto6Ojg2XLljF69Ohc4owfPx5JjB8/PpfyAdra2nj88cdpa2vLLYb1bMqUKf3qXzROBFVWjaaPOzo6ePXVV4kIXn311Vzvkc/L+vXrOe644xg2bBjHHXdcJk9PdifvC6ArVqzgwAMPZMWKFZmXPWPGDGDXu0hK/S3xxBNP7LLRnzJlCk888cQg1WiI6a7tiaH6qeW2hhYvXhwHHXRQ3HLLLdHR0RG33HJLHHTQQbm0RrnHHnuEpNhjjz1qsu2Z7j5ZxyhvkymvGHlOR0TS/HF5m0l5NUGd1+9dLzGqudw2NTV1+tuXGLjRub7Ju+34tra2uOWWWzr1u+WWW6KtrS2zGNXa+JRi5aGaK1Stx+gaL0+1vJGuRoyhvkz1lAh8aii1ZMkS5s6du/PBlgULFjB37txMT92sXLmSo48+ulO/o48+mpUrV2YWA5L2c0rPKjQ3N+fajk5eRo8eTWtrKw0NDbS2tuZ2jcDMfI1gp3nz5nHVVVdx7LHH0tzczLHHHstVV12V6VO/1XiOYPLkyRVbH508eXJmMaph/fr1rF69mh07drB69erMrxF09wSxnyy2InIiSFVjb70azxGMHTuW7du3M3LkSABGjhzJ9u3bc2mmIW+NjY3cdtttNDY2Zl72pk2b+tV/oK699tpcyjXLRHfnjIbqJ69rBNU4fx+R/3UISXH88cd3inH88ceHpEzjRNTHudby9yLnFSPP6egaL095l1/rMaq53O5ODHyxuHfVvKMn7wWlvb29U7/29vaau1g8evToThvpvr6FqT8xTjvttE79TjvttFxW2pEjR3b660RQnzGqmQh25/3OPSUCP1mcqsZTv8lvkcizAa8xY8bkUm41bdu2jREjRiCJESNG8Nxzz2Ue4wc/+AF33HEHzz33HPvssw/PPPNM5jEANm7c2Omv2UCVth1ZbUN8jaBMNZ76zVvpQaILLrig099aesCoqamJV155hbVr1/LAAw+wdu1aXnnlFZqast9veeaZZ9ixY0cuSaC7JoKzajrYLCtuhnqQ5HlEcMIJJ3DTTTcRkTSq9q53vYtly5ZlHifPaWhubu7U7k9TU1Om7Q01NTVVbNG0sbEx0/aGGhsbO7UQWWrTKA95NxNdy81QVyPGUG/quqdmqH1qqA6VNvqSMmumtpoqLezbtm3LdAXevn07o0aNYuPGjTsT5siRIzN/tWdpo1+NDZzZ7vIxqg055RexKnVnZdOmTVxxxRWd/poVUW6JQNIUSbdKWilphaSPVRhHkr4saZWkhyS9Na/69EU1GoSzoWPHjh1cdNFFjBgxgosuuqgmj57MspDnqaFtwEURcb+kUcBySTdFxCNl48wEDkk/hwNfT/9WXamJiauuuoqjjz6aO++8k3PPPRegJi8aW9+Vv+7PrIhyOyKIiKcj4v70+wZgJTCpy2inANekt7neDYyRtF9ederJvHnzOPPMM7nwwgsZPnw4F154IWeeeWYuL5a3ocVJwLLQ3V1tedztlrWq1FBSK/DHwC+6DJoEPFnWvSbt93SX/z8fOB/ggAMOyKWOjzzyCJs2bWLRokU7jwhmzZrF448/nks8GxpGjhzJxo0bd/41212lt+nlebdbXnK/WCxpJPDvwMcjomvLYZXuhdrlimBEXBkR0yNi+oQJE/KoJsOGDWPSpEnMnDmTYcOGMXPmTCZNmlSTb/eyvvPDXpalrVu3drrJoRaSAOScCCQ1kySB70XEjyuMsgYof23QZGBtnnXqzpYtW7jrrruYNWsW7e3tzJo1i7vuuostW7YMRnWsSoYPH87dd9/N8OHDB7sqZoMmz7uGBFwFrIyIf+lmtBuAc9K7h44AXo6Ip7sZN1eSaGtrY9GiRYwZM4ZFixbR1tbW4wMcVvs2b97MEUccwebNmwe7KmaDJs8jgqOAs4HjJD2Qfk6UNFvS7HScG4HfAauAbwJ/k2N9ehQRPProo1x++eVs2rSJyy+/nEcffdQPAdWxxsZG5s+fz6ZNm5g/f34uzV2b1QI3MZFqaGhg2rRprFq1ii1bttDS0sLBBx/MI488kstdJbX8KH21ys8zRjWaA+gar1bnVbXKd4y+ldudgTQx4SeLUxHBihUrOl0jWLFihY8I6lSpEb7SC3tKf2upcT6zrDgRpFpaWjjqqKM6XSM46qijaGlpGeyqWQ6WLVvGjBkzaG9vB6C9vZ0ZM2bk0jif2VDnRJDq6Ohg7dq1LF26lI6ODpYuXcratWvp6OgY7KpZTpYtW7bztN+OHTucBKywhv4jb1Uybdo0Tj311E4vpjnzzDO57rrrBrtqZma58hFBau7cuSxevJgFCxawefNmFixYwOLFizN9sbyZ2VDkI4JUNV5VaWY2FPn20UFSy7ewVat8xxhaMephGmo9hm8fNTOzXDgRmJkVnBOBmVnBORGYmRWc7xpKVbvtGTOzocKJIFW+sa/GXQVmZkOFTw2ZmRWcE4GZWcE5EZiZFZwTgZlZwTkRmJkVnBOBmVnBORGYmRWcE4GZWcE5EZiZFZwTgZlZwTkRmJkVnBOBmVnBORGYmRWcE4GZWcE5EZiZFZwTgZlZjZgyZUq/+veVE4GZWY144okndtnoT5kyhSeeeGJA5foNZWZmNaS00c/yTYo+IjAzKzgnAjOzgsstEUhaJOk5SQ93M/wYSS9LeiD9XJpXXczMrHt5XiO4GvgKcE0P4/wsIk7KsQ5mZtaL3I4IIuIO4MW8yjczs2wM9jWCt0l6UNJSSW3djSTpfEn3Sbrv+eefr2b9zMzq3mAmgvuBAyPizcAC4LruRoyIKyNiekRMnzBhQrXqZ2ZWCIOWCCJifURsTL/fCDRLGj9Y9TEzK6pBSwSSJkpS+v2wtC4vDFZ9zMyKKre7hiQtAY4BxktaA3waaAaIiIXAe4ELJG0DXgVOj6wekzMzsz7LLRFExBm9DP8Kye2lZmY2iAb7riEzMxtkTgRmZgXnRGBmVnBOBGbWybhx45C0yweo2F8S48aNG+Ra20D4fQRm1slLL73U73buS4nCapOPCMzMCs6JwMys4JwIzMwKzonAeuWLh2b1zReLrVe+eGhZGzduHC+99FLFYZWWnbFjx/Lii369SV6cCMxqSE8bUKidjWh/dy68Y5EvJwKzGuKjs77zUUffORGYWV3yUUff+WKxmVnB9SkRSHqdpJslPZx2v0nSp/KtmpmZVUNfjwi+CXwS2AoQEQ8Bp+dVqXrS31svfdulmVVbXxPBnhFxT5d+27KuTD0qnafs66enO0Js6HPit1rU14vF6yS9FggASe8Fns6tVlY49XKHhy9QWi3qayL4CHAl8AZJTwG/B87KrVZWON6Amg2ePiWCiPgd8E5JI4CGiNiQb7XMzKxa+nrX0OWSxkTEpojYIGmspH/Mu3LWu+7OSfu8tFn+6uWaUF8vFs+MiPZSR0S8BJyYS42sX/p7MdoXpM2yUy83g/Q1ETRKail1SNoDaOlhfDMzqxF9TQTfBW6WdK6kWcBNwLfzq5ZZ9urlMN4sa329WPxFSb8CjgcEfC4iluVaM7OM+c4ks8r63OhcRCwFluZYl6qrl3vXzcwGosdEIOnOiDha0gbSh8lKg4CIiNG51i5n3kM0M+slEUTE0enfUdWpjpmZVVuvF4slNZRaHTUzs/rTayKIiB3Ag5IOqEJ9zMysyvp6sXg/YIWke4BNpZ4R8Z5camVmZlXT10TwmVxrYWZmg6a3u4aGA7OBg4FfAVdFhN9DYGZWR3q7RvBtYDpJEpgJzM+9RmZmVlW9JYJpEXFWRHwDeC/w9r4WLGmRpOe6u+NIiS9LWiXpIUlv7Ue9zcwsI70lgq2lL7txSuhq4N09DJ8JHJJ+zge+3s/yzcwsA71dLH6zpPXpdwF7pN29PlkcEXdIau2h7FOAayJ5tPduSWMk7RcRfgWmmVkV9fZkcWOOsScBT5Z1r0n77ZIIJJ1PctTAAQf4cQYzsyz1tRnqPFRquKdiwz8RcWVETI+I6RMmTMi5WmZmxdLn1kdzsAaYUtY9GVg7SHUxqwnx6dFw2V79/58hFsOGlsFMBDcAcyRdCxwOvOzrA2Y902fW96vFXEhazY3LhlYMG1pySwSSlgDHAOMlrQE+DTQDRMRC4EaS9x6vAl4BPpRXXczMalFP70yB7N6bklsiiIgzehkewEfyim9mVuv6+84U2L33pgzmqSGrET5nbFbfnAisVz5nbFbfnAhsSOjvUcdQPeKol+mwYnEisCGhv0cdQ/WIo16mw4rFiSBn3kM021U11guve32n/p77HWzTp0+P++67L5OyJPV/7213zpXnGGMo1qkaMYZinaoRYyjWqRoxhmKdqhEjyzpJWh4R0yv9j48IrDC8h2hWmROBFYbP35tV5kRQ43yPv5kNVKGvEfR3A5r8z8v9Gr2WziHWUoyhWKdqxBiKdapGjKFYJyD3bYivEVSBTxWY2UDUyzZkMN9HYGZmQ4ATgZlZwTkRmJkVnBOBmVnBORGYmRWcE4GZWcE5EZiZFVyhnyMwq0X9fRXh2LFjc6qJ1QsnAusTb3yGhp4eXtqtJ2N7KKs//Hvno1pNyDgRWK+627hkueGpJ/3ZiA7FDah/76GjWq+JdSKwIaPWN6DgjWh/VOP3rodlqhqcCKrAC2PvvAEtlmr83l6m+q7wiSDvjbQXRjMb6gqdCLyRLh4fnZntqtCJwIrFid/yUA87F04EZma7qV52LvxksZlZwfmIoA744R8zGwgnghpXrSdNzax++dSQmVnBORGYmRWcE4GZWcHlmggkvVvSY5JWSbqkwvBjJL0s6YH0c2me9TEzs13ldrFYUiPwVeBdwBrgXkk3RMQjXUb9WUSclFc9zMysZ3keERwGrIqI30VEB3AtcEqO8czMbDfkmQgmAU+Wda9J+3X1NkkPSloqqa1SQZLOl3SfpPuef/75POpqZjYkSerXZ3eeE8rzOYJKTzl1van9fuDAiNgo6UTgOuCQXf4p4krgSoDp06f7xngzK4RqPSeU5xHBGmBKWfdkYG35CBGxPiI2pt9vBJoljc+xTmZm1kWeieBe4BBJB0kaBpwO3FA+gqSJSttHkHRYWp8XcqyTmZl1kdupoYjYJmkOsAxoBBZFxApJs9PhC4H3AhdI2ga8CpwebhPBzKyqcm1rKD3dc2OXfgvLvn8F+EqedTAzs575yWIzs4JzIjAzKzgnAjOzgnMiMDMrOCcCM7OCcyIwMys4JwIzs4JzIjAzKzgnAjOzgnMiMDMrOCcCM7OCcyIwMys4JwIzs4JzIjAzKzgnAjOzgnMiMDMrOCcCM7OCcyIwMys4JwIzs4JzIjAzKzgnAjOzgnMiMDMrOCcCM7OCcyIwMys4JwIzs4JzIjAzKzgnAjOzgnMiMDMrOCcCM7OCcyIwMyu4psGugJlZ3iR12x0R1a7OkONEYGZ1zxv7njkRmFm3etqTBm9g64UTgVkNy/uUhzf0xZDrxWJJ75b0mKRVki6pMFySvpwOf0jSW/Osj1m9iYhuP2Z9lVsikNQIfBWYCUwDzpA0rctoM4FD0s/5wNfzqo+ZmVWW5xHBYcCqiPhdRHQA1wKndBnnFOCaSNwNjJG0X451MjPLhaSdn0rdQ1me1wgmAU+Wda8BDu/DOJOAp8tHknQ+yREDBxxwQOYVTWN0253VYXY9xKjGxcN6mE/VilEP6mU+VaOuec2rPBNBpTTYtaZ9GYeIuBK4EmD69Om5zO1q/Ij1EKMepqGeYtQDz6e+y2te5XlqaA0wpax7MrB2N8YxM7Mc5ZkI7gUOkXSQpGHA6cANXca5ATgnvXvoCODliHi6a0FmZpaf3E4NRcQ2SXOAZUAjsCgiVkianQ5fCNwInAisAl4BPpRXfczMrLJcHyiLiBtJNvbl/RaWfQ/gI3nWwczMeubWR83MCs6JwMys4JwIzMwKzonAzKzgVGsPc0jaADyWc5jxwDrHGPTyHWNoxaiHaShyjAMjYkKlAbXYDPVjETE9zwCS7nOMwS/fMYZWjHqYBseozKeGzMwKzonAzKzgajERXOkYQyZGPUyDYwyd8h1jkGLU3MViMzPLVi0eEZiZWYacCMzMCq7wiUDSuyU9JmmVpEvSft+X9ED6WS3pgRxivEXS3WmM+yQdlkOMN0v6uaRfSfoPSaMHUP4iSc9Jeris3zhJN0n6Tfp37ACnoVKM90laIWmHpAHfKtdNjH+W9KikhyT9RNKYHGJ8Li3/AUk/lbR/luWXDfs7SSFp/O6W310MSZdJeqps3Tgx6xhp/wvTZXmFpC9mHSOH9btSjMzW727Kz2zdBpI33hT1Q9I89m+B1wDDgAeBaV3GmQ9cmnUM4KfAzHScE4HbcohxL/COdJxZwOcGEONPgbcCD5f1+yJwSfr9EuCfBvh7VIoxFXg9cBswPYPfvFKMGUBT+v2fcpqO0WXfPwoszLL8tP8UkmbfHwfG5zANlwF/N9DfoJcYxwL/A7Sk3ftkHaPL8AGt3z1MR5brd6XyM1u3I6LwRwSHAasi4ncR0QFcC5xSGihJwGnAkhxiBFDK4nsxsDezdRfj9cAd6Tg3AX+5uwEi4g7gxS69TwG+nX7/NnDq7pbfXYyIWBkRmT1J3k2Mn0bEtrTzbpI35WUdY31Z5wgqvJJ1IOWn/hX4xEDK7kOMzHQT4wLgCxGxJR3nuRxiAJmt393FyGz97qb8zNZt8KmhScCTZd1r0n4lbweejYjf5BDj48A/S3oSuAL4ZA4xHgbek/Z7H51fC5qFfSN9o1z6d5+Myx8Ms4CleRQsaV76e78fuDTjst8DPBURD2ZZbgVz0lNciwZ6KrAbrwPeLukXkm6X9Cc5xCjJYv3uzsfJbv2uJNN1u+iJQBX6le9NncEA9xZ6iHEB8LcRMQX4W+CqHGLMAj4iaTkwCugYQIy6J2kusA34Xh7lR8Tc9Pf+HjAnq3Il7QnMJePkUsHXgdcCbwGeJjmtkrUmYCxwBHAx8IN0zz0PWazf3cly/a4k03W76IlgDZ0z6WTSQzhJTcBfAN/PKcYHgB+n/X5Icnon0xgR8WhEzIiIQ0kW+N8OIEYlz0raDyD9O6DD+MEk6QPAScD7Iz3xmqPFDPBQvovXAgcBD0paTfL73y9pYoYxiIhnI2J7ROwAvsnAltnurAF+HIl7gB0kjatlKsP1uztZrt+7yHrdLnoiuBc4RNJBkoYBpwM3pMPeCTwaEWtyirEWeEc6znHAQA5PK8aQtA+ApAbgU8DCHsrYHTeQLPCkf6/PuPyqkPRu4P8C74mIV3KKcUhZ53uAR7MqOyJ+FRH7RERrRLSSbEzfGhHPZBUDdib7kj8nOT2RtetI1gckvY7k5oc8WvHMav3uTpbr9y4yX7cHcqW5Hj4kV/R/TZJR55b1vxqYnVcM4GhgOckdPr8ADs0hxsfSfr8GvkD6JPlulr+E5HTAVpINzbnA3sDNJAv5zcC4AU5DpRh/nn7fAjwLLMshxiqSaywPpJ/dvqOnhxj/TrLhfAj4D2BSluV3Gb6agd81VGkavgP8Kp2GG4D9cogxDPhuOq/uB47LOkbaP8v1u9J0ZLZ+d1N+Zut2RLiJCTOzoiv6qSEzs8JzIjAzKzgnAjOzgnMiMDMrOCcCM7OCcyIw202SviTpT9Pv30tbzHw4bX6hOe0vSV9W0irsQ5LeWvb/u7QYm/bvc6uukoZJuiN9QMpstzgRmPWBpMYu3eOAIyJpEAySZiPeAPwRsAfw4bT/TOCQ9HM+STMNpfK+mg6fBpwhaVr6P5cAN0fEISTPZ+xMEl1F0sjgzcBfDXASrcCcCKyupO3+f6yse56kj6bfL5Z0b7pn/pmyca6TtDxt//78sv4bJX1W0i+At3UJ9V7gv0sdEXFjpIB7+EMLpqcA16SD7gbGpE/o9tTybcVWXSW1SbonbeP+obKnla8jacjObLc4EVi9uYq02Yv08fvTge9JmkGyV34YSaNph5ZO6wCzImmzZTrwUUl7p/1HkLQBf3hE3NklzlEkT452kp4SOps/JInuWobtqeXb7lp1nQ38W0S8Ja1rqXmEh4E8W+m0OufzilZXImK1pBck/TGwL/DLiHghTQQzgF+mo44kSQx3kGz8/zztPyXt/wKwnaRpiEr2A56v0P9rwB0R8bO0u7uWYXtr+baSnwNzJU0maZjtNwARsV1Sh6RREbGhlzLMduFEYPXoW8AHgYnAorSfgM9HxDfKR5R0DEkDZG+LiFck3QYMTwdvjojt3cR4tWy8UlmfBiYAf13Wu7vWZ4d10x/SVl0j4unyVl0jYnF6murPgGWSPhwRt6T/0wJs7qauZj3yqSGrRz8B3k1yumRZ2m8ZMEvSSABJk9IWHPcCXkqTwBtI2sHvi5XAwaUOSR8GTgDOiKSZ5pIbgHPSu4eOAF5OT/f01PJtxVZdJb0G+F1EfDkd501p/72B5yNiax/rbtaJjwis7kREh6RbgfbSHn1E/FTSVODn6XtONgJnkZzLny3pIeAxkldV9sV/kez5fyvtXkjyruBS+T+OiM8CN5K0DLsKeAX4UFqfbZLmkCSoRmBRRKxIy/oCyQtZzgWeIHkDFSR3Bp0laSvwDPDZtP+xaRyz3eLWR63upBeJ7wfeF/m8hrAU507gpIhozytGH+vxY+CTkeG7na1YfGrI6kp6L/4qkvvwc0sCqYuAA3KO0aP0tNJ1TgI2ED4iMDMrOB8RmJkVnBOBmVnBORGYmRWcE4GZWcE5EZiZFdz/B0bMRMACTZpEAAAAAElFTkSuQmCC\n",
>>>>>>> main
      "text/plain": [
       "<Figure size 432x288 with 1 Axes>"
      ]
     },
     "metadata": {
      "needs_background": "light"
     },
     "output_type": "display_data"
    }
   ],
   "source": [
    "#trim_4b_2bath_df[\"Date\"] = pd.to_datetime(trim_4b_2bath_df[\"Date\"]).dt.to_period('M')\n",
    "\n",
    "fig1, ax1 = plt.subplots()\n",
    "ax1.set_title('Four Bedroom Two bathroom house price')\n",
    "#                 clean_data[(clean_data['Date'] >= '2007-01') & (clean_data['Date'] <= '2019-06')]\n",
    "ax1.boxplot(data)\n",
    "\n",
    "plt.xlabel('year (2000s)')\n",
    "plt.ylabel('Price')\n",
    "plt.xticks(np.arange(14),[\"\",'07','08','09','10','11','12','13','14','15','16','17','18','19'])\n",
    "plt.show()"
   ]
  },
  {
   "cell_type": "code",
<<<<<<< HEAD
   "execution_count": 35,
=======
   "execution_count": 77,
>>>>>>> main
   "metadata": {},
   "outputs": [],
   "source": [
    "p2007 = trim_4b_2bath_df[(trim_4b_2bath_df[\"Date\"]>= '2007-01') & (trim_4b_2bath_df[\"Date\"] <= '2007-12') & (trim_4b_2bath_df[\"CITY\"] == 'Perth')]['PRICE']\n",
    "p2008 = trim_4b_2bath_df[(trim_4b_2bath_df[\"Date\"]>= '2008-01') & (trim_4b_2bath_df[\"Date\"] <= '2008-12') & (trim_4b_2bath_df[\"CITY\"] == 'Perth')]['PRICE']\n",
    "p2009 = trim_4b_2bath_df[(trim_4b_2bath_df[\"Date\"]>= '2009-01') & (trim_4b_2bath_df[\"Date\"] <= '2009-12') & (trim_4b_2bath_df[\"CITY\"] == 'Perth')]['PRICE']\n",
    "p2010 = trim_4b_2bath_df[(trim_4b_2bath_df[\"Date\"]>= '2010-01') & (trim_4b_2bath_df[\"Date\"] <= '2010-12') & (trim_4b_2bath_df[\"CITY\"] == 'Perth')]['PRICE']\n",
    "p2011 = trim_4b_2bath_df[(trim_4b_2bath_df[\"Date\"]>= '2011-01') & (trim_4b_2bath_df[\"Date\"] <= '2011-12') & (trim_4b_2bath_df[\"CITY\"] == 'Perth')]['PRICE']\n",
    "p2012 = trim_4b_2bath_df[(trim_4b_2bath_df[\"Date\"]>= '2012-01') & (trim_4b_2bath_df[\"Date\"] <= '2012-12') & (trim_4b_2bath_df[\"CITY\"] == 'Perth')]['PRICE']\n",
    "p2013 = trim_4b_2bath_df[(trim_4b_2bath_df[\"Date\"]>= '2013-01') & (trim_4b_2bath_df[\"Date\"] <= '2013-12') & (trim_4b_2bath_df[\"CITY\"] == 'Perth')]['PRICE']\n",
    "p2014 = trim_4b_2bath_df[(trim_4b_2bath_df[\"Date\"]>= '2014-01') & (trim_4b_2bath_df[\"Date\"] <= '2014-12') & (trim_4b_2bath_df[\"CITY\"] == 'Perth')]['PRICE']\n",
    "p2015 = trim_4b_2bath_df[(trim_4b_2bath_df[\"Date\"]>= '2015-01') & (trim_4b_2bath_df[\"Date\"] <= '2015-12') & (trim_4b_2bath_df[\"CITY\"] == 'Perth')]['PRICE']\n",
    "p2016 = trim_4b_2bath_df[(trim_4b_2bath_df[\"Date\"]>= '2016-01') & (trim_4b_2bath_df[\"Date\"] <= '2016-12') & (trim_4b_2bath_df[\"CITY\"] == 'Perth')]['PRICE']\n",
    "p2017 = trim_4b_2bath_df[(trim_4b_2bath_df[\"Date\"]>= '2017-01') & (trim_4b_2bath_df[\"Date\"] <= '2017-12') & (trim_4b_2bath_df[\"CITY\"] == 'Perth')]['PRICE']\n",
    "p2018 = trim_4b_2bath_df[(trim_4b_2bath_df[\"Date\"]>= '2018-01') & (trim_4b_2bath_df[\"Date\"] <= '2018-12') & (trim_4b_2bath_df[\"CITY\"] == 'Perth')]['PRICE']\n",
    "p2019 = trim_4b_2bath_df[(trim_4b_2bath_df[\"Date\"]>= '2019-01') & (trim_4b_2bath_df[\"Date\"] <= '2019-12') & (trim_4b_2bath_df[\"CITY\"] == 'Perth')]['PRICE']\n",
    "s2007 = trim_4b_2bath_df[(trim_4b_2bath_df[\"Date\"]>= '2007-01') & (trim_4b_2bath_df[\"Date\"] <= '2007-12') & (trim_4b_2bath_df[\"CITY\"] == 'Sydney')]['PRICE']\n",
    "s2008 = trim_4b_2bath_df[(trim_4b_2bath_df[\"Date\"]>= '2008-01') & (trim_4b_2bath_df[\"Date\"] <= '2008-12') & (trim_4b_2bath_df[\"CITY\"] == 'Sydney')]['PRICE']\n",
    "s2009 = trim_4b_2bath_df[(trim_4b_2bath_df[\"Date\"]>= '2009-01') & (trim_4b_2bath_df[\"Date\"] <= '2009-12') & (trim_4b_2bath_df[\"CITY\"] == 'Sydney')]['PRICE']\n",
    "s2010 = trim_4b_2bath_df[(trim_4b_2bath_df[\"Date\"]>= '2010-01') & (trim_4b_2bath_df[\"Date\"] <= '2010-12') & (trim_4b_2bath_df[\"CITY\"] == 'Sydney')]['PRICE']\n",
    "s2011 = trim_4b_2bath_df[(trim_4b_2bath_df[\"Date\"]>= '2011-01') & (trim_4b_2bath_df[\"Date\"] <= '2011-12') & (trim_4b_2bath_df[\"CITY\"] == 'Sydney')]['PRICE']\n",
    "s2012 = trim_4b_2bath_df[(trim_4b_2bath_df[\"Date\"]>= '2012-01') & (trim_4b_2bath_df[\"Date\"] <= '2012-12') & (trim_4b_2bath_df[\"CITY\"] == 'Sydney')]['PRICE']\n",
    "s2013 = trim_4b_2bath_df[(trim_4b_2bath_df[\"Date\"]>= '2013-01') & (trim_4b_2bath_df[\"Date\"] <= '2013-12') & (trim_4b_2bath_df[\"CITY\"] == 'Sydney')]['PRICE']\n",
    "s2014 = trim_4b_2bath_df[(trim_4b_2bath_df[\"Date\"]>= '2014-01') & (trim_4b_2bath_df[\"Date\"] <= '2014-12') & (trim_4b_2bath_df[\"CITY\"] == 'Sydney')]['PRICE']\n",
    "s2015 = trim_4b_2bath_df[(trim_4b_2bath_df[\"Date\"]>= '2015-01') & (trim_4b_2bath_df[\"Date\"] <= '2015-12') & (trim_4b_2bath_df[\"CITY\"] == 'Sydney')]['PRICE']\n",
    "s2016 = trim_4b_2bath_df[(trim_4b_2bath_df[\"Date\"]>= '2016-01') & (trim_4b_2bath_df[\"Date\"] <= '2016-12') & (trim_4b_2bath_df[\"CITY\"] == 'Sydney')]['PRICE']\n",
    "s2017 = trim_4b_2bath_df[(trim_4b_2bath_df[\"Date\"]>= '2017-01') & (trim_4b_2bath_df[\"Date\"] <= '2017-12') & (trim_4b_2bath_df[\"CITY\"] == 'Sydney')]['PRICE']\n",
    "s2018 = trim_4b_2bath_df[(trim_4b_2bath_df[\"Date\"]>= '2018-01') & (trim_4b_2bath_df[\"Date\"] <= '2018-12') & (trim_4b_2bath_df[\"CITY\"] == 'Sydney')]['PRICE']\n",
    "s2019 = trim_4b_2bath_df[(trim_4b_2bath_df[\"Date\"]>= '2019-01') & (trim_4b_2bath_df[\"Date\"] <= '2019-12') & (trim_4b_2bath_df[\"CITY\"] == 'Sydney')]['PRICE']"
   ]
  },
  {
   "cell_type": "code",
<<<<<<< HEAD
   "execution_count": 36,
=======
   "execution_count": 95,
>>>>>>> main
   "metadata": {},
   "outputs": [],
   "source": [
    "data2 = [p2007,\n",
    "        p2008,\n",
    "        p2009,\n",
    "        p2010,\n",
    "        p2011,\n",
    "        p2012,\n",
    "        p2013,\n",
    "        p2014,\n",
    "        p2015,\n",
    "        p2016,\n",
    "        p2017,\n",
    "        p2018,\n",
    "        p2019,\n",
    "        s2007,\n",
    "        s2008,\n",
    "        s2009,\n",
    "        s2010,\n",
    "        s2011,\n",
    "        s2012,\n",
    "        s2013,\n",
    "        s2014,\n",
    "        s2015,\n",
    "        s2016,\n",
    "        s2017,\n",
    "        s2018,\n",
    "        s2019] "
   ]
  },
  {
   "cell_type": "code",
<<<<<<< HEAD
   "execution_count": 37,
=======
   "execution_count": 98,
>>>>>>> main
   "metadata": {},
   "outputs": [
    {
     "data": {
<<<<<<< HEAD
      "image/png": "iVBORw0KGgoAAAANSUhEUgAAAYIAAAFBCAYAAAB6hqiTAAAAOXRFWHRTb2Z0d2FyZQBNYXRwbG90bGliIHZlcnNpb24zLjQuMywgaHR0cHM6Ly9tYXRwbG90bGliLm9yZy/MnkTPAAAACXBIWXMAAAsTAAALEwEAmpwYAAA9iklEQVR4nO2debgcZZX/P98sBMJyl8BAQgiggiEJ6kBch0QYTS4gjjxuIw4ogjK5cZ3Rn2NmXHAbHB9nxnEgiSgxouIy6CijkEUWJSpCQAgJmyBeiOCW5AZkMyHn90dV31R3urq7qruqq7vP53ne53a99Z46p5b7nnd/ZWY4juM4vcu4dhvgOI7jtBd3BI7jOD2OOwLHcZwexx2B4zhOj+OOwHEcp8dxR+A4jtPjuCNwGkbSryW9vN12tAtJJ0ra3MLrnS1pXauulyXd9u4lzZD0J0nj221LEXBHkAPhP9ET4YdXCtNy0HudpCdDfdsl/VjSsVnrzRNJV0We6Q5Jf44cL2+3fSUkHSHJJE1oty0OmNkDZrafmT3dbluKgDuC/Hhl+OGVwkOtvHiNks07zGw/YApwHfCVVuqN6G9LBmdmp5SeKfA14NORZ7yoHTZlgQL8/7UFuDPeE/+w2oikSZI+K+mhMHxW0qTw3B7NBmGJ8lnh75WSlkm6UtJjwEm1dJnZTuAbwKzI9cZJ+oCk+yRtkfQtSYOR82dJGgnP/UuFLedLulzSVyU9ApwtaZqkKyRtlXSvpLc1eK8nStos6f2Sfi/pYUmnSzpV0j3h9f454bP9kaTXhL9PCJ/dqeHxyyXdGnkGHwzv8/eSLpXUV+fa/yzpj2FN7+8i8a+Q9AtJj0h6UNL5EbEfh39Hw9rKiyNyn5G0TdL9kk6JxF8n6ZOSfgI8DjxD0ksk3RTW8G6S9JJI+lrP/3xJ/xO+r0cl3S7paElLwvt+UNLCOo/1eZI2hLq/KWnvyPXfFurcGtowLYzfoyYU3tdbw9/PCt/V9vCZfjOSbqakteE175b0+hrv5DpJF0i6MbzW90rfcsSGcyU9AFxTaZekQUlfCr/NbZK+G7n2aZJulTQq6aeSnlPnOXUc7gjay78ALwKeBzwXeAHwwQTybwQ+CewP1GxrlrQX8HfADZHodwGnAy8FpgHbgIvC9LOAZcBZ4bkpwPSKy74KuBzoJyiNfx3YHKZ/LfCvkl7W4L0eAuwNHAp8GPgCcCZwPDAP+LCkZ9S6xwp+BJwY/p4P/Cq8z9Lxj8LfZ4fhJOAZwH7AhTWuewhwYGjnm4GLJT07PPcY8CaC5/EKYFjS6RGdAP1hbeVn4fELgbvDa34auESSIvrOAs4jeMePAj8APkfwPv4D+IGkKWHaWs8f4JUENcIB4BfAaoI84FDgY8Dna9w3wOuBk4EjgecQPDck/TVwQXh+KjBCUOhohI8Da0KbpgP/HV5zX2AtcBnwF8AZwFJJs2tc603AOQT3v5PgOUV5KXAMMFRF9ivAZGB2qO8/QzuOA1YAf0/wzD8PXKGwENM1mFnHBYIX83tgY4PpXw/cAWwCLmuDvb8G/gSMhuG7Yfx9wKmRdEPAr8PfZwPrKq5jwLPC3yuBS+vovY6gJDkK/BnYDrwscv7OiuOpwA5gAkFm/I3IuX3Da7w8PD4f+HHk/GHA08D+kbgLgJUN3OuJwBPA+PB4//BeXxhJfzNwep37XQl8Ivz9MmBD+HsV8FbghvD4R8Crw99XA4sj13h26RlUuf6JBBnMvpG4bwEfirHns8B/hr+PCO9pQuT82cC9kePJYZpDIu/vY5HzZwE3Vuj4WXides//fGBt5NwrCb7JymfeX+MbPjNy/Glgefj7EoImudK5/cJneETMfV8HvDX8fSlwMTC9Qt/fAtdXxH0e+EiNb/1TkeNZBN/r+IgNz4icH7OL4LvfBQxUue4y4OMVcXcDL202XyhS6NQawUqCkkldJB0FLAH+ysxmA+/JzqyanG5m/WE4PYybRlB6KjESxjXKgw2keZeZ9ROUtk8DLo9UbQ8H/jes8o4SOIangYNDO8aub2aPAVtq6J8GbDWzRyNxIwSlzdL5Wve6xXZ33D0R/v1d5PwTBBlMo/wMOFrSwQS1kEuBwyQdSFAbKTXVVLNrAsEzqMa28FnscR+SXijpWkl/kLQdWERQ0q/Fb0s/zOzx8Gf0PiufcdTWkv5Dqf/8Yc/n+ccqz7zWM/5t5PfjkbRldpnZnwi+lajuON4PCLhR0iZJ54TxhwMvLH2b4ff5dwQ1sjiiz2oEmEj584/7fzmM4Nltq3LucOC9FXYcRrL/08LTkY7AzH4MbI3GSXqmpFWSbpZ0vaSZ4am3AReVXrKZ/T5nc2vxEMGHVmJGGAdBM8Pk0glJ1f4BGl461sx2mdn1wL1AqS34QeCUiIPqN7O9zew3wMMEH3xJ/2SCqnGc/oeAQUn7V9zPbyLn4+615YSZ6s3Auwlqjn8Gfgr8I3Cfmf2xhl07Kc80owyEzRbR9KX7uAy4AjjMzPqA5QSZHCR4V5W3EvldaWtJ/2+o//yzpMyu8PlMCXWXnObkSPqxb9nMfmtmbzOzaQTNL0sV9IM9CPyo4tvcz8yGa9hxWOT3DIJayR8jcXHv4EGCZ9cfc+6TFXZMNrOv17Cj4+hIRxDDxcA7zex44H3A0jD+aIKS4U8k3SCpoZpETnwd+KCkg8KS6oeBr4bnbgNmS3pe2Cl3frPKFHRQziJoIoMgo/qkpMPD8wdJelV47nLgNAUdrXsRtCHHfi9m9iBBRnuBpL3DWse5BH0H9e41K34EvIPd/QHXVRyX7PoHSUdK2g/4V+CbFnSux/FRSXtJmkdQy/qfMH5/gpLlk5JeQNCHU+IPBM0PSfo5KrmS4Ft+o6QJkv6W4H1+v4HnnyWXAW8Jv9VJBM/w52b2azP7A4FDOFPS+LDE/8ySoKTXSSr1PW0jyKyfBr4f3utZkiaG4fmSjqlhx5mSZoWFlo8Bl1sDw0PN7GHgKgInNBDqKvXpfAFYFNb2JGlfBYMC9o+/YufRFY4g/Ad+CfA/CkaDfJ6g3Q+Cav5RBO27ZwBfjPH87eATwHpgA3A7cEsYh5ndQ/Ax/xD4JXU6g2twocJx9QQdYh80s6vCc/9FUIJdI+lRgo7kF4b6NwFvJ/gnf5jgn7TeZKozCNpeHwL+l6A9d229e82QHxFkzj+OOYagv+krYdz9wJPAO2tc87cEz+Ihgkx2kZndFZ5bDHwsfJYfJug/AMZqKJ8EfhI2Mbwo6c2Y2RYCx/NegqaX9wOnRWo3tZ5/ZpjZ1cCHgG8TfCvPBN4QSfI24P+FNs8mcFglng/8PPw+rwDebWb3h01cC8PrPETw3P8NqNVJ+xWCZuPfEjSFvivBbZxFUIO4i6D/8T3hva0P7b+Q4L3fS9hJ3k0o7PzoOCQdQVASmiPpAOBuM5taJd1ygk7CleHx1cAHzOymPO11HCc7JF0HfNXMvthuWzqRrqgRmNkjwP2SXgdjk2+eG57+LuEY+7BJ4miCoYSO4zgOHeoIJH2dYFTIsxVMRDqXYETBuZJuI2gDL7V1rwa2SLoDuBb4f2EV23Ecx6GDm4Ycx3Gc1tCRNQLHcRyndbgjcBzH6XE6bhW+Aw880I444oh2m+E4jtNR3HzzzX80s4Oqnes4R3DEEUewfv36dpvhOI7TUUiqXJ5kDG8achzH6XHcETiO4/Q47ggcx3F6HHcEjuM4PY47AsdxEjM0NMS4ceOQxLhx4xgaqrbpV/r0aZkyZQqSxsKUKZUrp3cGEydOLLuPiRMn1pVp5hm7I3AcJxFDQ0OsWbOmtFsXZsaaNWtiM56k6dMyZcoUtm4t26aErVu3dpwzmDhxIjt3lq+CvnPnzprOoNln7I7AcQpMXiXpJKxZswaA4eFhRkdHGR4eLouPS99ofIloibgUalHpBOrFF5VKJ1AvHtI/4xIdt9bQ3LlzzecROK2mshQ2YcIEduzY0UaLdpfyKlm4cCGrV6+uKpPHfdTKkKvlJ0nT5ylTTa5enpg0fVKZrO5d0s1mNrdaGq8ROD1PKfMcGBhgw4YNDAwM1K2K50HSkneaJoU8qbyPohBtTmkkU4+ma7QgnVRHM1x++eWJZbxG4PQ8khg/fjy7du3CzMaaYZ5++unM/2nr2XXOOedwySWXjMWde+65rFixomUl77R2JdHTjhrBypUrOfvss+vKRGWTPqOkMo2m9xqB47SJp59+mkWLFjE6OsqiRYt4+um6W912DUnb4juBqBNw6uOOwBkj6dC7vDoy89KzfPly+vv7Wb58ed20eQ1TXLFiRZmeFStWtFxHZVNHp7USOM3jjsABdg+9mz17NiMjI8yePbvm0LtSR2a0FJ3FkMC89EDQsbpu3TomTKi9FmPSZ5WWwcHBRPF5I4lVq1Z1RQ2i5ymVADolHH/88ea0HsBmz55dFjd79mwLPpE9kWTDw8NlccPDwyappp6FCxeaJANMki1cuLBm+jR6BgcHDRgLg4ODNXVE01aGuPRJnlVaJNn06dPLnlfpuBX3UU2+0XRJn5eksvso/W6VjrQyUdmkJJXJ6vk2KgOst5h8te0Ze9LgjiAbABsZGSmLGxkZqfnPPTo6WhY3Ojpa82NduHChATY8PGyjo6M2PDxsQE1nkFRPyQnMnj3bRkZGxjLoWs6g9A9TaVete0/yrNKS9N6L7AjyyNTdEbgjcJokaSk3TUm9VAqsDPVkkpaK991337L0++67b81/oqR2JX1WaUn6jIvqCCpraKXQiHNOkxkODAzYhg0bbGBgwB2BOwInCUlL0mlL94BNnDjR1q1bZxMnTqz7gSe1q3S9Rkv3URlJtmrVqjLH0Aqb0pL0GRfVEWSVsbVCJiqblKwcQSltkntwR+C0jKRt60nb+0vpotRrK5ZkkyZNKrNr0qRJNUvFAwMDZXGlkmEtu0q2Rf824qAafVZpSfKMi+4IKh2nO4LWybgjcDqG0oeZprSepP0+Taazbt26srh169al+sdtJ3k7gqTvJOtMvVSDqgz1CiglfUlxR+COIFeSlryLStoMIUmbf5p+CAiaq6KUmq3iyKtGkISi1wjyKN2n/V/pdUfg8wgKTp7j6PMkyXoojz32WFBqISi4PPbYY7Fpx48fD1C2blA0Po4dO3aw11578ZOf/IS99tqr5kJtec0jcJKzevVqdu3aBcCuXbtiF+dzKojzEEUNSWoE3VCSTjtev4iQQ8mQhDWIWnpqpZ08eXKZjsmTJ6cq8bWSNM+3Uj4LPXm897T3kjZ90XQ08rzoxRpBt5SkzYwLLrigLO6CCy4YKyF3GiMjI2Uf4MjISENySVauvOOOO8YWkNu1axd33HFHzfSlb6JSR61v5fHHHy/7th5//PGG7iMp3bYGUBpWrlzZbhO6nzgPUdTQaI2gW0rS3XIfZkGpJen4e8CmTZtWVvqeNm1azdJnUh1p5iqMHz++LP348eMzrRE0cm28RpD4XtKmL5qORp4XvdhZDMlnvqYh6+anNOP18yLpvTcz67fRDCGPyUulc2kmLqWlkWs3M2qmUR2ldO4IiqXDHUEMeZSk88qki9jXkfbek462SZqxp8kM02RslaOT6s2HaJZGr93Mt+KOIBlF0uGOIIY8MuluarZJSl73nnbhtTRzFRqde5BGR7Nkee2kOtI6gnpx1c4nmeSX5l7Spi+aDncENci6JA35ND8VkbzuPakewM4555yyuHPOOaduprPPPvuUfSv77LNPrEzS2c6tIMlzTVOCTqIjaSadtnSftjaQ5F7Spi+ajmYdQdeOGoLdY4rNLJMxxZKYM2dO2aYpc+bM6YnRHZJYsmRJWdySJUtafu956XniiSfKRgE98cQTsWkHBgZ46qmnyuKeeuqpsTkL7Sb4n99dyMuK/v5+NmzYQH9/fybXj9qf9b30PHEeoqihSDOL81p8rIikbXpLWktLu/BamqahaqEV6VtB0munsaVRmbyfV5b30i06GnnG9GrTUNYkbb/uNrLO1NPoSdNZnFSGFM1PzVKkTKeUttFM3R1B9jqadQS19+RzamJmbNy4kb6+vrG47du3Z1ZVLhpJm9rWrl3L8PAwS5cuBRj7W2+PYF8moHgE+UrQdFf6XY/Zs2dz5ZVXcuqpp7Jp06YszXOSEuchmg3AYcC1wJ3AJuDdVdII+BxwL7ABOK7edYtWI+jVUUNpAOykk04qK92fdNJJLS1JR7dBLIVSXC2ZNBvAJB01lMfQzrTps5ShgdJqO+zqJh2NPGPa0TQETC1l7MD+wD3ArIo0pwJXhQ7hRcDP6123SI4gr3bybqHZDCGJjiSTvZI6qGaan9IOZy5SppNUxh1B9joK6wj2UATfAxZUxH0eOCNyfDcwtdZ1iuQIzPJrJ+8GSh9mkr0C0upIMv48TQk/6Xtvtj+pSJlOUhl3BNnr6AhHABwBPAAcUBH/feCEyPHVwNwq8ucB64H1M2bMSPosC0UvNycBNnXq1LLMcOrUqZk4gjS7YWU5QaxZHUXKdJLKuCPIXkfhHQGwH3Az8Ooq535QxREcX+t6RZpQlgbonkloSZeLgHSjbZLoSZPpNJtRNQI0t3R1kTKdpDLuCLLX0awjyHRCmaSJwLeBr5nZd6ok2UzQqVxiOvBQK3QXdRnqvCZIZU3azVlWrFjB4sWL2b59O4sXL2bFihWZ6IHkyxdLYtWqVZm9i8cff5xZs2YxMjLCrFmzMlu6usgk2ZDIyZE4D9FsIOgAvhT4bI00r6C8s/jGetct0qJzaeiWPgJIvtxz2gXhkuipdn3qlD7TyCStbZbSRa+dZKG6RtOlTZ+lTJrnm4dd3aSjkWdMm0YNnRAasgG4NQynAouARbbbWVwE3AfcTpX+gcpQtGWo01DEJqukADYyMlIWNzIykokjSKInD0eQxpmXrpe2o7xImU5SGXcE2esorCPIKnR6jaBbSFMjSPNO8qwRNNqRm/Y+erWPIK99EpqR6XQd7ghi6JYmmDxJ0imbdpOZpBPKku5HkEeNALC+vr6ydKXjVumoJp+EIjkCs3wn06WR6XQd7ghq0A1NMHmRJmNPM2ooScnbLN06QHk4gmrPyh1BMXSkkel0Hc06Al+G2gEYG5mzceNGZsyYwcaNG8dG6MSxZcuWso9py5YtLbdr7dq1TJ8+fWwkjySmT5/O2rVrW64rOjKpEebPn09fXx/z589vWMfw8DCjo6MMDw+nNdNxYkn9fcV5iKKGos0s7hYgeedvGh39/f1lpZXScS0ZEtQiaKBk1KwMYPPmzSurbc6bN6+ujmbWWUr6HtK8tzxketmuLHU08g3TqzWCbmFoaKhs85us5kKceuqpNY9bYdfo6GjN42rMnj2bpUuX0tfXx9KlSxsusWfJzTffXPO4EknMnDmzrIY6c+bMjps/4nQpcR6iqKHXagR5dXon7SPIawhl6XxeNYLLL7+8rsyECROqXn/ChAmxOnp50bm8daSR6XQdjXz39GpncTeQ5zDYJJ2/aYdQTps2rax5ZNq0aTU/9rSb16d1BI3IpNFh1rvLUOetI41MN+io9z26I+hgoJgT49LYBcnXGspr1NC6devK4tatW1fTEfT6DmVpZXrZrnbfuzuCDqaoE+PS1giSZtJFnUdQ2TxUOq5F0uG2lTqT0O5Mp5060sh0i45aMu4ICkaaPXiLNjEujV1JM3WzdJl0Ho4Akm1+k+beK3Umod2ZTjt1pJHpFh21ZNwRFIg0GWhRJ8YlLeGm2ZwlaSadZqvKPJ1NL+5HkLeONDLdoqOWjDuCAlHUpp6kpB01lKZfIUmmm3bpizwcwZlnnlkWd+aZZ7ojKIhMt+ioJeOOoECkyQyLiCSbNGlSWSY4adKklm4Sb5Y8001jVxpHMDAwUBZXah6qpWPmzJllcTNnznRHUBCZbtFRS6aWI/AJZTnTLRvTmBlPPfVUWdxTTz0VlC5iWLBgAcuWLSvbmGbZsmUsWLCg5XZFp9rXsysN27ZtQ9JY2LZtW12Zu+66q0zmrrvuaqlNjpOaOA9R1NDpNYKidv4mhZRt3mkXqqsW4tInXR47jY4k6c3yX4o5afq8ZHrZrnbfO14jKA6lhe+WLVtGf38/y5YtY+HChT2xIN7Q0BBbt24tK61v3bq15UtmbNq0qazkvWnTppZePw2rV69m4cKFZYvn9cp7d4qPrMVV5qyZO3eurV+/vt1mtARJLW+yyAtJ7L333mPNLpKYNGkSTz75ZOw9jRs3jkWLFrF06dKxuMWLF7N8+XJ27doVqyeOanqSps9LR6V80veeVCYPHW5X8XTUkpF0s5nNrSbjNQInNU8++WTZZuxPPvlkzfRmxp133lm2UN2dd95Z80NfuHBhonjHcZLjjsBJRSkj3rRpE4cffvhY80u9DPq6665j0aJFjI6OsmjRIq677rqa6a+55ppE8XkyMDDAhg0bGBgYaLcpjtMU3jTURjq5aQhg4sSJ7Ny5c+x4woQJ7NixIzZ9UZttvGnI7eoWHbVkerZpKNph2GnDM4vOlClT2LlzZ9muXjt37mTKlCntNg0InNS6deuYOHFiu01xnMIzod0GZEnJK3Z6ybuIRLe2BNi4cSNz5sypO0Kn8l1k9W527NjBCSec0PLrOk430tU1gm4hrx3KknLllVfWPK6GmZW1rTfqBCSxatUqr9k5Tga4I4hQxAx3aGiINWvWlHWwrlmzpq5tedzLMcccU6bjmGOOqSszfvx4RkdHec5znsPo6Cjjx49vSJeZcfLJJ3vNznGyIG6mWVFDmpnFNDA7rx0zfhuxK836PHncS2n9/cqlmGtt10iKGblJZZrV0chWlaVzSZahrpRPSlKZPHSkkellu9p97/T6onNZZbjN0ohdgPX395dlTqXjONLeS7XNVmrpqJbZtnpjmrwdQVY6KuWT0mmZTjt1pJHpFh21ZGo5Am8aCjEzLrjggrK4Cy64IPCWbWZ0dLRsdM7o6GjN9GnupTQUNNp+v3PnzthRN6VrRe2KxjuO0zm4Iwgp+qqg8+fPp6+vj/nz59dNm+ZeSk5g69atHHvssWzdunXMGcQxMDDAxo0bmTFjBhs3bvSJVY7TqcRVFYoaeq2PALB58+aV7eo1b968mrJpN43ZsGFDWdyGDRsyaYJJsmJpUj3N2JWljkr5pCSVyUNHGpletqvd9473ETT2MPPeErJRR5B0WWWz5PdSxAy3qHa5I0gv08t2tfveazkCbxqKsHr1anbt2oWZsWvXroaXCM5yBvPg4CCbNm1izpw5PPDAA2OTtgYHB2vKpb0XgIsuuqjhtEWdwRtd6joJK1euzMYgxykwPbHWUB4zi7NcR2TKlCls3bp17HhwcJAtW7YktrGeLXFUszGPNX3ytqv0PqLvpVU6KuWz+lby1OF2FU9HLZmeXWuoW9iyZUtZNa4RJ5BmQtmqVavK9KxataquTNqSdxGplfk7TlcT12bUbABWAL8HNsacPxHYDtwahg83ct0s+wiaIY2OrOxK21lcOQeg1McQlz4u1NJR0hP924hMo3oq50KUQisnuqW590r5pCSVyet7dLuKpaOWDG3qI1gJnFwnzfVm9rwwfCxDWzqapKX7tWvXMjw8zNKlS+nr62Pp0qUMDw+zdu3amnJmxrhx41i9ejXjxo3LrGRcum4W148b7lprGKzj9DqZOQIz+zGwtW5CpyZp1hoySz6hLJo5R9f0ycoZZE1RO7Edp4i0u4/gxZJuk3SVpNlttqWQpCndp50cV63KWI+i9hGUlqGutVFOJUW9F8fJnLg2o1YE4Aji+wgOAPYLf58K/LLGdc4D1gPrZ8yY0bI2s1aSRkcjMoCddNJJZe3qJ510Uk3ZPCbHAXbwwQeX2XXwwQe3tL0/jUxRdVTKJyWpTB460sgUya7oYoHRMDAwkIld7b532jWhrJYjqJL218CB9dL1Wmdx6eNMMhvXzGxwcLDs4x4cHExsXyN2ZZnhppEpqo5K+aR0WqbTTh2NytR6v63S0Uz6VsvUcgRtaxqSdIjCtgpJLyBopmrt4PgeZWhoiK1bt5Y1dWzdurWlexJMmFB9c7u4+Ci+6bvjFIw4D9FsAL4OPAzsADYD5wKLgEXh+XcAm4DbgBuAlzRy3axrBKQo4SXVkUQGsBNPPLGsCebEE0+sKZvHktqVz6mRZ5aHTFF1VMonJalMHjrSyBTJrlrvt1U6mknfahnaUSMwszPMbKqZTTSz6WZ2iZktN7Pl4fkLzWy2mT3XzF5kZj/NypYkBM9rt4NsN5I45phjypaLOOaYY+rObk2zpHbSpTJmzpxZ9jHNnDmzsZtynA5lcHCw7P+j9DtuyZe49LVk2kG7Rw05dViwYAHLli1j8eLFbN++ncWLF7Ns2TIWLFgQK9PsqKHS73rMnTu35rHjdBvbtm2rWqLetm1bovS1ZNpCnJFFDXl0FidNn7VM0pVEmx011Ihd5Nw0JMlWrVpVdzZyHnal0VEpn5RO/4bz1NGoTK332yqZNNdKmiaBLbFNQ77oXAvS5ynTKENDQ6xduzZ4yRILFixItJpqPbtKO5pVMmHChNix+0VfdC5LHZXyWX8rRf2Gi2RXjcXZan4rSWTSXCtpmgS2xC46V3+Ih9ORJFl2Og1PP/00kyZN4qmnnhqLmzRpEn/+858z1es4TuvxPoIuJc3qo0kwMyZPnlwWN3ny5EJ0sDuOkwx3BF1ImvWJ0rBt27ayzesL1fnlOE7DuCPoQtKuPpqG+fPn09fXx/z581t+bcdplOgwzUaHdhaVpENUW4F3FrcgfZ4yjV53dHSUvr6+sbjt27fT39/fss5MScybN49169aNdUifcMIJXH/99S3rlE0jU1QdlfJF6ZQdHBysWpMbGBgo2xUvb7uSyrS7g7fd12pQ3nco63SSTPZKO48gKVu3bi2b6NZIxuEUi6Tj4p3uxB1Bh1Dy8KV/1FqkmYSWlMHBQTZt2sScOXN44IEHmDNnDps2beq4arjjON401JL0eckkSZ/1PAKAKVOm7FELqCVX1GabXm4ayqoZolXpG5XpxOacIjUN+TwCJzVbtgSLxWY5Mc5xnOzxpqEuJK/ho062tGP0iNObeI2gC4kOHwXG/i5fvrydZjkJKXXkVtLqTv8iUjmaqXTPjY5mcpLRUI1A0tGSrpa0MTx+jqQPZmuakxazdMtQO05R8NFM+dJo09AXgCUEm8xgZhuAN2RllNMceQ0fdRynO2jUEUw2sxsr4vZcetIpBHkMH3V6k26awevsptE+gj9KeibBmutIei3BNpROAVm9ejVDQ0MsX76cZcuWIYmFCxdmviKp0/3E9VtAb/RddCuNOoK3AxcDMyX9BrgfODMzq5ymWbNmzdhvMys7dhzHidKQIzCzXwEvl7QvMM7MHs3WLKdZSqW2Io3xL01uqxbvNE/cSBvw0TZObRodNfSvkvrN7DEze1TSgKRPZG2c031El8hoZLkMp3GKuj+uz4fInmafcaOdxaeY2WjpwMy2AacmtNVxnB7Eh4JmT7PPuFFHMF7SpNKBpH2ASTXSO47jOB1Co53FXwWulvQlgpFD5wBfzswqxwnxfgXHyZ5GO4s/Lel24GWAgI+bmY9FdHIhScd3GsfhzsbpdRpea8jMrgKuytAWx2kJaUZMZT3KytfOcYpMTUcgaZ2ZnSDpUcLJZKVTgJnZAZla5zhdQi8vIOcUn5qOwMxOCP/un485juM4+WAfOQDO76se32PUbRqSNA7YYGZzcrDHcRwnF/TRR+J3Ajs/f3vaSd3ho2a2C7hN0owc7HEcx3FyptHO4qnAJkk3Ao+VIs3sbzKxynEcx8mNRh3BRzO1wnEcx2kb9UYN7Q0sAp4F3A5cYma+D4HT0/i8A6fbqFcj+DLBrmTXA6cAs4B3Z21UK/Bx206WFHF1114mbgTQ2DmnJvUcwSwzOxZA0iVA5S5lsUhaAZwG/L7aiCMFOfN/ESxe9zhwtpnd0uj161HUcdvuoByn9cSNAILeHAWUlHqOYEfph5ntTJiJrgQuBC6NOX8KcFQYXggsC/92NUV1UI7jtJ5OqanUcwTPlfRI+FvAPuFx3ZnFZvZjSUfUuPargEstyBVvkNQvaaqZ+RaYjuMUkqST0DqlplJvZvH4DHUfCjwYOd4cxu3hCCSdB5wHMGOGT2dwHKc9dOsktEb3I8iCam0hVV2nmV1sZnPNbO5BBx2UsVmO4zi9RTsdwWbgsMjxdOChNtniOI7Ts7TTEVwBvEkBLwK2e/+A4zhO/jS8H0FSJH0dOBE4UNJm4CPARAAzWw5cSTB09F6C4aNvycoWx3Gq4ytwFo92vBN12mSYuXPn2vr16+umi5vo08gEoDSThBqVKapdzcj0sl1ZvvekMnlcKy9744ZcBue2t82uTr6WpJvNbG41+cxqBI7jOGnp1tE5RcUdgeM4DdMpE6ScZLgjaAJfLsLJkiK233fKBCknGe4IQuIydYjP2H25CCdLvHnEaZRmCw3uCELiMnXwjN1xmqGINZtuo9lCgzsCx3EyxWs2xaedE8qcBhgcHETSWK2k9FsSg4ODLddRqadVOhzHKS5eIyg4eTRZebNY9uTRPOIjepy0uCNwnBzIo3nER/Q4afGmIScVcU1W3pTkOJ2H1wicVPjQWcfpHtwROI7TFcQVQgYGBhLJ1ErfrXStI+jlscs+49npNSprp40sBhg9n2aBwkZJ46DypmsdQS+PXS5qs407KKcbSFKLyMvZNEvXOoKi0ss1laI6KMdplHbWIrKsQbgjyJlerqkkpbIGAV6LcLqfdtQifPioU1hKNYhqodJBlEgzrNWHwjrdQHR1gFJotBbhNQKnq0jT/ORNVsXER/Q0TrO1CHcEjtPjFDHD7ZRO1m7BHYHj5ESaDDfrTNozXAfcEThOLqTJcIuaSXfCuHgnGe4ICo6vKFk80uxm1y2kmbhVSleJO47i4I6g4PiKksXDl+1ORlFrNs5ufPio4zhOj+OOwHEcp8fxpiHH+yEcp8dxRxCSJjPslnWDvB/CcXobdVrHzdy5c239+vV108V1SiWN78RrxTm04Nz2wtnbC9dKmibtdeNoZDRTVnblraOodrX73iXdbGZzq8l4jaAL8YXtehMfneOkxR2Bk4puaRZzHMcdgZOSNLUOdx6OU0zcETi5kdR5+Ggmx8kHdwROYUkzmilNrcNrKk6vk6kjkHQy8F/AeOCLZvapivMnAt8D7g+jvmNmH8vSJqe7SdNk5Z3rTq+TmSOQNB64CFgAbAZuknSFmd1RkfR6MzstIxv2iCvCQldFtctpDG+ycrqNLGsELwDuNbNfAUj6BvAqoNIRZEJRh9IV1S6ncXwCntNtZLnW0KHAg5HjzWFcJS+WdJukqyTNztAex3EcpwpZ1giqTXOsLEbdAhxuZn+SdCrwXeCoPS4knQecBzBjxowWm+k4jtPbZFkj2AwcFjmeDjwUTWBmj5jZn8LfVwITJR1YeSEzu9jM5prZ3IMOOihDk50kSNojeF+H43QeWdYIbgKOknQk8BvgDcAbowkkHQL8zsxM0gsIHNOWDG3qGZJ2SCfdfjBtX0fWdjmOk5zMHIGZ7ZT0DmA1wfDRFWa2SdKi8Pxy4LXAsKSdwBPAG6yNvadFzXSyzqTTbj+YlLzs8lFZjpOMTOcRhM09V1bELY/8vhC4MEsbGiWvEm5edvUqRX2PjlNkfGZxE3gm3R34e3R6HXcEjpOCojYjOk4a3BE4TkK8BuF0G755veM4To/jjsBxHKfHcUfgOI7TBZQmdZZ+J8H7CBzHcbqAZvqqvEbgOI7T47gjcBzH6XHcETiO4/Q47ggcx3F6HHcEjuM4PY47AsdxnB7HHUEF0XG4ScfiOo7jdCI+j6ACXzfGcZxew2sEjuM4PY7XCBwnJ6JNjaXfXgN1ioA7AsfJCc/0naLiTUOO4zg9jjsCx3GcHscdgeM4XUMzSzH3Mt5H0AIqP7x6bcGVnYbeduw4rcH/l9LhjqAFJP340nysSZ2N4zhOo3S1I+imkncn2+44TrHpakfgmaeTJV5Lc7qFrnYEjtMoaWqPnvE73YI7AsfBM3Wnt/Hho47jOD2OOwLHcZwexx2B4zhOj+N9BF1KN610maYj10f0OE7juCPoUrop40tzL910/0625FFoKHrBxB2BM0Y3TcBznEbJ4zsv+v+SOwJnjDyWvnBn4zjFI9POYkknS7pb0r2SPlDlvCR9Ljy/QdJxWdrjtB4zKwutTt9NDA0NMW7cOCQxbtw4hoaG2m2S00U0831l5ggkjQcuAk4BZgFnSJpVkewU4KgwnAcsy8oex2knQ0NDrFmzhkWLFjE6OsqiRYtYs2aNOwOnJTT9fVWW0FoVgBcDqyPHS4AlFWk+D5wROb4bmFrruscff7w5TqchyYaHh8vihoeHTVJD8sG/auMkTZ+XTF525UGWdgF7hFo08n0B6y0mX5VlVD2X9FrgZDN7a3h8FvBCM3tHJM33gU+Z2brw+Grgn8xsfcW1ziOoMTBjxozjR0ZGMrHZcbJCEqOjo/T19Y3Fbd++nf7+/ppNZJWbqzTy/5pUptoGLkll8rArq7wqKUW0q5HvS9LNZja3mnyWfQTVtgeqfGKNpMHMLjazuWY296CDDmqJcY6TJ5JYsmRJWdySJUvq7qJVWXJrhKQy1UqIrdbRCruKQhHtSvt9lcjSEWwGDoscTwceSpHGcTqeBQsWsGzZMhYvXsz27dtZvHgxy5YtY8GCBe02zekCmv6+4tqMmg0EQ1N/BRwJ7AXcBsyuSPMK4CqCmsGLgBvrXdf7CJxOZeHChSbJAJNkCxcubLdJThdR7/uiRh9BZvMIzGynpHcAq4HxwAoz2yRpUXh+OXAlcCpwL/A48Jas7HGcdrN69ep2m+B0Mc18X5lOKDOzKwky+2jc8shvA96epQ2O4zhObXz1UcdxnB7HHYHjOE6P447AcRynx3FH4DiO0+NkNrM4KyQ9SrAURRIOBP6YYfq8ZNyu4tnVy/eeRqaX7Wr3vR9uZtVn5MaNKy1qoMZY2FbJ5KHD7eoOu3r53t2u4ulIK+NNQ47jOD2OOwLHcZwepxMdwcU5yOShI42M29WbOtLIuF29qSOVTMd1FjuO4zitpRNrBI7jOE4LcUfgOI7T47gjcBynq5D0FznomJK1jjzpKkcgqT+FzITI7/0kzZU02IDcQZL+UtKxkvZrUNfBko4L5Q5OamvJxjRyCa5f994r0v9NDjqeJek1kmbFnO9PakMol/jdJ3nvkm6R9EFJz0xg01xJ10r6qqTDJK2VtF3STZL+skr6/SR9TNKmMN0fJN0g6ewaOvokfUrSXZK2hOHOMK6/UVsj17uqStwBki6Q9BVJb6w4tzTmOodIWibpIklTJJ0v6XZJ35I0NUZmsCJMAW6UNFDtXUo6ueI5XCJpg6TL4v4nw+dyYPh7rqRfAT+XNCLppVXSZ/7eQ5nE7z6WpBMPihyAncAPgXOB/gbSnw1sAe4BTiHYSOdq4EHgjBiZWaGOe4E/Az8H7gdWAn0xMs8DbgDuDGV/CNwVxh2X8B4fiIk/NrzegwSjBgYi56pu+AP8VWjTJuCFwNrwGTwIvLhK+ldXhNcAvy0dx+j4YMWzuyd8Xr8m2MO6msy1wIHh77NCmS8CtwPvbPa9p3n3Kd/7/cBngAeAG4F/AKbVsevG0J4zQlteG8a/DPhZlfTfC+9lOvCPwIeAo4AvA/8ao2M18E/AIZG4Q8K4tTEyx8WE44GHq6T/NvAp4HTgivB4Unjulhgdq4B3Ah8ANoT2zAjjvhcjsyt8ztGwI/z7qyrpb4n8/iLwCeDw8N18N0bH7RXf5vPD30dTZfJWHu897buP1Z8kcdEDQUZxGvA1gn/y7wFvAPapkf5Agl3UHgGeGcYfDGyIkbkBeHb4+wXAl8PfbwMuj5G5lSqZHsGubLdVif/HmPBeYGuMjnXAyUA/8D6CzL10P7+o8fEdC7yYYEr6CWH8ccBPqqTfCXwfWAF8KQyPhn9XxOiI/uP9ADgl8ux+GiOzMfL7JmBK+HtytfeS9L2nefcp33v03ucBSwkc57XAeTEyv4j8fiDuXCTutorjm8K/44C7YnTcXeO5VD0HPA1cE9peGZ6o9s1XHP8L8BNgCvGOoNa93xoj8z4CB3JsJO7+Gvd3Sw0b43TcBUwofQeV31E73nvadx/7XJIkLnqoeAH7AK8HvhNmDpdVSX9r5PdDFefiHEHlw4/qvCNG5pc1bL63StyTwMeBj1QJozHXqfyoTwJ+SeBsGvnHuzPuviJxzycoNQ+ze+jx/QneyS/i9FfGA4eGv68F9g5/jwc2Nfve07z7lO+92jMcT+CwvxQj8zNgIfA6YAQ4PYx/KdVLnz9ltwN/JbA6ci4uU18DvB84OBJ3MEEJ/IcxMhuBo2LOPVgl7k5gXEXcmwkKKCMx17kt8vsT9d5J5Nx04H+A/wD2p0pNIJJ2M7sLVb8qfce1dBDUSNYAfw2cD3wWmA98FPhKO9572ncfFzLdoawNqPTDzJ4AvgV8S1IfQRW1kgckXUDw8dwl6d8JMpCXAw/H6LhP0ocIMsRXE5T2kTSR+B3frpL0A+BSgmofwGHAmwhKM5XcQlBNvXmPG5TeGqNDkvrMbDuAmV0r6TUEVfK4du9oH9GSinN7VSY2s5skLSD4x7hG0j8BFnPtEs+QdAXBu5kuabKZPR6emxgj8w/AGknfJsg4rpG0iqB09aUq6ZO+d0j+7tO893sqI8zsaYJ3Xu29AywCPk3Q5DEEDEtaCfyGoPZRLf0XJT2boJZzbmjXQcBFMTr+lqD55Ufa3bH6O4ImnNfHyJxPfJ/iO6vE/R9BxvnDUoSZfVnS74D/jrnO9yTtZ2Z/MrMPliIlPYsqzzJy3c3A6yS9kqB5c3JcWuALBO8cgiaUA4E/SDqE8J1Wuf5/S7qdoAB0NMH7Phr4LkHTUiWtfu/n1ZD5oqSjCRz1OVD33VelqyaUSXqfmX0mQfoDCLbKNOBCAo99NkHb3sfNbI8MIexM+2eCNuPbgE+Z2aNhpnOMmd0Qo+sU4FXAoQQZ12bgCgu286xM+2xgi5ntsYKgpIPN7HdV4t9IUBK6oSJ+BvAhM9sjE1HQ0fvDSMZcin8m8Boz+3S1ewnTTCMoGc01s2fUSPfSiqibzexPYcfca82s6gcbPs83svsfbzNBO/FdVdImeu+hTOW7HyLYM3uEoDT6cEX6flK8dydfJO1D0My3sd22dBJd5Qgcp2hImsnuAoABDxEUAO5MKFPVCabVUUP3W8ysWq2rZTJ56CiqXUW9924bPjpB0t9LWhUOCbtN0lWSFoVV+Lj0VzWSPq1MHZsTrQuSNH1eMr1sV1z6sOnsGwQ1wBsJOr4FfF3SBxLKfKOaTBoddfhoDjJ56Egj0y06Est0VY1A0teBUYK2v81h9HSCTqpBM/vbZtI3IRPXRi+CDrLpzaTPS6aX7Uqp4x5gtpntqIjfi6DT+6hmZVLq2FDjXo42s0nNyuSho6h2FfXea9FtncXHmdmzK+I2AzeE/zDNpk8r8weCtmdF4iw8rjYLMmn6vGR62a40OnYB00K5KFPDc62QSaPjYII+kW0V8SIYidIKmTx0FNWuot57LN3mCLZJeh3wbTPbBSBpHMGQrMqHlSZ9WplfAS8zswcqT0h6sAXp85LpZbvS6HgPcLWkX7J7tNgM4FnAO1okk0bH94H9zOzWKvdyXYtk8tBRVLuKeu/xJBlrWvQAHAF8k6D0dk8Yfh/GHdls+iZk3g48N+ZctZmyidLnJdPLdqXREZ4bRzCX4zXAa8Pf4+t8x4lk0ujw4CEauqqPIIqCNUdkVYZgtiJ9WhnHcZyi0bWOwHEcx2mMrho+6jiO4yTHHYHjZIykd0gayFImDx1uV/F0pJWppNtGDY0h6VCC5WXH7tHMftyq9HnJuF3FsyuFjkOAmyTdQrBy62qr3yabVCYPHW5X8XSklSmjK/sIJP0bwcJadxAsnwtgZlZ1E5Wk6fOScbuKZ1caHaGcCFaXfAswl2BhvEvM7L5WyeShw+0qno60MlG6tUZwOsHa8U9llD4vGbereHal0YGZmaTfEqxLvxMYAC6XtNbM3t8KmTx0uF3F05FWpvICXReAqwgmWmSSPi8Zt6t4dqXU8S7gZoKdwV4HTAzjxwH3tUImDx1uV/F0pJWpDF1VI5D03wTT/h8HbpV0NTBWcjOzdzWTPi8Zt6t4dqXREeFAgq08y5aBMLNdkk5rkUweOtyu4ulIK1NGV/URSHpzjdNmZpc2kz4vGbereHal0VEhfwLBDl9fUrBxyH5mdn8rZfLQ4XYVT0damTIaqTZ0WgDe3Uhc2vR5ybhdxbMrpY6PEOzYdU94PI0qe0I3I5OHDrereDrSyuxxjSSJOyVQfc/QX7QqfV4yblfx7Eqp41aCFSF/EYmL3YM3jUweOtyu4ulIK1MZuq2P4AyC7Q1L++SW2J9gI/Om0ucl43YVz640OiL82cxMkoXX2rdO+jQyeehwu4qnI61MGV3lCAjW4H6YoPPk3yPxjwLVNnFImj4vGbereHal0VHiW5I+D/RLehvBJuNfaLFMHjrcruLpSCtTRld1FgNIGk8ws+7lWaTPS8btKp5daXREZBcQTPhReI21rZbJQ4fbVTwdaWXKSNKO1CkBuALoyyp9XjJuV/HsSqPDg4eih25rGirxJHC7pLXAY6VIix/rnTR9XjJuV/HsSqxD0quBfyPY0lJhMDM7oFUyeehwu4qnI63MHtcw666mISB2zLeZfbkV6fOScbuKZ1dKHfcCrzSzO+PSNCuThw63q3g60srsQburJFkFYB+CNWEySZ+XjNtVPLtSpE80pjuNTB463K7i6UgrUxm6tUbwSuAzwF5mdqSk5wEfs/gVJROlz0vG7SqeXSl1/BfBUsHfpXxZiu+0SiYPHW5X8XSklamkW/sIzgdeAFwHYGa3SjqyhenzknG7imdXGh0HEKxRtDASZ0Ctf9SkMnnocLuKpyOtTBnd6gh2mtl2SdG4WlWfpOnzknG7imdXYh1m9pY6NjQtk4eONDK9bFdR770a3eoINkp6IzBe0lEEy7T+tIXp85Jxu4pnV8PptXvF0qpY7VVRG5LJQ4fbVTwdaWXi6NY9i98JzCZoL7sM2A68p4Xp85Jxu4pnV5L06wnWid8bOA74ZRiex+7dzZqVyUOH21U8HWllqtNsb3ORQvhA3gNcCPw9MKGV6fOScbuKZ1caHRHZawk3CwmPJwLXtlImDx1uV/F0pJWpDN1WI/gywX6dtwOnEIzuaGX6vGTcruLZlUZHiWkEi9OV2C+Ma6VMHjrcruLpSCtTThKvUfQA3B75PYEqSwY3kz4vGbereHal0RFJ/xZgBFgZhvuBN7dSJg8dblfxdKSVqQxdNY9A0i1mdlzccbPp85Jxu4pnVxodFfKHAC8MD39uZr9ttUweOtyu4ulIK1NGEq9R9EDQQfJIGB4FdkZ+P9Js+rxk3K7i2ZVGR0T2cuBUYFyCbzmRTB463K7i6Ugrs8c10gp68OChsQC8HPgacB/wKWBmq2Xy0OF2FU9HWpk9rpH1P4EHDx6CAPQBi4AHCeYevIXIaI9WyOShw+0qno60MqXQVX0EjlNUJE0BzgTOAh4iKMGdABxrZie2QiYPHW5X8XSklSkjj5KQBw+9HAjWfLkDWAJMrTi3vhUyeehwu4qnI61MZfAageNkjKS/NrNrspTJQ4fbVTwdaWX2oNFSjQcPHpIF4PnAIZHjNwHfAz4HDLZCJg8dblfxdKSViQvdNrPYcYrE54E/A0iaTzCi41KC9YkubpFMHjrcruLpSCtTnXaXmjx46NYA3Bb5fRFwfuT41lbI5KHD7SqejrQyccFrBI6THeMllZZ6fxkQbceNWwI+qUweOtyu4ulIK1OVbt2PwHGKwNeBH0n6I/AEcD2ApGcRVN9bIZOHDrereDrSylTFRw05ToZIehEwFVhjZo+FcUcD+5nZLa2QyUOH21U8HWllql7HHYHjOE5v430EjuM4PY47AsdxnB7HHYHjOE6P447A6RoUsE7SKZG410ta1WId10g6QNJhkq6VdKekTZLeHUk3KGmtpF+Gfwci55ZIulfS3ZKGIvHHS7o9PPc5SQrjz5d0dg2bTpP00Vbdo9N7uCNwugYLRj4sAv5D0t6S9gU+Cbw9zfUkja8SfSrBRJ5HCDanea+ZHQO8CHi7pFlhug8AV5vZUcDV4THh+TcAs4GTgaURPcuA84CjwnByg6b+APgbSZMT3qLjAO4InC7DzDYC/wf8E/AR4KvAv0i6SdIvJL0KQNIRkq6XdEsYXhLGnxiW8i8j2Ki+kr8jWM8FM3u4NETPzB4F7gQODdO9imDDe8K/p0fiv2FmT5nZ/cC9wAskTQUOMLOfhQ7t0ojMnwjGiSPpXZLukLRB0jdC3QZcB5yW/sk5vYxPKHO6kY8CtxCsw/J94BozO0dSP3CjpB8CvwcWmNmTko4imJwzN5R/ATAnzKgr+Svg7ysjJR0B/CXw8zDqYDN7GAKHIekvwvhDgRsiopvDuB3h78p4zOwzkfgPAEea2VPh/ZRYD8wDvlXtgThOLdwROF2HmT0m6ZsEJenXA6+U9L7w9N7ADILNOy6U9DyC/YiPjlzixhgnAMGqjo9GIyTtB3wbeE/YZFQLVTO5RnwlG4CvSfou8N1I/O+BaXV0O05V3BE43cquMAh4jZndHT0p6Xzgd8BzCZpIn4ycfqzGdXdKGmdmu8LrTCRwAl8zs+9E0v1O0tSwNjCVIKOGoKR/WCTddAKntDn8XRlfySuA+cDfAB+SNNvMdhI4uCdq2O04sXgfgdPtrAbeGRmB85dhfB/wcJihnwVU6xiuxt3AM8JrCbgEuNPM/qMi3RXAm8PfbybsVwjj3yBpkqQjCTqFbwybkR6V9KLwum+KyBDqGwccZmbXAu8H+oH9wtNHAxsbvAfHKcMdgdPtfByYCGyQtDE8BlgKvFnSDQSZaK1aQJQfACeGv/+KwIn8taRbw3BqeO5TwAJJvwQWhMeY2SaCdvw7gFXA283s6VBmGPgiQQfyfcBVFbrHA1+VdDvwC+A/zWw0PHdSaJvjJMbXGnKcBITNPJea2YJ221JC0sHAZWb2snbb4nQmXiNwnASETThfkHRAu22JMAN4b7uNcDoXrxE4juP0OF4jcBzH6XHcETiO4/Q47ggcx3F6HHcEjuM4PY47AsdxnB7n/wNtUwudeTCa6gAAAABJRU5ErkJggg==\n",
=======
      "image/png": "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\n",
      "text/plain": [
       "<Figure size 432x288 with 1 Axes>"
      ]
     },
     "metadata": {
      "needs_background": "light"
     },
     "output_type": "display_data"
    }
   ],
   "source": [
    "#trim_4b_2bath_df[\"Date\"] = pd.to_datetime(trim_4b_2bath_df[\"Date\"]).dt.to_period('M')\n",
    "\n",
    "fig1, ax1 = plt.subplots()\n",
    "ax1.set_title('Four Bedroom Two bathroom house price')\n",
    "#                 clean_data[(clean_data['Date'] >= '2007-01') & (clean_data['Date'] <= '2019-06')]\n",
    "ax1.boxplot(data2, showfliers=False)\n",
    "\n",
    "plt.xlabel(\"Year (2000's)\")\n",
    "plt.ylabel('Price')\n",
    "plt.xticks(np.arange(27),[\"\",'Perth 07','Perth 08','Perth 09','Perth 10','Perth 11','Perth 12','Perth 13','Perth 14','Perth 15','Perth 16','Perth 17','Perth 18','Perth 19',\n",
    "                          'Sydney 07','Sydney 08','Sydney 09','Sydney 10','Sydney 11','Sydney 12','Sydney 13','Sydney 14','Sydney 15','Sydney 16','Sydney 17','Sydney 18','Sydney 19'],rotation='vertical' )\n",
    "plt.show()"
   ]
  },
  {
   "cell_type": "code",
   "execution_count": 99,
   "metadata": {},
   "outputs": [
    {
     "data": {
      "image/png": "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\n",
>>>>>>> main
      "text/plain": [
       "<Figure size 432x288 with 1 Axes>"
      ]
     },
     "metadata": {
      "needs_background": "light"
     },
     "output_type": "display_data"
    }
   ],
   "source": [
    "#trim_4b_2bath_df[\"Date\"] = pd.to_datetime(trim_4b_2bath_df[\"Date\"]).dt.to_period('M')\n",
    "\n",
    "fig1, ax1 = plt.subplots()\n",
    "ax1.set_title('Four Bedroom Two bathroom house price')\n",
    "#                 clean_data[(clean_data['Date'] >= '2007-01') & (clean_data['Date'] <= '2019-06')]\n",
    "ax1.boxplot(data2)\n",
    "\n",
    "plt.xlabel(\"Year (2000's)\")\n",
    "plt.ylabel('Price')\n",
    "plt.xticks(np.arange(27),[\"\",'Perth 07','Perth 08','Perth 09','Perth 10','Perth 11','Perth 12','Perth 13','Perth 14','Perth 15','Perth 16','Perth 17','Perth 18','Perth 19',\n",
    "                          'Sydney 07','Sydney 08','Sydney 09','Sydney 10','Sydney 11','Sydney 12','Sydney 13','Sydney 14','Sydney 15','Sydney 16','Sydney 17','Sydney 18','Sydney 19'],rotation='vertical' )\n",
    "plt.show()"
   ]
  },
  {
   "cell_type": "code",
   "execution_count": null,
   "metadata": {},
   "outputs": [],
   "source": []
<<<<<<< HEAD
  },
  {
   "cell_type": "code",
   "execution_count": null,
   "metadata": {},
   "outputs": [],
   "source": []
=======
>>>>>>> main
  }
 ],
 "metadata": {
  "anaconda-cloud": {},
  "kernel_info": {
   "name": "python3"
  },
  "kernelspec": {
   "display_name": "Python 3 (ipykernel)",
   "language": "python",
   "name": "python3"
  },
  "language_info": {
   "codemirror_mode": {
    "name": "ipython",
    "version": 3
   },
   "file_extension": ".py",
   "mimetype": "text/x-python",
   "name": "python",
   "nbconvert_exporter": "python",
   "pygments_lexer": "ipython3",
   "version": "3.9.7"
  },
  "latex_envs": {
   "LaTeX_envs_menu_present": true,
   "autoclose": false,
   "autocomplete": true,
   "bibliofile": "biblio.bib",
   "cite_by": "apalike",
   "current_citInitial": 1,
   "eqLabelWithNumbers": true,
   "eqNumInitial": 1,
   "hotkeys": {
    "equation": "Ctrl-E",
    "itemize": "Ctrl-I"
   },
   "labels_anchors": false,
   "latex_user_defs": false,
   "report_style_numbering": false,
   "user_envs_cfg": false
  },
  "nteract": {
   "version": "0.2.0"
  }
 },
 "nbformat": 4,
 "nbformat_minor": 4
}
