{
 "cells": [
  {
   "cell_type": "code",
   "execution_count": 1,
   "id": "c680e05f",
   "metadata": {},
   "outputs": [],
   "source": [
    "# Dependencies and Setup\n",
    "import pandas as pd\n",
    "from datetime import datetime \n",
    "import matplotlib.pyplot as plt\n",
    "import scipy.stats as st\n",
    "import numpy as np\n",
    "from scipy.stats import linregress\n",
    "\n",
    "# Read Ironore_price_market_index_test.csv File and store into Pandas data frame\n",
    "\n",
    "iron_data_df = pd.read_csv('Outputs/iron_data.csv')\n",
    "four_bed_two_bath = pd.read_csv('Outputs/four_bed_two_bath_housing.csv')"
   ]
  },
  {
   "cell_type": "markdown",
   "id": "6d30b342",
   "metadata": {},
   "source": [
    "# ANALYSIS"
   ]
  },
  {
   "cell_type": "markdown",
   "id": "937d2108",
   "metadata": {},
   "source": [
    "#### All the analysis tables are from 2007-01(period[M] format) to 2019-06. The date columns are in format 2007-01-01(datetime format) just for plotting purpose(which will not effect elsehwere) as it wouldnot let me plot in period format"
   ]
  },
  {
   "cell_type": "markdown",
   "id": "5a7eab87",
   "metadata": {},
   "source": [
    "### RQ1:Is there increase or decrease in commodity price(iron ore price) over the years?"
   ]
  },
  {
   "cell_type": "code",
   "execution_count": 2,
   "id": "93565af4",
   "metadata": {},
   "outputs": [
    {
     "data": {
      "text/html": [
       "<div>\n",
       "<style scoped>\n",
       "    .dataframe tbody tr th:only-of-type {\n",
       "        vertical-align: middle;\n",
       "    }\n",
       "\n",
       "    .dataframe tbody tr th {\n",
       "        vertical-align: top;\n",
       "    }\n",
       "\n",
       "    .dataframe thead th {\n",
       "        text-align: right;\n",
       "    }\n",
       "</style>\n",
       "<table border=\"1\" class=\"dataframe\">\n",
       "  <thead>\n",
       "    <tr style=\"text-align: right;\">\n",
       "      <th></th>\n",
       "      <th>Date</th>\n",
       "      <th>Iron_Price</th>\n",
       "    </tr>\n",
       "  </thead>\n",
       "  <tbody>\n",
       "    <tr>\n",
       "      <th>84</th>\n",
       "      <td>2007-01-01</td>\n",
       "      <td>36.63</td>\n",
       "    </tr>\n",
       "    <tr>\n",
       "      <th>87</th>\n",
       "      <td>2007-04-01</td>\n",
       "      <td>36.63</td>\n",
       "    </tr>\n",
       "    <tr>\n",
       "      <th>90</th>\n",
       "      <td>2007-07-01</td>\n",
       "      <td>36.63</td>\n",
       "    </tr>\n",
       "    <tr>\n",
       "      <th>93</th>\n",
       "      <td>2007-10-01</td>\n",
       "      <td>36.63</td>\n",
       "    </tr>\n",
       "    <tr>\n",
       "      <th>96</th>\n",
       "      <td>2008-01-01</td>\n",
       "      <td>60.80</td>\n",
       "    </tr>\n",
       "    <tr>\n",
       "      <th>...</th>\n",
       "      <td>...</td>\n",
       "      <td>...</td>\n",
       "    </tr>\n",
       "    <tr>\n",
       "      <th>229</th>\n",
       "      <td>2019-01-01</td>\n",
       "      <td>83.43</td>\n",
       "    </tr>\n",
       "    <tr>\n",
       "      <th>230</th>\n",
       "      <td>2019-01-01</td>\n",
       "      <td>86.37</td>\n",
       "    </tr>\n",
       "    <tr>\n",
       "      <th>231</th>\n",
       "      <td>2019-04-01</td>\n",
       "      <td>93.79</td>\n",
       "    </tr>\n",
       "    <tr>\n",
       "      <th>232</th>\n",
       "      <td>2019-04-01</td>\n",
       "      <td>97.76</td>\n",
       "    </tr>\n",
       "    <tr>\n",
       "      <th>233</th>\n",
       "      <td>2019-04-01</td>\n",
       "      <td>112.90</td>\n",
       "    </tr>\n",
       "  </tbody>\n",
       "</table>\n",
       "<p>135 rows × 2 columns</p>\n",
       "</div>"
      ],
      "text/plain": [
       "          Date  Iron_Price\n",
       "84  2007-01-01       36.63\n",
       "87  2007-04-01       36.63\n",
       "90  2007-07-01       36.63\n",
       "93  2007-10-01       36.63\n",
       "96  2008-01-01       60.80\n",
       "..         ...         ...\n",
       "229 2019-01-01       83.43\n",
       "230 2019-01-01       86.37\n",
       "231 2019-04-01       93.79\n",
       "232 2019-04-01       97.76\n",
       "233 2019-04-01      112.90\n",
       "\n",
       "[135 rows x 2 columns]"
      ]
     },
     "execution_count": 2,
     "metadata": {},
     "output_type": "execute_result"
    }
   ],
   "source": [
    "#Storing the original iron_data in a variable\n",
    "iron_filtered = iron_data_df\n",
    "#As the Date column was in object type converting to datetime for plotting purpose\n",
    "iron_filtered[\"Date\"]=pd.to_datetime(iron_filtered[\"Date\"])\n",
    "iron_filtered[\"Date\"]=iron_filtered[\"Date\"].astype(str)\n",
    "iron_filtered[\"Date\"]=pd.to_datetime(iron_filtered[\"Date\"])\n",
    "#Selecting the iron ore data from year 2007 till 2021\n",
    "irondata_filtered_df =iron_filtered[(iron_filtered['Date'] >='2007-01-01')& (iron_filtered['Date'] <='2019-06-01')]\n",
    "irondata_filtered_df.reset_index()\n",
    "irondata_filtered_df = irondata_filtered_df[[\"Date\",\"Iron_Price\"]]\n",
    "new_iron_data=irondata_filtered_df.drop_duplicates()\n",
    "new_iron_data\n",
    "#irondata_filtered_df.loc[irondata_filtered_df.duplicated(), :]"
   ]
  },
  {
   "cell_type": "code",
   "execution_count": 3,
   "id": "bb5408fd",
   "metadata": {},
   "outputs": [
    {
     "data": {
      "image/png": "[encoded data removed]",
      "text/plain": [
       "<Figure size 432x288 with 1 Axes>"
      ]
     },
     "metadata": {
      "needs_background": "light"
     },
     "output_type": "display_data"
    }
   ],
   "source": [
    "#Setting the x_axis and y_axis from the irondata_filtered dataframe\n",
    "x_axis=irondata_filtered_df[\"Date\"]\n",
    "y_axis=irondata_filtered_df[\"Iron_Price\"]\n",
    "\n",
    "#Figure size\n",
    "#fig1, ax1 = plt.subplots(figsize=(9,6))\n",
    "\n",
    "#Setting the x-labels, y-labels and title\n",
    "plt.xlabel(\"Date\")\n",
    "plt.ylabel(\"Iron Price (USD)\")\n",
    "plt.title(\"Iron Price over the years\", fontsize=14)\n",
    "#plt.xticks([\"Q1\",\"Q2\",\"Q3\",\"Q4\"],[\"\",'2007','2008','2009','2010','2011','2012','2013','2014','2015','2016','2017','2018','2019',],rotation='vertical' )\n",
    "#Plotting the line\n",
    "plt.plot(x_axis, y_axis, linewidth=\"1\")\n",
    "\n",
    "#Save the fig\n",
    "#plt.savefig(\"images/lineplots.jpg\")\n",
    "plt.show()"
   ]
  },
  {
   "cell_type": "markdown",
   "id": "d10a769f",
   "metadata": {},
   "source": [
    "## RQ2: Is there increase or decrease in housingprices over the years?"
   ]
  },
  {
   "cell_type": "markdown",
   "id": "96c7d3ea",
   "metadata": {},
   "source": [
    "## RQ3: Is there coorelation between housing prices and commodity prices?"
   ]
  },
  {
   "cell_type": "markdown",
   "id": "3b2ef997",
   "metadata": {},
   "source": [
    "##### The house prices are unevenly distributed over the month of that year so I have averaged the house prices for each month so that our data would look uniform"
   ]
  },
  {
   "cell_type": "markdown",
   "id": "3f112739",
   "metadata": {},
   "source": [
    "### Houses with 4 Bedroom and 2 bathroom"
   ]
  },
  {
   "cell_type": "markdown",
   "id": "64824528",
   "metadata": {},
   "source": [
    "### Perth"
   ]
  },
  {
   "cell_type": "code",
   "execution_count": 4,
   "id": "e6472160",
   "metadata": {},
   "outputs": [
    {
     "data": {
      "text/html": [
       "<div>\n",
       "<style scoped>\n",
       "    .dataframe tbody tr th:only-of-type {\n",
       "        vertical-align: middle;\n",
       "    }\n",
       "\n",
       "    .dataframe tbody tr th {\n",
       "        vertical-align: top;\n",
       "    }\n",
       "\n",
       "    .dataframe thead th {\n",
       "        text-align: right;\n",
       "    }\n",
       "</style>\n",
       "<table border=\"1\" class=\"dataframe\">\n",
       "  <thead>\n",
       "    <tr style=\"text-align: right;\">\n",
       "      <th></th>\n",
       "      <th>Date</th>\n",
       "      <th>Average_Houseprice_Perth</th>\n",
       "    </tr>\n",
       "  </thead>\n",
       "  <tbody>\n",
       "    <tr>\n",
       "      <th>0</th>\n",
       "      <td>2007-01-01</td>\n",
       "      <td>892000.00</td>\n",
       "    </tr>\n",
       "    <tr>\n",
       "      <th>1</th>\n",
       "      <td>2007-04-01</td>\n",
       "      <td>869633.33</td>\n",
       "    </tr>\n",
       "    <tr>\n",
       "      <th>2</th>\n",
       "      <td>2007-07-01</td>\n",
       "      <td>850222.22</td>\n",
       "    </tr>\n",
       "    <tr>\n",
       "      <th>3</th>\n",
       "      <td>2007-10-01</td>\n",
       "      <td>848909.09</td>\n",
       "    </tr>\n",
       "    <tr>\n",
       "      <th>4</th>\n",
       "      <td>2008-01-01</td>\n",
       "      <td>812615.38</td>\n",
       "    </tr>\n",
       "  </tbody>\n",
       "</table>\n",
       "</div>"
      ],
      "text/plain": [
       "        Date  Average_Houseprice_Perth\n",
       "0 2007-01-01                 892000.00\n",
       "1 2007-04-01                 869633.33\n",
       "2 2007-07-01                 850222.22\n",
       "3 2007-10-01                 848909.09\n",
       "4 2008-01-01                 812615.38"
      ]
     },
     "execution_count": 4,
     "metadata": {},
     "output_type": "execute_result"
    }
   ],
   "source": [
    "#For Perth 4 bed and 2 bathroom\n",
    "#Filter as per city and then upto date required\n",
    "fourbed_twobath_perth=four_bed_two_bath[four_bed_two_bath['CITY']==\"Perth\"]\n",
    "fourbed_twobath_perthonly=fourbed_twobath_perth[fourbed_twobath_perth['Date']<=\"2019-06\"]\n",
    "pd.set_option('display.float_format', lambda x: '%.2f' % x)\n",
    "\n",
    "#Using groupby by date to calculate average house price month wise\n",
    "#Then converting series to a dataframe\n",
    "perth_4bed2bath_edited = fourbed_twobath_perthonly.groupby(\"Date\")[\"PRICE\"].mean()\n",
    "perth_4bed2bath_avgprice = pd.DataFrame({'Date':perth_4bed2bath_edited.index, 'Average_Houseprice_Perth':perth_4bed2bath_edited.values})\n",
    "\n",
    "#As the date type is in period which cant be plotted in graph so converting to datetime\n",
    "perth_4bed2bath_avgprice_final =perth_4bed2bath_avgprice\n",
    "perth_4bed2bath_avgprice_final[\"Date\"]=perth_4bed2bath_avgprice_final[\"Date\"].astype(str)\n",
    "perth_4bed2bath_avgprice_final[\"Date\"]=pd.to_datetime(perth_4bed2bath_avgprice_final[\"Date\"])\n",
    "perth_4bed2bath_avgprice_final.head()"
   ]
  },
  {
   "cell_type": "code",
   "execution_count": 5,
   "id": "02d878d4",
   "metadata": {},
   "outputs": [
    {
     "data": {
      "text/html": [
       "<div>\n",
       "<style scoped>\n",
       "    .dataframe tbody tr th:only-of-type {\n",
       "        vertical-align: middle;\n",
       "    }\n",
       "\n",
       "    .dataframe tbody tr th {\n",
       "        vertical-align: top;\n",
       "    }\n",
       "\n",
       "    .dataframe thead th {\n",
       "        text-align: right;\n",
       "    }\n",
       "</style>\n",
       "<table border=\"1\" class=\"dataframe\">\n",
       "  <thead>\n",
       "    <tr style=\"text-align: right;\">\n",
       "      <th></th>\n",
       "      <th>Date</th>\n",
       "      <th>Average_Houseprice_Sydney</th>\n",
       "    </tr>\n",
       "  </thead>\n",
       "  <tbody>\n",
       "    <tr>\n",
       "      <th>0</th>\n",
       "      <td>2007-01-01</td>\n",
       "      <td>763464.36</td>\n",
       "    </tr>\n",
       "    <tr>\n",
       "      <th>1</th>\n",
       "      <td>2007-04-01</td>\n",
       "      <td>1011212.96</td>\n",
       "    </tr>\n",
       "    <tr>\n",
       "      <th>2</th>\n",
       "      <td>2007-07-01</td>\n",
       "      <td>933351.85</td>\n",
       "    </tr>\n",
       "    <tr>\n",
       "      <th>3</th>\n",
       "      <td>2007-10-01</td>\n",
       "      <td>994728.07</td>\n",
       "    </tr>\n",
       "    <tr>\n",
       "      <th>4</th>\n",
       "      <td>2008-01-01</td>\n",
       "      <td>1062655.85</td>\n",
       "    </tr>\n",
       "  </tbody>\n",
       "</table>\n",
       "</div>"
      ],
      "text/plain": [
       "        Date  Average_Houseprice_Sydney\n",
       "0 2007-01-01                  763464.36\n",
       "1 2007-04-01                 1011212.96\n",
       "2 2007-07-01                  933351.85\n",
       "3 2007-10-01                  994728.07\n",
       "4 2008-01-01                 1062655.85"
      ]
     },
     "execution_count": 5,
     "metadata": {},
     "output_type": "execute_result"
    }
   ],
   "source": [
    "#For Sydney 4 bed and 2 bathroom\n",
    "#Filter as per city and then upto date required\n",
    "fourbed_twobath_sydney=four_bed_two_bath[four_bed_two_bath['CITY']==\"Sydney\"]\n",
    "fourbed_twobath_sydneyonly=fourbed_twobath_sydney[fourbed_twobath_sydney['Date']<=\"2019-06\"]\n",
    "pd.set_option('display.float_format', lambda x: '%.2f' % x)\n",
    "\n",
    "#Using groupby by date to calculate average house price month wise\n",
    "#Then converting series to a dataframe\n",
    "sydney_4bed2bath_edited = fourbed_twobath_sydneyonly.groupby(\"Date\")[\"PRICE\"].mean()\n",
    "sydney_4bed2bath_avgprice = pd.DataFrame({'Date':sydney_4bed2bath_edited.index, 'Average_Houseprice_Sydney':sydney_4bed2bath_edited.values})\n",
    "\n",
    "#As the date type is in period which cant be plotted in graph so converting to datetime\n",
    "sydney_4bed2bath_avgprice_final =sydney_4bed2bath_avgprice\n",
    "sydney_4bed2bath_avgprice_final[\"Date\"]=sydney_4bed2bath_avgprice_final[\"Date\"].astype(str)\n",
    "sydney_4bed2bath_avgprice_final[\"Date\"]=pd.to_datetime(sydney_4bed2bath_avgprice_final[\"Date\"])\n",
    "sydney_4bed2bath_avgprice_final.head()"
   ]
  },
  {
   "cell_type": "markdown",
   "id": "d59bb746",
   "metadata": {},
   "source": [
    "##### Combined Dataframe with iron prices and Perth/Sydney houseprice with 4 bedroom and 2 bathroom"
   ]
  },
  {
   "cell_type": "code",
   "execution_count": 6,
   "id": "2ddb7986",
   "metadata": {},
   "outputs": [
    {
     "data": {
      "text/html": [
       "<div>\n",
       "<style scoped>\n",
       "    .dataframe tbody tr th:only-of-type {\n",
       "        vertical-align: middle;\n",
       "    }\n",
       "\n",
       "    .dataframe tbody tr th {\n",
       "        vertical-align: top;\n",
       "    }\n",
       "\n",
       "    .dataframe thead th {\n",
       "        text-align: right;\n",
       "    }\n",
       "</style>\n",
       "<table border=\"1\" class=\"dataframe\">\n",
       "  <thead>\n",
       "    <tr style=\"text-align: right;\">\n",
       "      <th></th>\n",
       "      <th>Date</th>\n",
       "      <th>Iron_Price</th>\n",
       "      <th>Average_Houseprice_Perth</th>\n",
       "      <th>Average_Houseprice_Sydney</th>\n",
       "    </tr>\n",
       "  </thead>\n",
       "  <tbody>\n",
       "    <tr>\n",
       "      <th>0</th>\n",
       "      <td>2007-01-01</td>\n",
       "      <td>36.63</td>\n",
       "      <td>892000.00</td>\n",
       "      <td>763464.36</td>\n",
       "    </tr>\n",
       "    <tr>\n",
       "      <th>1</th>\n",
       "      <td>2007-04-01</td>\n",
       "      <td>36.63</td>\n",
       "      <td>869633.33</td>\n",
       "      <td>1011212.96</td>\n",
       "    </tr>\n",
       "    <tr>\n",
       "      <th>2</th>\n",
       "      <td>2007-07-01</td>\n",
       "      <td>36.63</td>\n",
       "      <td>850222.22</td>\n",
       "      <td>933351.85</td>\n",
       "    </tr>\n",
       "    <tr>\n",
       "      <th>3</th>\n",
       "      <td>2007-10-01</td>\n",
       "      <td>36.63</td>\n",
       "      <td>848909.09</td>\n",
       "      <td>994728.07</td>\n",
       "    </tr>\n",
       "    <tr>\n",
       "      <th>4</th>\n",
       "      <td>2008-01-01</td>\n",
       "      <td>60.80</td>\n",
       "      <td>812615.38</td>\n",
       "      <td>1062655.85</td>\n",
       "    </tr>\n",
       "  </tbody>\n",
       "</table>\n",
       "</div>"
      ],
      "text/plain": [
       "        Date  Iron_Price  Average_Houseprice_Perth  Average_Houseprice_Sydney\n",
       "0 2007-01-01       36.63                 892000.00                  763464.36\n",
       "1 2007-04-01       36.63                 869633.33                 1011212.96\n",
       "2 2007-07-01       36.63                 850222.22                  933351.85\n",
       "3 2007-10-01       36.63                 848909.09                  994728.07\n",
       "4 2008-01-01       60.80                 812615.38                 1062655.85"
      ]
     },
     "execution_count": 6,
     "metadata": {},
     "output_type": "execute_result"
    }
   ],
   "source": [
    "#Merging the irondata, perth and sydney house prices with 4 bedroom and 2 bathroom\n",
    "houses_4bed2bath_iron_combined = new_iron_data.merge(perth_4bed2bath_avgprice_final.merge(sydney_4bed2bath_avgprice_final, on=\"Date\"), on=\"Date\")\n",
    "houses_4bed2bath_iron_combined.head()"
   ]
  },
  {
   "cell_type": "code",
   "execution_count": 7,
   "id": "bd9bde0b",
   "metadata": {},
   "outputs": [
    {
     "data": {
      "image/png": "[encoded data removed]",
      "text/plain": [
       "<Figure size 576x360 with 1 Axes>"
      ]
     },
     "metadata": {
      "needs_background": "light"
     },
     "output_type": "display_data"
    }
   ],
   "source": [
    "#Setting the x_axis and y_axis from the irondata_filtered dataframe\n",
    "x_axis=houses_4bed2bath_iron_combined[\"Date\"]\n",
    "y_axis=houses_4bed2bath_iron_combined[\"Average_Houseprice_Perth\"]\n",
    "\n",
    "#Figure size\n",
    "fig1, ax1 = plt.subplots(figsize=(8,5))\n",
    "\n",
    "#Setting the x-labels, y-labels and title\n",
    "plt.xlabel(\"Date\")\n",
    "plt.ylabel(\"4Bed and 2Bath House Price(Perth)\")\n",
    "plt.title(\" 4 bedroom and 2 bathroom HousePrice in Perth over the years\", fontsize=10)\n",
    "ax1.ticklabel_format(style='plain')\n",
    "\n",
    "#Plotting the line\n",
    "plt.plot(x_axis, y_axis, linewidth=\"1\")\n",
    "\n",
    "#Save the fig\n",
    "#plt.savefig(\"images/lineplots.jpg\")\n",
    "plt.show()"
   ]
  },
  {
   "cell_type": "markdown",
   "id": "b31c7b5c",
   "metadata": {},
   "source": [
    "#####  Note :The highest value showing in 2007 in the above graph is the price in Upper Swan Suburb"
   ]
  },
  {
   "cell_type": "code",
   "execution_count": 8,
   "id": "0df020e5",
   "metadata": {},
   "outputs": [
    {
     "data": {
      "image/png": "[encoded data removed]",
      "text/plain": [
       "<Figure size 576x360 with 1 Axes>"
      ]
     },
     "metadata": {
      "needs_background": "light"
     },
     "output_type": "display_data"
    }
   ],
   "source": [
    "#Setting the x_axis and y_axis from the irondata_filtered dataframe\n",
    "x_axis=houses_4bed2bath_iron_combined[\"Date\"]\n",
    "y_axis=houses_4bed2bath_iron_combined[\"Average_Houseprice_Sydney\"]\n",
    "\n",
    "#Figure size\n",
    "fig1, ax1 = plt.subplots(figsize=(8,5))\n",
    "\n",
    "#Setting the x-labels, y-labels and title\n",
    "plt.xlabel(\"Date\")\n",
    "plt.ylabel(\"4Bed and 2Bath House Price(Sydney)\")\n",
    "plt.title(\" 4 bedroom  and 2 bathroom HousePrice in sydney over the years\", fontsize=10)\n",
    "ax1.ticklabel_format(style='plain')\n",
    "\n",
    "#Plotting the line\n",
    "plt.plot(x_axis, y_axis, linewidth=\"1\")\n",
    "\n",
    "#Save the fig\n",
    "#plt.savefig(\"images/lineplots.jpg\")\n",
    "plt.show()"
   ]
  },
  {
   "cell_type": "code",
   "execution_count": 9,
   "id": "e5884050",
   "metadata": {},
   "outputs": [
    {
     "data": {
      "image/png": "[encoded data removed]",
      "text/plain": [
       "<Figure size 576x360 with 1 Axes>"
      ]
     },
     "metadata": {
      "needs_background": "light"
     },
     "output_type": "display_data"
    },
    {
     "name": "stdout",
     "output_type": "stream",
     "text": [
      "The correlation between iron prices and 4 bedroom and 2 bathroom house prices in perth is 0.28\n"
     ]
    }
   ],
   "source": [
    "#Setting the x_axis and y_axis \n",
    "x_values=houses_4bed2bath_iron_combined[\"Iron_Price\"]\n",
    "y_values=houses_4bed2bath_iron_combined[\"Average_Houseprice_Perth\"]\n",
    "\n",
    "fig1, ax1 = plt.subplots(figsize=(8,5))\n",
    "\n",
    "#regression part\n",
    "(slope, intercept, rvalue, pvalue, stderr) = linregress(x_values, y_values)\n",
    "regress_values = x_values*slope+intercept\n",
    "line_eq =f\"y= {round(slope,2)} x + {round(intercept,2)}\"\n",
    "\n",
    "# Using scatter plot to see if they are correlated\n",
    "plt.scatter(x_values,y_values)\n",
    "plt.plot(x_values,regress_values,\"r-\", label='y={:.2f}x+{:.2f}'.format(slope,intercept))\n",
    "plt.annotate(line_eq,(6,10),fontsize=10,color=\"red\")\n",
    "ax1.ticklabel_format(style='plain')\n",
    "\n",
    "plt.xlabel('Iron Prices')\n",
    "plt.ylabel('3Bed and 2Bath House Prices in Perth')\n",
    "plt.title('Iron Prices vs House Prices in Perth')\n",
    "plt.legend(fontsize=12, loc=\"best\")\n",
    "plt.show()\n",
    "\n",
    "#Computing the Pearson correlation coefficient\n",
    "iron_price = houses_4bed2bath_iron_combined.iloc[:,1]\n",
    "perth_houseprice = houses_4bed2bath_iron_combined.iloc[:,2]\n",
    "\n",
    "correlation = st.pearsonr(iron_price,perth_houseprice)\n",
    "print(f\"The correlation between iron prices and 4 bedroom and 2 bathroom house prices in perth is {round(correlation[0],2)}\")"
   ]
  },
  {
   "cell_type": "code",
   "execution_count": 10,
   "id": "31394d59",
   "metadata": {},
   "outputs": [
    {
     "data": {
      "image/png": "[encoded data removed]",
      "text/plain": [
       "<Figure size 576x360 with 1 Axes>"
      ]
     },
     "metadata": {
      "needs_background": "light"
     },
     "output_type": "display_data"
    },
    {
     "name": "stdout",
     "output_type": "stream",
     "text": [
      "The correlation between iron prices and 4 bedroom and 2 bathroom house prices in Sydney is -0.37\n"
     ]
    }
   ],
   "source": [
    "#Setting the x_axis and y_axis \n",
    "x_values=houses_4bed2bath_iron_combined[\"Iron_Price\"]\n",
    "y_values=houses_4bed2bath_iron_combined[\"Average_Houseprice_Sydney\"]\n",
    "\n",
    "fig1, ax1 = plt.subplots(figsize=(8,5))\n",
    "\n",
    "#regression part\n",
    "(slope, intercept, rvalue, pvalue, stderr) = linregress(x_values, y_values)\n",
    "regress_values = x_values*slope+intercept\n",
    "line_eq =f\"y= {round(slope,2)} x + {round(intercept,2)}\"\n",
    "\n",
    "# Using scatter plot to see if they are correlated\n",
    "plt.scatter(x_values,y_values)\n",
    "plt.plot(x_values,regress_values,\"r-\", label='y={:.2f}x+{:.2f}'.format(slope,intercept))\n",
    "plt.annotate(line_eq,(6,10),fontsize=10,color=\"red\")\n",
    "ax1.ticklabel_format(style='plain')\n",
    "\n",
    "plt.xlabel('Iron Prices')\n",
    "plt.ylabel('3Bed and 2Bath House Prices in Sydney')\n",
    "plt.title('Iron Prices vs House Prices in Sydney')\n",
    "plt.legend(fontsize=12, loc=\"best\")\n",
    "plt.show()\n",
    "\n",
    "#Computing the Pearson correlation coefficient\n",
    "iron_price = houses_4bed2bath_iron_combined.iloc[:,1]\n",
    "sydney_houseprice = houses_4bed2bath_iron_combined.iloc[:,3]\n",
    "\n",
    "correlation = st.pearsonr(iron_price,sydney_houseprice)\n",
    "print(f\"The correlation between iron prices and 4 bedroom and 2 bathroom house prices in Sydney is {round(correlation[0],2)}\")"
   ]
  },
  {
   "cell_type": "markdown",
   "id": "d6a4418f",
   "metadata": {},
   "source": [
    "### Performing T test for Iron Prices vs Perth House prices with 4 bedroom and 2 bathroom"
   ]
  },
  {
   "cell_type": "markdown",
   "id": "760290e7",
   "metadata": {},
   "source": [
    "* Checking the assumptions related to ttest"
   ]
  },
  {
   "cell_type": "code",
   "execution_count": 11,
   "id": "0d8b70ac",
   "metadata": {},
   "outputs": [
    {
     "data": {
      "text/plain": [
       "(41.058782670665856, 67801.29885068383)"
      ]
     },
     "execution_count": 11,
     "metadata": {},
     "output_type": "execute_result"
    }
   ],
   "source": [
    "#calculating the standard deviation\n",
    "population1= houses_4bed2bath_iron_combined[\"Iron_Price\"].mean()\n",
    "population2_perth= houses_4bed2bath_iron_combined[\"Average_Houseprice_Perth\"].mean()\n",
    "\n",
    "population1_std= np.std(houses_4bed2bath_iron_combined[\"Iron_Price\"])\n",
    "population2_perth_std= np.std(houses_4bed2bath_iron_combined[\"Average_Houseprice_Perth\"])\n",
    "\n",
    "population1_std, population2_perth_std"
   ]
  },
  {
   "cell_type": "code",
   "execution_count": 12,
   "id": "49aa3bb4",
   "metadata": {},
   "outputs": [
    {
     "name": "stdout",
     "output_type": "stream",
     "text": [
      "NormaltestResult(statistic=25.049976490823138, pvalue=3.6346845013894477e-06)\n"
     ]
    },
    {
     "data": {
      "image/png": "[encoded data removed]",
      "text/plain": [
       "<Figure size 432x288 with 1 Axes>"
      ]
     },
     "metadata": {
      "needs_background": "light"
     },
     "output_type": "display_data"
    }
   ],
   "source": [
    "#Checking the normality for iron price\n",
    "plt.hist(houses_4bed2bath_iron_combined[\"Iron_Price\"])\n",
    "print(st.normaltest(houses_4bed2bath_iron_combined[\"Iron_Price\"]))"
   ]
  },
  {
   "cell_type": "code",
   "execution_count": 13,
   "id": "1b208d00",
   "metadata": {},
   "outputs": [
    {
     "name": "stdout",
     "output_type": "stream",
     "text": [
      "NormaltestResult(statistic=29.318885045337833, pvalue=4.3001638571584274e-07)\n"
     ]
    },
    {
     "data": {
      "image/png": "[encoded data removed]",
      "text/plain": [
       "<Figure size 432x288 with 1 Axes>"
      ]
     },
     "metadata": {
      "needs_background": "light"
     },
     "output_type": "display_data"
    }
   ],
   "source": [
    "#Checking the normality for perth houses\n",
    "plt.hist(houses_4bed2bath_iron_combined[\"Average_Houseprice_Perth\"])\n",
    "print(st.normaltest(houses_4bed2bath_iron_combined[\"Average_Houseprice_Perth\"]))"
   ]
  },
  {
   "cell_type": "markdown",
   "id": "82152b47",
   "metadata": {},
   "source": [
    "### Perth T test result"
   ]
  },
  {
   "cell_type": "code",
   "execution_count": 14,
   "id": "7ec91900",
   "metadata": {},
   "outputs": [
    {
     "data": {
      "text/plain": [
       "Ttest_indResult(statistic=-115.79849889492345, pvalue=1.9626610860184494e-131)"
      ]
     },
     "execution_count": 14,
     "metadata": {},
     "output_type": "execute_result"
    }
   ],
   "source": [
    "st.ttest_ind(houses_4bed2bath_iron_combined[\"Iron_Price\"],houses_4bed2bath_iron_combined[\"Average_Houseprice_Perth\"],equal_var= False)"
   ]
  },
  {
   "cell_type": "markdown",
   "id": "a1991118",
   "metadata": {},
   "source": [
    "### Performing T test for Iron Prices vs Sydney House prices with 4 bedroom and 2 bathroom"
   ]
  },
  {
   "cell_type": "markdown",
   "id": "34831386",
   "metadata": {},
   "source": [
    "* Checking the assumptions related to ttest"
   ]
  },
  {
   "cell_type": "code",
   "execution_count": 15,
   "id": "2780e8b8",
   "metadata": {},
   "outputs": [
    {
     "data": {
      "text/plain": [
       "(41.058782670665856, 88642.33102201151)"
      ]
     },
     "execution_count": 15,
     "metadata": {},
     "output_type": "execute_result"
    }
   ],
   "source": [
    "#calculating the standard deviation\n",
    "population1= houses_4bed2bath_iron_combined[\"Iron_Price\"].mean()\n",
    "population2_perth= houses_4bed2bath_iron_combined[\"Average_Houseprice_Sydney\"].mean()\n",
    "\n",
    "population1_std= np.std(houses_4bed2bath_iron_combined[\"Iron_Price\"])\n",
    "population2_perth_std= np.std(houses_4bed2bath_iron_combined[\"Average_Houseprice_Sydney\"])\n",
    "\n",
    "population1_std, population2_perth_std"
   ]
  },
  {
   "cell_type": "code",
   "execution_count": 16,
   "id": "7344243e",
   "metadata": {},
   "outputs": [
    {
     "name": "stdout",
     "output_type": "stream",
     "text": [
      "NormaltestResult(statistic=5.58743137323267, pvalue=0.061193415408516326)\n"
     ]
    },
    {
     "data": {
      "image/png": "[encoded data removed]",
      "text/plain": [
       "<Figure size 432x288 with 1 Axes>"
      ]
     },
     "metadata": {
      "needs_background": "light"
     },
     "output_type": "display_data"
    }
   ],
   "source": [
    "#Checking the normality for sydney houses\n",
    "plt.hist(houses_4bed2bath_iron_combined[\"Average_Houseprice_Sydney\"])\n",
    "print(st.normaltest(houses_4bed2bath_iron_combined[\"Average_Houseprice_Sydney\"]))"
   ]
  },
  {
   "cell_type": "markdown",
   "id": "95914b68",
   "metadata": {},
   "source": [
    "### Sydney T test result"
   ]
  },
  {
   "cell_type": "code",
   "execution_count": 17,
   "id": "ade25105",
   "metadata": {},
   "outputs": [
    {
     "data": {
      "text/plain": [
       "Ttest_indResult(statistic=-135.82961086915986, pvalue=3.1253314697288555e-140)"
      ]
     },
     "execution_count": 17,
     "metadata": {},
     "output_type": "execute_result"
    }
   ],
   "source": [
    "st.ttest_ind(houses_4bed2bath_iron_combined[\"Iron_Price\"],houses_4bed2bath_iron_combined[\"Average_Houseprice_Sydney\"],equal_var= False)"
   ]
  },
  {
   "cell_type": "code",
   "execution_count": null,
   "id": "259046b4",
   "metadata": {},
   "outputs": [],
   "source": []
  }
 ],
 "metadata": {
  "kernelspec": {
   "display_name": "Python 3 (ipykernel)",
   "language": "python",
   "name": "python3"
  },
  "language_info": {
   "codemirror_mode": {
    "name": "ipython",
    "version": 3
   },
   "file_extension": ".py",
   "mimetype": "text/x-python",
   "name": "python",
   "nbconvert_exporter": "python",
   "pygments_lexer": "ipython3",
   "version": "3.9.7"
  }
 },
 "nbformat": 4,
 "nbformat_minor": 5
}
